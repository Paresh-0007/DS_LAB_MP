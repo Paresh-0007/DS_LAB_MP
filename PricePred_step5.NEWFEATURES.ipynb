{
 "cells": [
  {
   "cell_type": "code",
   "execution_count": 1,
   "metadata": {},
   "outputs": [],
   "source": [
    "from ast import literal_eval\n",
    "\n",
    "import pandas as pd\n",
    "import numpy as np\n",
    "import matplotlib.pyplot as plt\n",
    "import seaborn as sns"
   ]
  },
  {
   "cell_type": "code",
   "execution_count": 2,
   "metadata": {},
   "outputs": [],
   "source": [
    "pd.set_option(\"display.max_columns\", None)"
   ]
  },
  {
   "cell_type": "code",
   "execution_count": 3,
   "metadata": {},
   "outputs": [
    {
     "name": "stdout",
     "output_type": "stream",
     "text": [
      "(7759, 28)\n"
     ]
    },
    {
     "data": {
      "text/html": [
       "<div>\n",
       "<style scoped>\n",
       "    .dataframe tbody tr th:only-of-type {\n",
       "        vertical-align: middle;\n",
       "    }\n",
       "\n",
       "    .dataframe tbody tr th {\n",
       "        vertical-align: top;\n",
       "    }\n",
       "\n",
       "    .dataframe thead th {\n",
       "        text-align: right;\n",
       "    }\n",
       "</style>\n",
       "<table border=\"1\" class=\"dataframe\">\n",
       "  <thead>\n",
       "    <tr style=\"text-align: right;\">\n",
       "      <th></th>\n",
       "      <th>SPID</th>\n",
       "      <th>PROP_ID</th>\n",
       "      <th>CITY</th>\n",
       "      <th>PRICE</th>\n",
       "      <th>PRICE_SQFT</th>\n",
       "      <th>AREA</th>\n",
       "      <th>TOTAL_LANDMARK_COUNT</th>\n",
       "      <th>FORMATTED_LANDMARK_DETAILS</th>\n",
       "      <th>PROP_HEADING</th>\n",
       "      <th>DESCRIPTION</th>\n",
       "      <th>PROPERTY_TYPE</th>\n",
       "      <th>FURNISH</th>\n",
       "      <th>FACING</th>\n",
       "      <th>AGE</th>\n",
       "      <th>TOTAL_FLOOR</th>\n",
       "      <th>FEATURES</th>\n",
       "      <th>BEDROOM_NUM</th>\n",
       "      <th>AMENITIES</th>\n",
       "      <th>PROP_NAME</th>\n",
       "      <th>BALCONY_NUM</th>\n",
       "      <th>FLOOR_NUM</th>\n",
       "      <th>LATITUDE</th>\n",
       "      <th>LONGITUDE</th>\n",
       "      <th>BHK_BED</th>\n",
       "      <th>LOCALITY_NAME</th>\n",
       "      <th>BUILDING_NAME</th>\n",
       "      <th>SOCIETY_NAME</th>\n",
       "      <th>ADDRESS</th>\n",
       "    </tr>\n",
       "  </thead>\n",
       "  <tbody>\n",
       "    <tr>\n",
       "      <th>0</th>\n",
       "      <td>69306824</td>\n",
       "      <td>x69306824</td>\n",
       "      <td>mumbai beyond thane</td>\n",
       "      <td>32500000.0</td>\n",
       "      <td>477941.0</td>\n",
       "      <td>74051.0</td>\n",
       "      <td>14.0</td>\n",
       "      <td>['9 hospitals']</td>\n",
       "      <td>3 bedroom farm house in karjat</td>\n",
       "      <td>new brand 3bhk farmhouse with 68 guntha land f...</td>\n",
       "      <td>farm house</td>\n",
       "      <td>Furnished</td>\n",
       "      <td>West</td>\n",
       "      <td>6</td>\n",
       "      <td>1.0</td>\n",
       "      <td>['44', '23', '45', '12', '24', '46', '25', '47...</td>\n",
       "      <td>3.0</td>\n",
       "      <td>['32', '44', '23', '45', '24', '46', '47', '19...</td>\n",
       "      <td>NaN</td>\n",
       "      <td>1.0</td>\n",
       "      <td>NaN</td>\n",
       "      <td>18.923430</td>\n",
       "      <td>73.325140</td>\n",
       "      <td>3.0</td>\n",
       "      <td>karjat</td>\n",
       "      <td>NaN</td>\n",
       "      <td>NaN</td>\n",
       "      <td>NaN</td>\n",
       "    </tr>\n",
       "    <tr>\n",
       "      <th>1</th>\n",
       "      <td>70915032</td>\n",
       "      <td>r70915032</td>\n",
       "      <td>navi mumbai</td>\n",
       "      <td>415000.0</td>\n",
       "      <td>381.0</td>\n",
       "      <td>1089.0</td>\n",
       "      <td>NaN</td>\n",
       "      <td>[]</td>\n",
       "      <td>residential land / plot in chirle</td>\n",
       "      <td>our residential plots &amp; commercial plots are a...</td>\n",
       "      <td>residential land</td>\n",
       "      <td>not available</td>\n",
       "      <td>North-East</td>\n",
       "      <td>0</td>\n",
       "      <td>7.0</td>\n",
       "      <td>['n']</td>\n",
       "      <td>NaN</td>\n",
       "      <td>NaN</td>\n",
       "      <td>city prop</td>\n",
       "      <td>NaN</td>\n",
       "      <td>NaN</td>\n",
       "      <td>18.926491</td>\n",
       "      <td>73.030923</td>\n",
       "      <td>NaN</td>\n",
       "      <td>chirle</td>\n",
       "      <td>city prop</td>\n",
       "      <td>city prop</td>\n",
       "      <td>NaN</td>\n",
       "    </tr>\n",
       "    <tr>\n",
       "      <th>2</th>\n",
       "      <td>70699844</td>\n",
       "      <td>a70699844</td>\n",
       "      <td>thane</td>\n",
       "      <td>23000000.0</td>\n",
       "      <td>22115.0</td>\n",
       "      <td>1040.0</td>\n",
       "      <td>13.0</td>\n",
       "      <td>['1 railway station', '1 shopping', '1 connect...</td>\n",
       "      <td>2 bhk flat in balkum</td>\n",
       "      <td>piramal vaikunth is one of thane's most sought...</td>\n",
       "      <td>residential apartment</td>\n",
       "      <td>Semifurnished</td>\n",
       "      <td>North-West</td>\n",
       "      <td>1</td>\n",
       "      <td>32.0</td>\n",
       "      <td>['23', '45', '24', '46', '25', '47', '26', '28...</td>\n",
       "      <td>2.0</td>\n",
       "      <td>['10', '17', '2', '5', '8', '20', '21', '23', ...</td>\n",
       "      <td>piramal vaikunth</td>\n",
       "      <td>1.0</td>\n",
       "      <td>18</td>\n",
       "      <td>19.223389</td>\n",
       "      <td>72.989916</td>\n",
       "      <td>2.0</td>\n",
       "      <td>balkum</td>\n",
       "      <td>piramal vaikunth</td>\n",
       "      <td>piramal vaikunth</td>\n",
       "      <td>0000</td>\n",
       "    </tr>\n",
       "    <tr>\n",
       "      <th>3</th>\n",
       "      <td>68802070</td>\n",
       "      <td>h68802070</td>\n",
       "      <td>mumbai andheri-dahisar</td>\n",
       "      <td>75000.0</td>\n",
       "      <td>68.0</td>\n",
       "      <td>1100.0</td>\n",
       "      <td>5.0</td>\n",
       "      <td>['1 shopping', '1 connectivity', '1 hospital',...</td>\n",
       "      <td>2 bhk flat in dn nagar</td>\n",
       "      <td>immediate possession new building untouch flat...</td>\n",
       "      <td>residential apartment</td>\n",
       "      <td>Semifurnished</td>\n",
       "      <td>North</td>\n",
       "      <td>6</td>\n",
       "      <td>15.0</td>\n",
       "      <td>['33', '12', '25', '47', '26', '29', '1', '3',...</td>\n",
       "      <td>2.0</td>\n",
       "      <td>['8', '20', '21', '47', '29', '1', '6', '9', '...</td>\n",
       "      <td>platinum life</td>\n",
       "      <td>0.0</td>\n",
       "      <td>7</td>\n",
       "      <td>19.126783</td>\n",
       "      <td>72.832660</td>\n",
       "      <td>2.0</td>\n",
       "      <td>dn nagar</td>\n",
       "      <td>platinum life</td>\n",
       "      <td>platinum life</td>\n",
       "      <td>704</td>\n",
       "    </tr>\n",
       "    <tr>\n",
       "      <th>4</th>\n",
       "      <td>66274524</td>\n",
       "      <td>u66274524</td>\n",
       "      <td>central mumbai suburbs</td>\n",
       "      <td>29200000.0</td>\n",
       "      <td>57512.0</td>\n",
       "      <td>1019.5</td>\n",
       "      <td>3.0</td>\n",
       "      <td>['1 railway station', '1 metro station', '1 co...</td>\n",
       "      <td>3 bhk flat in mulund west</td>\n",
       "      <td>eternia by oberoi realty is an under construct...</td>\n",
       "      <td>residential apartment</td>\n",
       "      <td>not available</td>\n",
       "      <td>not available</td>\n",
       "      <td>5</td>\n",
       "      <td>60.0</td>\n",
       "      <td>['n']</td>\n",
       "      <td>3.0</td>\n",
       "      <td>NaN</td>\n",
       "      <td>eternia by oberoi realty</td>\n",
       "      <td>NaN</td>\n",
       "      <td>1</td>\n",
       "      <td>19.171174</td>\n",
       "      <td>72.940326</td>\n",
       "      <td>3.0</td>\n",
       "      <td>mulund west</td>\n",
       "      <td>eternia by oberoi realty</td>\n",
       "      <td>eternia by oberoi realty</td>\n",
       "      <td>NaN</td>\n",
       "    </tr>\n",
       "  </tbody>\n",
       "</table>\n",
       "</div>"
      ],
      "text/plain": [
       "       SPID    PROP_ID                    CITY       PRICE  PRICE_SQFT  \\\n",
       "0  69306824  x69306824     mumbai beyond thane  32500000.0    477941.0   \n",
       "1  70915032  r70915032             navi mumbai    415000.0       381.0   \n",
       "2  70699844  a70699844                   thane  23000000.0     22115.0   \n",
       "3  68802070  h68802070  mumbai andheri-dahisar     75000.0        68.0   \n",
       "4  66274524  u66274524  central mumbai suburbs  29200000.0     57512.0   \n",
       "\n",
       "      AREA  TOTAL_LANDMARK_COUNT  \\\n",
       "0  74051.0                  14.0   \n",
       "1   1089.0                   NaN   \n",
       "2   1040.0                  13.0   \n",
       "3   1100.0                   5.0   \n",
       "4   1019.5                   3.0   \n",
       "\n",
       "                          FORMATTED_LANDMARK_DETAILS  \\\n",
       "0                                    ['9 hospitals']   \n",
       "1                                                 []   \n",
       "2  ['1 railway station', '1 shopping', '1 connect...   \n",
       "3  ['1 shopping', '1 connectivity', '1 hospital',...   \n",
       "4  ['1 railway station', '1 metro station', '1 co...   \n",
       "\n",
       "                        PROP_HEADING  \\\n",
       "0     3 bedroom farm house in karjat   \n",
       "1  residential land / plot in chirle   \n",
       "2               2 bhk flat in balkum   \n",
       "3             2 bhk flat in dn nagar   \n",
       "4          3 bhk flat in mulund west   \n",
       "\n",
       "                                         DESCRIPTION          PROPERTY_TYPE  \\\n",
       "0  new brand 3bhk farmhouse with 68 guntha land f...             farm house   \n",
       "1  our residential plots & commercial plots are a...       residential land   \n",
       "2  piramal vaikunth is one of thane's most sought...  residential apartment   \n",
       "3  immediate possession new building untouch flat...  residential apartment   \n",
       "4  eternia by oberoi realty is an under construct...  residential apartment   \n",
       "\n",
       "         FURNISH         FACING  AGE  TOTAL_FLOOR  \\\n",
       "0      Furnished           West    6          1.0   \n",
       "1  not available     North-East    0          7.0   \n",
       "2  Semifurnished     North-West    1         32.0   \n",
       "3  Semifurnished          North    6         15.0   \n",
       "4  not available  not available    5         60.0   \n",
       "\n",
       "                                            FEATURES  BEDROOM_NUM  \\\n",
       "0  ['44', '23', '45', '12', '24', '46', '25', '47...          3.0   \n",
       "1                                              ['n']          NaN   \n",
       "2  ['23', '45', '24', '46', '25', '47', '26', '28...          2.0   \n",
       "3  ['33', '12', '25', '47', '26', '29', '1', '3',...          2.0   \n",
       "4                                              ['n']          3.0   \n",
       "\n",
       "                                           AMENITIES  \\\n",
       "0  ['32', '44', '23', '45', '24', '46', '47', '19...   \n",
       "1                                                NaN   \n",
       "2  ['10', '17', '2', '5', '8', '20', '21', '23', ...   \n",
       "3  ['8', '20', '21', '47', '29', '1', '6', '9', '...   \n",
       "4                                                NaN   \n",
       "\n",
       "                  PROP_NAME  BALCONY_NUM FLOOR_NUM   LATITUDE  LONGITUDE  \\\n",
       "0                       NaN          1.0       NaN  18.923430  73.325140   \n",
       "1                 city prop          NaN       NaN  18.926491  73.030923   \n",
       "2          piramal vaikunth          1.0        18  19.223389  72.989916   \n",
       "3             platinum life          0.0         7  19.126783  72.832660   \n",
       "4  eternia by oberoi realty          NaN         1  19.171174  72.940326   \n",
       "\n",
       "   BHK_BED LOCALITY_NAME             BUILDING_NAME              SOCIETY_NAME  \\\n",
       "0      3.0        karjat                       NaN                       NaN   \n",
       "1      NaN        chirle                 city prop                 city prop   \n",
       "2      2.0        balkum          piramal vaikunth          piramal vaikunth   \n",
       "3      2.0      dn nagar             platinum life             platinum life   \n",
       "4      3.0   mulund west  eternia by oberoi realty  eternia by oberoi realty   \n",
       "\n",
       "  ADDRESS  \n",
       "0     NaN  \n",
       "1     NaN  \n",
       "2    0000  \n",
       "3     704  \n",
       "4     NaN  "
      ]
     },
     "execution_count": 3,
     "metadata": {},
     "output_type": "execute_result"
    }
   ],
   "source": [
    "df = pd.read_csv(\"data/processed/mumbai.csv\")\n",
    "print(df.shape)\n",
    "df.head()"
   ]
  },
  {
   "cell_type": "code",
   "execution_count": 4,
   "metadata": {},
   "outputs": [
    {
     "data": {
      "text/plain": [
       "Index(['SPID', 'PROP_ID', 'CITY', 'PRICE', 'PRICE_SQFT', 'AREA',\n",
       "       'TOTAL_LANDMARK_COUNT', 'FORMATTED_LANDMARK_DETAILS', 'PROP_HEADING',\n",
       "       'DESCRIPTION', 'PROPERTY_TYPE', 'FURNISH', 'FACING', 'AGE',\n",
       "       'TOTAL_FLOOR', 'FEATURES', 'BEDROOM_NUM', 'AMENITIES', 'PROP_NAME',\n",
       "       'BALCONY_NUM', 'FLOOR_NUM', 'LATITUDE', 'LONGITUDE', 'BHK_BED',\n",
       "       'LOCALITY_NAME', 'BUILDING_NAME', 'SOCIETY_NAME', 'ADDRESS'],\n",
       "      dtype='object')"
      ]
     },
     "execution_count": 4,
     "metadata": {},
     "output_type": "execute_result"
    }
   ],
   "source": [
    "df.columns"
   ]
  },
  {
   "cell_type": "code",
   "execution_count": 5,
   "metadata": {},
   "outputs": [
    {
     "name": "stdout",
     "output_type": "stream",
     "text": [
      "<class 'pandas.core.frame.DataFrame'>\n",
      "RangeIndex: 7759 entries, 0 to 7758\n",
      "Data columns (total 28 columns):\n",
      " #   Column                      Non-Null Count  Dtype  \n",
      "---  ------                      --------------  -----  \n",
      " 0   SPID                        7759 non-null   int64  \n",
      " 1   PROP_ID                     7759 non-null   object \n",
      " 2   CITY                        7759 non-null   object \n",
      " 3   PRICE                       7759 non-null   float64\n",
      " 4   PRICE_SQFT                  7759 non-null   float64\n",
      " 5   AREA                        7759 non-null   float64\n",
      " 6   TOTAL_LANDMARK_COUNT        7684 non-null   float64\n",
      " 7   FORMATTED_LANDMARK_DETAILS  7759 non-null   object \n",
      " 8   PROP_HEADING                7759 non-null   object \n",
      " 9   DESCRIPTION                 7759 non-null   object \n",
      " 10  PROPERTY_TYPE               7759 non-null   object \n",
      " 11  FURNISH                     7759 non-null   object \n",
      " 12  FACING                      7759 non-null   object \n",
      " 13  AGE                         7759 non-null   int64  \n",
      " 14  TOTAL_FLOOR                 7751 non-null   float64\n",
      " 15  FEATURES                    7759 non-null   object \n",
      " 16  BEDROOM_NUM                 7699 non-null   float64\n",
      " 17  AMENITIES                   3634 non-null   object \n",
      " 18  PROP_NAME                   7702 non-null   object \n",
      " 19  BALCONY_NUM                 3686 non-null   float64\n",
      " 20  FLOOR_NUM                   7652 non-null   object \n",
      " 21  LATITUDE                    7759 non-null   float64\n",
      " 22  LONGITUDE                   7759 non-null   float64\n",
      " 23  BHK_BED                     7699 non-null   float64\n",
      " 24  LOCALITY_NAME               7759 non-null   object \n",
      " 25  BUILDING_NAME               7702 non-null   object \n",
      " 26  SOCIETY_NAME                7702 non-null   object \n",
      " 27  ADDRESS                     1707 non-null   object \n",
      "dtypes: float64(10), int64(2), object(16)\n",
      "memory usage: 1.7+ MB\n"
     ]
    }
   ],
   "source": [
    "df.info()"
   ]
  },
  {
   "cell_type": "code",
   "execution_count": 6,
   "metadata": {},
   "outputs": [
    {
     "data": {
      "text/plain": [
       "SPID                             0\n",
       "PROP_ID                          0\n",
       "CITY                             0\n",
       "PRICE                            0\n",
       "PRICE_SQFT                       0\n",
       "AREA                             0\n",
       "TOTAL_LANDMARK_COUNT            75\n",
       "FORMATTED_LANDMARK_DETAILS       0\n",
       "PROP_HEADING                     0\n",
       "DESCRIPTION                      0\n",
       "PROPERTY_TYPE                    0\n",
       "FURNISH                          0\n",
       "FACING                           0\n",
       "AGE                              0\n",
       "TOTAL_FLOOR                      8\n",
       "FEATURES                         0\n",
       "BEDROOM_NUM                     60\n",
       "AMENITIES                     4125\n",
       "PROP_NAME                       57\n",
       "BALCONY_NUM                   4073\n",
       "FLOOR_NUM                      107\n",
       "LATITUDE                         0\n",
       "LONGITUDE                        0\n",
       "BHK_BED                         60\n",
       "LOCALITY_NAME                    0\n",
       "BUILDING_NAME                   57\n",
       "SOCIETY_NAME                    57\n",
       "ADDRESS                       6052\n",
       "dtype: int64"
      ]
     },
     "execution_count": 6,
     "metadata": {},
     "output_type": "execute_result"
    }
   ],
   "source": [
    "df.isnull().sum()"
   ]
  },
  {
   "cell_type": "markdown",
   "metadata": {},
   "source": [
    "## FORMATTED_LANDMARK_DETAILS"
   ]
  },
  {
   "cell_type": "code",
   "execution_count": 7,
   "metadata": {},
   "outputs": [
    {
     "data": {
      "text/plain": [
       "array([\"['9 hospitals']\", '[]',\n",
       "       \"['1 railway station', '1 shopping', '1 connectivity', '2 educations', '1 hospital', '1 airport', '2 office complexes', '1 hotels', '1 amusement park', '1 golf course', '1 stadium']\",\n",
       "       \"['1 shopping', '1 connectivity', '1 hospital', '1 airport', '1 miscellaneous']\",\n",
       "       \"['1 railway station', '1 metro station', '1 connectivity']\"],\n",
       "      dtype=object)"
      ]
     },
     "execution_count": 7,
     "metadata": {},
     "output_type": "execute_result"
    }
   ],
   "source": [
    "df[\"FORMATTED_LANDMARK_DETAILS\"].head(5).values"
   ]
  },
  {
   "cell_type": "code",
   "execution_count": 8,
   "metadata": {},
   "outputs": [],
   "source": [
    "df[\"FORMATTED_LANDMARK_DETAILS\"] = df[\"FORMATTED_LANDMARK_DETAILS\"].apply(literal_eval)"
   ]
  },
  {
   "cell_type": "code",
   "execution_count": 9,
   "metadata": {},
   "outputs": [
    {
     "name": "stdout",
     "output_type": "stream",
     "text": [
      "29\n"
     ]
    },
    {
     "data": {
      "text/plain": [
       "['hospital',\n",
       " nan,\n",
       " 'railway station',\n",
       " 'shopping',\n",
       " 'connectivity',\n",
       " 'education',\n",
       " 'airport',\n",
       " 'office complexe',\n",
       " 'hotel',\n",
       " 'amusement park',\n",
       " 'golf course',\n",
       " 'stadium',\n",
       " 'miscellaneou',\n",
       " 'metro station',\n",
       " 'connectivitie',\n",
       " 'religious place',\n",
       " 'bank',\n",
       " 'park',\n",
       " 'bus depot',\n",
       " 'atm',\n",
       " 'office complex',\n",
       " 'pharmacy',\n",
       " 'bus stop',\n",
       " 'beach',\n",
       " 'library',\n",
       " 'parking',\n",
       " 'attraction',\n",
       " 'club',\n",
       " 'swimming pool']"
      ]
     },
     "execution_count": 9,
     "metadata": {},
     "output_type": "execute_result"
    }
   ],
   "source": [
    "unique_landmarks = (\n",
    "    df[\"FORMATTED_LANDMARK_DETAILS\"]\n",
    "    .explode()\n",
    "    .str.split(\" \", n=1)\n",
    "    .str.get(-1)\n",
    "    .str.replace(\"ss\", \"s\")\n",
    "    .str.removesuffix(\"s\")\n",
    "    .unique()\n",
    "    .tolist()\n",
    ")\n",
    "print(len(unique_landmarks))\n",
    "unique_landmarks"
   ]
  },
  {
   "cell_type": "code",
   "execution_count": 10,
   "metadata": {},
   "outputs": [],
   "source": [
    "landmark_groups = {\n",
    "    \"TRANSPORATION\": [\"station\", \"bus\", \"airport\"],\n",
    "    \"ACCOMODATION\": [\"hotel\", \"office\", \"atm\", \"bank\"],\n",
    "    \"LEISURE\": [\"shop\", \"mall\", \"park\", \"stadium\", \"club\", \"pool\", \"attraction\", \"golf\"],\n",
    "    \"EDUCATION\": [\"education\", \"library\"],\n",
    "    \"HEALTH\": [\"hospital\", \"pharmacy\"],\n",
    "    \"OTHER\": [\n",
    "        \"religious\",\n",
    "        \"connect\",\n",
    "        \"miscellaneou\",\n",
    "        \"parking\",  # This value is being over-shadowed by `park` in LEISURE.\n",
    "    ],\n",
    "}"
   ]
  },
  {
   "cell_type": "code",
   "execution_count": 11,
   "metadata": {},
   "outputs": [],
   "source": [
    "def handle_landmarks(x: list[str], key: str) -> list[str]:\n",
    "    global curr_idx  # type: ignore\n",
    "    col_values: list[int] = []\n",
    "\n",
    "    for i in x:\n",
    "        for j in landmark_groups[key]:\n",
    "            if j in i and isinstance(i, str):\n",
    "                value = i.split(\" \")[0]\n",
    "                col_values.append(int(value))\n",
    "    else:\n",
    "        col_values.append(0)\n",
    "\n",
    "    df.loc[curr_idx, key] = sum(col_values)  # type: ignore\n",
    "    curr_idx += 1  # type: ignore\n",
    "    return x"
   ]
  },
  {
   "cell_type": "code",
   "execution_count": 12,
   "metadata": {},
   "outputs": [],
   "source": [
    "for col_name in landmark_groups.keys():\n",
    "    curr_idx = 0\n",
    "    df[\"FORMATTED_LANDMARK_DETAILS\"].apply(lambda x: handle_landmarks(x, col_name))"
   ]
  },
  {
   "cell_type": "code",
   "execution_count": 13,
   "metadata": {},
   "outputs": [
    {
     "data": {
      "text/plain": [
       "array([list(['1 religious place', '1 atm', '17 hospitals', '1 miscellaneous']),\n",
       "       list(['2 shoppings', '6 educations', '5 hospitals', '1 park', '1 golf course']),\n",
       "       list(['1 railway station', '1 metro station', '1 shopping', '1 connectivity', '2 educations', '1 hospital', '1 airport', '1 office complex', '1 stadium']),\n",
       "       list(['2 railway stations', '1 shopping', '1 education', '1 hospital', '1 miscellaneous']),\n",
       "       list(['5 religious places', '4 atms', '5 hospitals', '3 pharmacys', '1 miscellaneous']),\n",
       "       list(['2 religious places', '1 atm', '20 hospitals', '1 miscellaneous']),\n",
       "       list(['1 railway station', '1 metro station', '1 shopping', '2 connectivities', '2 educations', '1 hospital', '1 airport', '1 office complex']),\n",
       "       list(['2 shoppings', '1 connectivity', '3 educations', '3 hospitals', '1 park', '2 office complexes', '1 golf course', '2 miscellaneouss'])],\n",
       "      dtype=object)"
      ]
     },
     "execution_count": 13,
     "metadata": {},
     "output_type": "execute_result"
    }
   ],
   "source": [
    "df[\"FORMATTED_LANDMARK_DETAILS\"].sample(8, random_state=10).values"
   ]
  },
  {
   "cell_type": "code",
   "execution_count": 14,
   "metadata": {},
   "outputs": [
    {
     "data": {
      "text/html": [
       "<div>\n",
       "<style scoped>\n",
       "    .dataframe tbody tr th:only-of-type {\n",
       "        vertical-align: middle;\n",
       "    }\n",
       "\n",
       "    .dataframe tbody tr th {\n",
       "        vertical-align: top;\n",
       "    }\n",
       "\n",
       "    .dataframe thead th {\n",
       "        text-align: right;\n",
       "    }\n",
       "</style>\n",
       "<table border=\"1\" class=\"dataframe\">\n",
       "  <thead>\n",
       "    <tr style=\"text-align: right;\">\n",
       "      <th></th>\n",
       "      <th>TOTAL_LANDMARK_COUNT</th>\n",
       "      <th>TRANSPORATION</th>\n",
       "      <th>ACCOMODATION</th>\n",
       "      <th>LEISURE</th>\n",
       "      <th>EDUCATION</th>\n",
       "      <th>HEALTH</th>\n",
       "      <th>OTHER</th>\n",
       "    </tr>\n",
       "  </thead>\n",
       "  <tbody>\n",
       "    <tr>\n",
       "      <th>4326</th>\n",
       "      <td>50.0</td>\n",
       "      <td>0.0</td>\n",
       "      <td>1.0</td>\n",
       "      <td>0.0</td>\n",
       "      <td>0.0</td>\n",
       "      <td>17.0</td>\n",
       "      <td>2.0</td>\n",
       "    </tr>\n",
       "    <tr>\n",
       "      <th>577</th>\n",
       "      <td>15.0</td>\n",
       "      <td>0.0</td>\n",
       "      <td>0.0</td>\n",
       "      <td>4.0</td>\n",
       "      <td>6.0</td>\n",
       "      <td>5.0</td>\n",
       "      <td>0.0</td>\n",
       "    </tr>\n",
       "    <tr>\n",
       "      <th>2747</th>\n",
       "      <td>10.0</td>\n",
       "      <td>3.0</td>\n",
       "      <td>1.0</td>\n",
       "      <td>2.0</td>\n",
       "      <td>2.0</td>\n",
       "      <td>1.0</td>\n",
       "      <td>1.0</td>\n",
       "    </tr>\n",
       "    <tr>\n",
       "      <th>193</th>\n",
       "      <td>6.0</td>\n",
       "      <td>2.0</td>\n",
       "      <td>0.0</td>\n",
       "      <td>1.0</td>\n",
       "      <td>1.0</td>\n",
       "      <td>1.0</td>\n",
       "      <td>1.0</td>\n",
       "    </tr>\n",
       "    <tr>\n",
       "      <th>2767</th>\n",
       "      <td>50.0</td>\n",
       "      <td>0.0</td>\n",
       "      <td>4.0</td>\n",
       "      <td>0.0</td>\n",
       "      <td>0.0</td>\n",
       "      <td>8.0</td>\n",
       "      <td>6.0</td>\n",
       "    </tr>\n",
       "    <tr>\n",
       "      <th>3052</th>\n",
       "      <td>41.0</td>\n",
       "      <td>0.0</td>\n",
       "      <td>1.0</td>\n",
       "      <td>0.0</td>\n",
       "      <td>0.0</td>\n",
       "      <td>20.0</td>\n",
       "      <td>3.0</td>\n",
       "    </tr>\n",
       "    <tr>\n",
       "      <th>2969</th>\n",
       "      <td>10.0</td>\n",
       "      <td>3.0</td>\n",
       "      <td>1.0</td>\n",
       "      <td>1.0</td>\n",
       "      <td>2.0</td>\n",
       "      <td>1.0</td>\n",
       "      <td>2.0</td>\n",
       "    </tr>\n",
       "    <tr>\n",
       "      <th>1171</th>\n",
       "      <td>15.0</td>\n",
       "      <td>0.0</td>\n",
       "      <td>2.0</td>\n",
       "      <td>4.0</td>\n",
       "      <td>3.0</td>\n",
       "      <td>3.0</td>\n",
       "      <td>3.0</td>\n",
       "    </tr>\n",
       "  </tbody>\n",
       "</table>\n",
       "</div>"
      ],
      "text/plain": [
       "      TOTAL_LANDMARK_COUNT  TRANSPORATION  ACCOMODATION  LEISURE  EDUCATION  \\\n",
       "4326                  50.0            0.0           1.0      0.0        0.0   \n",
       "577                   15.0            0.0           0.0      4.0        6.0   \n",
       "2747                  10.0            3.0           1.0      2.0        2.0   \n",
       "193                    6.0            2.0           0.0      1.0        1.0   \n",
       "2767                  50.0            0.0           4.0      0.0        0.0   \n",
       "3052                  41.0            0.0           1.0      0.0        0.0   \n",
       "2969                  10.0            3.0           1.0      1.0        2.0   \n",
       "1171                  15.0            0.0           2.0      4.0        3.0   \n",
       "\n",
       "      HEALTH  OTHER  \n",
       "4326    17.0    2.0  \n",
       "577      5.0    0.0  \n",
       "2747     1.0    1.0  \n",
       "193      1.0    1.0  \n",
       "2767     8.0    6.0  \n",
       "3052    20.0    3.0  \n",
       "2969     1.0    2.0  \n",
       "1171     3.0    3.0  "
      ]
     },
     "execution_count": 14,
     "metadata": {},
     "output_type": "execute_result"
    }
   ],
   "source": [
    "df[[\"TOTAL_LANDMARK_COUNT\", *landmark_groups.keys()]].sample(8, random_state=10)"
   ]
  },
  {
   "cell_type": "markdown",
   "metadata": {},
   "source": [
    "## AMENITIES"
   ]
  },
  {
   "cell_type": "code",
   "execution_count": 15,
   "metadata": {},
   "outputs": [
    {
     "data": {
      "text/plain": [
       "1071                    []\n",
       "2202                    []\n",
       "7147    [44, 23, 46, 6, 3]\n",
       "3031                    []\n",
       "4561                    []\n",
       "Name: AMENITIES, dtype: object"
      ]
     },
     "execution_count": 15,
     "metadata": {},
     "output_type": "execute_result"
    }
   ],
   "source": [
    "df[\"AMENITIES\"] = df[\"AMENITIES\"].apply(\n",
    "    lambda x: [] if isinstance(x, float) else list(map(int, literal_eval(x)))\n",
    ")\n",
    "df[\"AMENITIES\"].sample(5)"
   ]
  },
  {
   "cell_type": "code",
   "execution_count": 16,
   "metadata": {},
   "outputs": [
    {
     "name": "stdout",
     "output_type": "stream",
     "text": [
      "36\n",
      "[1, 2, 3, 5, 6, 8, 9, 10, 12, 17, 19, 20, 21, 23, 24, 25, 26, 28, 29, 30, 31, 32, 33, 39, 40, 41, 42, 43, 44, 45, 46, 47, 101, 102, 103, nan]\n"
     ]
    }
   ],
   "source": [
    "unique_amenities = df[\"AMENITIES\"].explode().unique().tolist()\n",
    "print(len(unique_amenities))\n",
    "print(sorted(unique_amenities))"
   ]
  },
  {
   "cell_type": "code",
   "execution_count": 17,
   "metadata": {},
   "outputs": [
    {
     "name": "stdout",
     "output_type": "stream",
     "text": [
      "(33, 4)\n"
     ]
    },
    {
     "data": {
      "text/html": [
       "<div>\n",
       "<style scoped>\n",
       "    .dataframe tbody tr th:only-of-type {\n",
       "        vertical-align: middle;\n",
       "    }\n",
       "\n",
       "    .dataframe tbody tr th {\n",
       "        vertical-align: top;\n",
       "    }\n",
       "\n",
       "    .dataframe thead th {\n",
       "        text-align: right;\n",
       "    }\n",
       "</style>\n",
       "<table border=\"1\" class=\"dataframe\">\n",
       "  <thead>\n",
       "    <tr style=\"text-align: right;\">\n",
       "      <th></th>\n",
       "      <th>id</th>\n",
       "      <th>category</th>\n",
       "      <th>type</th>\n",
       "      <th>label</th>\n",
       "    </tr>\n",
       "  </thead>\n",
       "  <tbody>\n",
       "    <tr>\n",
       "      <th>0</th>\n",
       "      <td>25</td>\n",
       "      <td>Other Features</td>\n",
       "      <td>FEATURES_RESIDENTIAL</td>\n",
       "      <td>Waste Disposal</td>\n",
       "    </tr>\n",
       "    <tr>\n",
       "      <th>1</th>\n",
       "      <td>26</td>\n",
       "      <td>Other Features</td>\n",
       "      <td>FEATURES_RESIDENTIAL</td>\n",
       "      <td>Rain Water Harvesting</td>\n",
       "    </tr>\n",
       "    <tr>\n",
       "      <th>2</th>\n",
       "      <td>28</td>\n",
       "      <td>Other Features</td>\n",
       "      <td>FEATURES_COMMERCIAL</td>\n",
       "      <td>Bank Attached Property</td>\n",
       "    </tr>\n",
       "    <tr>\n",
       "      <th>3</th>\n",
       "      <td>2</td>\n",
       "      <td>Property Feature</td>\n",
       "      <td>FEATURES_COMMERCIAL</td>\n",
       "      <td>Power Back-up</td>\n",
       "    </tr>\n",
       "    <tr>\n",
       "      <th>4</th>\n",
       "      <td>5</td>\n",
       "      <td>Property Feature</td>\n",
       "      <td>FEATURES_RESIDENTIAL</td>\n",
       "      <td>Feng Shui / Vaastu Compliant</td>\n",
       "    </tr>\n",
       "  </tbody>\n",
       "</table>\n",
       "</div>"
      ],
      "text/plain": [
       "   id          category                  type                         label\n",
       "0  25    Other Features  FEATURES_RESIDENTIAL                Waste Disposal\n",
       "1  26    Other Features  FEATURES_RESIDENTIAL         Rain Water Harvesting\n",
       "2  28    Other Features   FEATURES_COMMERCIAL        Bank Attached Property\n",
       "3   2  Property Feature   FEATURES_COMMERCIAL                 Power Back-up\n",
       "4   5  Property Feature  FEATURES_RESIDENTIAL  Feng Shui / Vaastu Compliant"
      ]
     },
     "execution_count": 17,
     "metadata": {},
     "output_type": "execute_result"
    }
   ],
   "source": [
    "amenity_df = pd.read_csv(\"data/facets/AMENITIES.csv\")\n",
    "print(amenity_df.shape)\n",
    "amenity_df.head()"
   ]
  },
  {
   "cell_type": "code",
   "execution_count": 18,
   "metadata": {},
   "outputs": [
    {
     "data": {
      "text/plain": [
       "array([ 1,  2,  3,  5,  6,  8,  9, 10, 11, 12, 13, 15, 16, 17, 19, 20, 21,\n",
       "       22, 23, 24, 25, 26, 27, 28, 29, 32, 33, 34, 35, 36, 37, 38, 39])"
      ]
     },
     "execution_count": 18,
     "metadata": {},
     "output_type": "execute_result"
    }
   ],
   "source": [
    "amenity_df[\"id\"].sort_values().values"
   ]
  },
  {
   "cell_type": "code",
   "execution_count": 19,
   "metadata": {},
   "outputs": [
    {
     "data": {
      "text/plain": [
       "array(['Waste Disposal', 'Rain Water Harvesting',\n",
       "       'Bank Attached Property', 'Power Back-up',\n",
       "       'Feng Shui / Vaastu Compliant', 'Private Garden / Terrace',\n",
       "       'Centrally Air Conditioned', 'Security / Fire Alarm',\n",
       "       'Intercom Facility', 'Water Storage', 'Piped-gas',\n",
       "       'Water purifier', 'Near Bank', 'Swimming Pool',\n",
       "       'Club house / Community Center', 'Park', 'Security Personnel',\n",
       "       'Fitness Centre / GYM', 'Visitor Parking', 'Lift(s)',\n",
       "       'Maintenance Staff', 'Shopping Centre',\n",
       "       'WheelChair Accessibilitiy', 'DG Availability',\n",
       "       'CCTV Surveillance', 'Grade A Building', 'Grocery Shop', 'ATM',\n",
       "       'Cafeteria / Food Court', 'Bar / Lounge', 'Conference room',\n",
       "       'Service / Goods Lift', 'Access to High Speed Internet'],\n",
       "      dtype=object)"
      ]
     },
     "execution_count": 19,
     "metadata": {},
     "output_type": "execute_result"
    }
   ],
   "source": [
    "amenity_df[\"label\"].values"
   ]
  },
  {
   "cell_type": "code",
   "execution_count": 20,
   "metadata": {},
   "outputs": [],
   "source": [
    "amenity_values = {\n",
    "    \"Waste Disposal\": 5,\n",
    "    \"Rain Water Harvesting\": 7,\n",
    "    \"Bank Attached Property\": 3,\n",
    "    \"Power Back-up\": 9,\n",
    "    \"Feng Shui / Vaastu Compliant\": 6,\n",
    "    \"Private Garden / Terrace\": 8,\n",
    "    \"Centrally Air Conditioned\": 9,\n",
    "    \"Security / Fire Alarm\": 9,\n",
    "    \"Intercom Facility\": 7,\n",
    "    \"Water Storage\": 6,\n",
    "    \"Piped-gas\": 4,\n",
    "    \"Water purifier\": 6,\n",
    "    \"Near Bank\": 5,\n",
    "    \"Swimming Pool\": 8,\n",
    "    \"Club house / Community Center\": 7,\n",
    "    \"Park\": 8,\n",
    "    \"Security Personnel\": 9,\n",
    "    \"Fitness Centre / GYM\": 8,\n",
    "    \"Visitor Parking\": 6,\n",
    "    \"Lift(s)\": 8,\n",
    "    \"Maintenance Staff\": 5,\n",
    "    \"Shopping Centre\": 7,\n",
    "    \"WheelChair Accessibilitiy\": 4,\n",
    "    \"DG Availability\": 7,\n",
    "    \"CCTV Surveillance\": 9,\n",
    "    \"Grade A Building\": 7,\n",
    "    \"Grocery Shop\": 5,\n",
    "    \"ATM\": 6,\n",
    "    \"Cafeteria / Food Court\": 6,\n",
    "    \"Bar / Lounge\": 7,\n",
    "    \"Conference room\": 6,\n",
    "    \"Service / Goods Lift\": 6,\n",
    "    \"Access to High Speed Internet\": 8,\n",
    "}"
   ]
  },
  {
   "cell_type": "code",
   "execution_count": 21,
   "metadata": {},
   "outputs": [],
   "source": [
    "amenity_df[\"values\"] = amenity_df[\"label\"].map(amenity_values, \"ignore\")"
   ]
  },
  {
   "cell_type": "code",
   "execution_count": 22,
   "metadata": {},
   "outputs": [],
   "source": [
    "amenity_value_lookup: dict[str, int] = (\n",
    "    amenity_df[[\"id\", \"values\"]].set_index(\"id\").to_dict()[\"values\"]\n",
    ")"
   ]
  },
  {
   "cell_type": "code",
   "execution_count": 23,
   "metadata": {},
   "outputs": [],
   "source": [
    "def handle_amenities(x: list[str]) -> float | int:\n",
    "    if isinstance(x, float):\n",
    "        return x\n",
    "\n",
    "    total_sum = sum(amenity_value_lookup.get(i, 0) for i in x)\n",
    "    return total_sum"
   ]
  },
  {
   "cell_type": "code",
   "execution_count": 24,
   "metadata": {},
   "outputs": [
    {
     "data": {
      "text/plain": [
       "count    7759.000000\n",
       "mean       35.301070\n",
       "std        45.833549\n",
       "min         0.000000\n",
       "25%         0.000000\n",
       "50%         0.000000\n",
       "75%        67.000000\n",
       "max       150.000000\n",
       "Name: AMENITIES_SCORE, dtype: float64"
      ]
     },
     "execution_count": 24,
     "metadata": {},
     "output_type": "execute_result"
    }
   ],
   "source": [
    "df[\"AMENITIES_SCORE\"] = df[\"AMENITIES\"].apply(handle_amenities)\n",
    "df[\"AMENITIES_SCORE\"].describe()"
   ]
  },
  {
   "cell_type": "code",
   "execution_count": 25,
   "metadata": {},
   "outputs": [
    {
     "data": {
      "text/plain": [
       "(np.int64(0), np.int64(150))"
      ]
     },
     "execution_count": 25,
     "metadata": {},
     "output_type": "execute_result"
    }
   ],
   "source": [
    "df[\"AMENITIES_SCORE\"].min(), df[\"AMENITIES_SCORE\"].max()  # Suprising result (0, 150)"
   ]
  },
  {
   "cell_type": "code",
   "execution_count": 26,
   "metadata": {},
   "outputs": [
    {
     "data": {
      "text/plain": [
       "<Axes: >"
      ]
     },
     "execution_count": 26,
     "metadata": {},
     "output_type": "execute_result"
    },
    {
     "data": {
      "image/png": "[encoded data removed]",
      "text/plain": [
       "<Figure size 640x480 with 1 Axes>"
      ]
     },
     "metadata": {},
     "output_type": "display_data"
    }
   ],
   "source": [
    "df[\"AMENITIES_SCORE\"].plot.box()"
   ]
  },
  {
   "cell_type": "code",
   "execution_count": 27,
   "metadata": {},
   "outputs": [
    {
     "data": {
      "text/plain": [
       "<Axes: xlabel='AMENITIES_SCORE', ylabel='Count'>"
      ]
     },
     "execution_count": 27,
     "metadata": {},
     "output_type": "execute_result"
    },
    {
     "data": {
      "image/png": "[encoded data removed]",
      "text/plain": [
       "<Figure size 640x480 with 1 Axes>"
      ]
     },
     "metadata": {},
     "output_type": "display_data"
    }
   ],
   "source": [
    "sns.histplot(df[\"AMENITIES_SCORE\"], kde=True)"
   ]
  },
  {
   "cell_type": "markdown",
   "metadata": {},
   "source": [
    "## FEATURES"
   ]
  },
  {
   "cell_type": "code",
   "execution_count": 28,
   "metadata": {},
   "outputs": [],
   "source": [
    "def eval_features(x):\n",
    "    if isinstance(x, float):\n",
    "        return []\n",
    "\n",
    "    rv = []\n",
    "    for i in literal_eval(x):\n",
    "        if i.isnumeric():\n",
    "            rv.append(int(i))\n",
    "        else:\n",
    "            rv.append(i)\n",
    "    return rv"
   ]
  },
  {
   "cell_type": "code",
   "execution_count": 29,
   "metadata": {},
   "outputs": [
    {
     "data": {
      "text/plain": [
       "7028                       [23, 24, 5, 17, 6, 19, 20, 21]\n",
       "466                               [23, 24, 5, 17, 19, 21]\n",
       "2646    [44, 23, 24, 25, 47, 26, 29, 30, 31, 32, 33, 1...\n",
       "3469                                                  [n]\n",
       "6527    [23, 12, 24, 25, 26, 17, 1, 3, 6, 9, 40, 41, 2...\n",
       "Name: FEATURES, dtype: object"
      ]
     },
     "execution_count": 29,
     "metadata": {},
     "output_type": "execute_result"
    }
   ],
   "source": [
    "df[\"FEATURES\"] = df[\"FEATURES\"].apply(eval_features)\n",
    "df[\"FEATURES\"].sample(5)"
   ]
  },
  {
   "cell_type": "code",
   "execution_count": 30,
   "metadata": {},
   "outputs": [
    {
     "name": "stdout",
     "output_type": "stream",
     "text": [
      "35\n"
     ]
    },
    {
     "data": {
      "text/plain": [
       "array([44, 23, 45, 12, 24, 46, 25, 47, 26, 19, 1, 40, 41, 42, 32, 'n', 28,\n",
       "       29, 31, 10, 33, 17, 39, 2, 3, 5, 6, 8, 9, 20, 21, 43, 30, 'f', 'p'],\n",
       "      dtype=object)"
      ]
     },
     "execution_count": 30,
     "metadata": {},
     "output_type": "execute_result"
    }
   ],
   "source": [
    "unique_features = df[\"FEATURES\"].explode().unique()\n",
    "print(len(unique_features))\n",
    "unique_features"
   ]
  },
  {
   "cell_type": "code",
   "execution_count": 31,
   "metadata": {},
   "outputs": [
    {
     "name": "stdout",
     "output_type": "stream",
     "text": [
      "(14, 2)\n"
     ]
    },
    {
     "data": {
      "text/html": [
       "<div>\n",
       "<style scoped>\n",
       "    .dataframe tbody tr th:only-of-type {\n",
       "        vertical-align: middle;\n",
       "    }\n",
       "\n",
       "    .dataframe tbody tr th {\n",
       "        vertical-align: top;\n",
       "    }\n",
       "\n",
       "    .dataframe thead th {\n",
       "        text-align: right;\n",
       "    }\n",
       "</style>\n",
       "<table border=\"1\" class=\"dataframe\">\n",
       "  <thead>\n",
       "    <tr style=\"text-align: right;\">\n",
       "      <th></th>\n",
       "      <th>id</th>\n",
       "      <th>label</th>\n",
       "    </tr>\n",
       "  </thead>\n",
       "  <tbody>\n",
       "    <tr>\n",
       "      <th>0</th>\n",
       "      <td>4</td>\n",
       "      <td>Parking</td>\n",
       "    </tr>\n",
       "    <tr>\n",
       "      <th>1</th>\n",
       "      <td>6</td>\n",
       "      <td>Park</td>\n",
       "    </tr>\n",
       "    <tr>\n",
       "      <th>2</th>\n",
       "      <td>2</td>\n",
       "      <td>Power Backup</td>\n",
       "    </tr>\n",
       "    <tr>\n",
       "      <th>3</th>\n",
       "      <td>21</td>\n",
       "      <td>Lift</td>\n",
       "    </tr>\n",
       "    <tr>\n",
       "      <th>4</th>\n",
       "      <td>12</td>\n",
       "      <td>Gymnasium</td>\n",
       "    </tr>\n",
       "  </tbody>\n",
       "</table>\n",
       "</div>"
      ],
      "text/plain": [
       "   id         label\n",
       "0   4       Parking\n",
       "1   6          Park\n",
       "2   2  Power Backup\n",
       "3  21          Lift\n",
       "4  12     Gymnasium"
      ]
     },
     "execution_count": 31,
     "metadata": {},
     "output_type": "execute_result"
    }
   ],
   "source": [
    "features_df = pd.read_csv(\"data/facets/FEATURES.csv\")\n",
    "print(features_df.shape)\n",
    "features_df.head()"
   ]
  },
  {
   "cell_type": "code",
   "execution_count": 32,
   "metadata": {},
   "outputs": [
    {
     "data": {
      "text/plain": [
       "array(['Parking', 'Park', 'Power Backup', 'Lift', 'Gymnasium',\n",
       "       'Club house', 'Waste disposal', 'Swimming Pool',\n",
       "       'Security Personnel', 'Gas Pipeline', 'Near bank',\n",
       "       'DG Availability', 'Wheelchair Accessibility', 'ATM'], dtype=object)"
      ]
     },
     "execution_count": 32,
     "metadata": {},
     "output_type": "execute_result"
    }
   ],
   "source": [
    "features_df[\"label\"].values"
   ]
  },
  {
   "cell_type": "code",
   "execution_count": 33,
   "metadata": {},
   "outputs": [],
   "source": [
    "features_values = {\n",
    "    \"Parking\": 5,\n",
    "    \"Park\": 7,\n",
    "    \"Power Backup\": 9,\n",
    "    \"Lift\": 8,\n",
    "    \"Gymnasium\": 8,\n",
    "    \"Club house\": 7,\n",
    "    \"Waste disposal\": 5,\n",
    "    \"Swimming Pool\": 8,\n",
    "    \"Security Personnel\": 9,\n",
    "    \"Gas Pipeline\": 6,\n",
    "    \"Near bank\": 5,\n",
    "    \"DG Availability\": 7,\n",
    "    \"Wheelchair Accessibility\": 4,\n",
    "    \"ATM\": 6,\n",
    "}"
   ]
  },
  {
   "cell_type": "code",
   "execution_count": 34,
   "metadata": {},
   "outputs": [
    {
     "data": {
      "text/html": [
       "<div>\n",
       "<style scoped>\n",
       "    .dataframe tbody tr th:only-of-type {\n",
       "        vertical-align: middle;\n",
       "    }\n",
       "\n",
       "    .dataframe tbody tr th {\n",
       "        vertical-align: top;\n",
       "    }\n",
       "\n",
       "    .dataframe thead th {\n",
       "        text-align: right;\n",
       "    }\n",
       "</style>\n",
       "<table border=\"1\" class=\"dataframe\">\n",
       "  <thead>\n",
       "    <tr style=\"text-align: right;\">\n",
       "      <th></th>\n",
       "      <th>id</th>\n",
       "      <th>label</th>\n",
       "      <th>values</th>\n",
       "    </tr>\n",
       "  </thead>\n",
       "  <tbody>\n",
       "    <tr>\n",
       "      <th>0</th>\n",
       "      <td>4</td>\n",
       "      <td>Parking</td>\n",
       "      <td>5</td>\n",
       "    </tr>\n",
       "    <tr>\n",
       "      <th>1</th>\n",
       "      <td>6</td>\n",
       "      <td>Park</td>\n",
       "      <td>7</td>\n",
       "    </tr>\n",
       "    <tr>\n",
       "      <th>2</th>\n",
       "      <td>2</td>\n",
       "      <td>Power Backup</td>\n",
       "      <td>9</td>\n",
       "    </tr>\n",
       "    <tr>\n",
       "      <th>3</th>\n",
       "      <td>21</td>\n",
       "      <td>Lift</td>\n",
       "      <td>8</td>\n",
       "    </tr>\n",
       "    <tr>\n",
       "      <th>4</th>\n",
       "      <td>12</td>\n",
       "      <td>Gymnasium</td>\n",
       "      <td>8</td>\n",
       "    </tr>\n",
       "    <tr>\n",
       "      <th>5</th>\n",
       "      <td>3</td>\n",
       "      <td>Club house</td>\n",
       "      <td>7</td>\n",
       "    </tr>\n",
       "    <tr>\n",
       "      <th>6</th>\n",
       "      <td>25</td>\n",
       "      <td>Waste disposal</td>\n",
       "      <td>5</td>\n",
       "    </tr>\n",
       "    <tr>\n",
       "      <th>7</th>\n",
       "      <td>1</td>\n",
       "      <td>Swimming Pool</td>\n",
       "      <td>8</td>\n",
       "    </tr>\n",
       "    <tr>\n",
       "      <th>8</th>\n",
       "      <td>9</td>\n",
       "      <td>Security Personnel</td>\n",
       "      <td>9</td>\n",
       "    </tr>\n",
       "    <tr>\n",
       "      <th>9</th>\n",
       "      <td>29</td>\n",
       "      <td>Gas Pipeline</td>\n",
       "      <td>6</td>\n",
       "    </tr>\n",
       "    <tr>\n",
       "      <th>10</th>\n",
       "      <td>39</td>\n",
       "      <td>Near bank</td>\n",
       "      <td>5</td>\n",
       "    </tr>\n",
       "    <tr>\n",
       "      <th>11</th>\n",
       "      <td>35</td>\n",
       "      <td>DG Availability</td>\n",
       "      <td>7</td>\n",
       "    </tr>\n",
       "    <tr>\n",
       "      <th>12</th>\n",
       "      <td>34</td>\n",
       "      <td>Wheelchair Accessibility</td>\n",
       "      <td>4</td>\n",
       "    </tr>\n",
       "    <tr>\n",
       "      <th>13</th>\n",
       "      <td>11</td>\n",
       "      <td>ATM</td>\n",
       "      <td>6</td>\n",
       "    </tr>\n",
       "  </tbody>\n",
       "</table>\n",
       "</div>"
      ],
      "text/plain": [
       "    id                     label  values\n",
       "0    4                   Parking       5\n",
       "1    6                      Park       7\n",
       "2    2              Power Backup       9\n",
       "3   21                      Lift       8\n",
       "4   12                 Gymnasium       8\n",
       "5    3                Club house       7\n",
       "6   25            Waste disposal       5\n",
       "7    1             Swimming Pool       8\n",
       "8    9        Security Personnel       9\n",
       "9   29              Gas Pipeline       6\n",
       "10  39                 Near bank       5\n",
       "11  35           DG Availability       7\n",
       "12  34  Wheelchair Accessibility       4\n",
       "13  11                       ATM       6"
      ]
     },
     "execution_count": 34,
     "metadata": {},
     "output_type": "execute_result"
    }
   ],
   "source": [
    "features_df[\"values\"] = features_df[\"label\"].map(features_values, \"ignore\")\n",
    "features_df"
   ]
  },
  {
   "cell_type": "code",
   "execution_count": 35,
   "metadata": {},
   "outputs": [
    {
     "name": "stdout",
     "output_type": "stream",
     "text": [
      "{4: 5, 6: 7, 2: 9, 21: 8, 12: 8, 3: 7, 25: 5, 1: 8, 9: 9, 29: 6, 39: 5, 35: 7, 34: 4, 11: 6}\n"
     ]
    }
   ],
   "source": [
    "features_value_lookup: dict[str, int] = (\n",
    "    features_df[[\"id\", \"values\"]].set_index(\"id\").to_dict()[\"values\"]\n",
    ")\n",
    "print(features_value_lookup)"
   ]
  },
  {
   "cell_type": "code",
   "execution_count": 36,
   "metadata": {},
   "outputs": [],
   "source": [
    "def handle_features(x: list[str]) -> float | int:\n",
    "    if isinstance(x, (float, int)):\n",
    "        return x\n",
    "\n",
    "    total_sum = sum(features_value_lookup.get(i, 0) for i in x)\n",
    "    return total_sum"
   ]
  },
  {
   "cell_type": "code",
   "execution_count": 37,
   "metadata": {},
   "outputs": [
    {
     "data": {
      "text/plain": [
       "count    7759.000000\n",
       "mean       17.308158\n",
       "std        23.612195\n",
       "min         0.000000\n",
       "25%         0.000000\n",
       "50%         0.000000\n",
       "75%        37.000000\n",
       "max        72.000000\n",
       "Name: FEATURES_SCORE, dtype: float64"
      ]
     },
     "execution_count": 37,
     "metadata": {},
     "output_type": "execute_result"
    }
   ],
   "source": [
    "df[\"FEATURES_SCORE\"] = df[\"FEATURES\"].apply(handle_features)\n",
    "df[\"FEATURES_SCORE\"].describe()"
   ]
  },
  {
   "cell_type": "code",
   "execution_count": 38,
   "metadata": {},
   "outputs": [
    {
     "data": {
      "text/plain": [
       "(np.int64(0), np.int64(72))"
      ]
     },
     "execution_count": 38,
     "metadata": {},
     "output_type": "execute_result"
    }
   ],
   "source": [
    "df[\"FEATURES_SCORE\"].min(), df[\"FEATURES_SCORE\"].max()"
   ]
  },
  {
   "cell_type": "markdown",
   "metadata": {},
   "source": [
    "## AGE"
   ]
  },
  {
   "cell_type": "code",
   "execution_count": 39,
   "metadata": {},
   "outputs": [],
   "source": [
    "def eval_numeric_values(x: str | float):\n",
    "    if isinstance(x, float):\n",
    "        return x\n",
    "\n",
    "    x = x.replace(\".\", \"\")\n",
    "    if x.isnumeric():\n",
    "        return int(x)\n",
    "    return x"
   ]
  },
  {
   "cell_type": "code",
   "execution_count": 40,
   "metadata": {},
   "outputs": [
    {
     "name": "stdout",
     "output_type": "stream",
     "text": [
      "6\n"
     ]
    },
    {
     "data": {
      "text/plain": [
       "array([6, 0, 1, 5, 2, 3])"
      ]
     },
     "execution_count": 40,
     "metadata": {},
     "output_type": "execute_result"
    }
   ],
   "source": [
    "print(df[\"AGE\"].nunique())\n",
    "df[\"AGE\"].unique()"
   ]
  },
  {
   "cell_type": "code",
   "execution_count": 41,
   "metadata": {},
   "outputs": [
    {
     "data": {
      "text/plain": [
       "AGE\n",
       "5    3572\n",
       "1    1477\n",
       "6    1225\n",
       "2     751\n",
       "3     675\n",
       "0      59\n",
       "Name: count, dtype: int64"
      ]
     },
     "execution_count": 41,
     "metadata": {},
     "output_type": "execute_result"
    }
   ],
   "source": [
    "df[\"AGE\"].value_counts()"
   ]
  },
  {
   "cell_type": "code",
   "execution_count": 42,
   "metadata": {},
   "outputs": [
    {
     "name": "stdout",
     "output_type": "stream",
     "text": [
      "null values: 0\n"
     ]
    },
    {
     "data": {
      "text/plain": [
       "AGE\n",
       "Under Construction        3572\n",
       "1-5 Year Old Property     1477\n",
       "0-1 Year Old Property     1225\n",
       "5-10 Year Old Property     751\n",
       "10+ Year Old Property      675\n",
       "Undefined                   59\n",
       "Name: count, dtype: int64"
      ]
     },
     "execution_count": 42,
     "metadata": {},
     "output_type": "execute_result"
    }
   ],
   "source": [
    "temp = pd.read_csv(\"data/facets/AGE.csv\")\n",
    "value_lookup = temp.set_index(\"id\").to_dict()[\"label\"]\n",
    "df[\"AGE\"] = df[\"AGE\"].map(value_lookup)\n",
    "\n",
    "print(\"null values:\", df[\"AGE\"].isnull().sum())\n",
    "df[\"AGE\"].value_counts()"
   ]
  },
  {
   "cell_type": "markdown",
   "metadata": {},
   "source": [
    "## TOTAL_FLOOR"
   ]
  },
  {
   "cell_type": "code",
   "execution_count": 43,
   "metadata": {},
   "outputs": [],
   "source": [
    "df[\"TOTAL_FLOOR\"] = df[\"TOTAL_FLOOR\"].apply(eval_numeric_values)"
   ]
  },
  {
   "cell_type": "code",
   "execution_count": 44,
   "metadata": {},
   "outputs": [
    {
     "name": "stdout",
     "output_type": "stream",
     "text": [
      "84\n"
     ]
    },
    {
     "data": {
      "text/plain": [
       "array([  1.,   7.,  32.,  15.,  60.,  61.,  57.,  22.,  14.,  11.,  18.,\n",
       "        20.,  33.,  12.,  29.,  23.,  38.,  39.,  44.,  42.,  21.,  41.,\n",
       "        68.,  27.,  40.,   6.,   0.,  25.,  35.,  17.,   4.,  24.,  10.,\n",
       "        51.,  19.,  16.,  67., 117.,  59.,  13.,  36.,  55.,  45.,  30.,\n",
       "         8.,  28.,  37.,   3.,  nan,   2.,  47.,   5.,  43.,  34.,  48.,\n",
       "        26.,  54.,  46.,   9.,  70.,  31.,  79.,  53.,  58.,  52.,  65.,\n",
       "        66.,  50.,  64.,  74.,  49.,  72.,  56.,  62.,  75.,  63.,  78.,\n",
       "        90.,  80.,  73.,  82.,  71.,  85.,  69.,  76.])"
      ]
     },
     "execution_count": 44,
     "metadata": {},
     "output_type": "execute_result"
    }
   ],
   "source": [
    "print(df[\"TOTAL_FLOOR\"].nunique())\n",
    "df[\"TOTAL_FLOOR\"].unique()"
   ]
  },
  {
   "cell_type": "code",
   "execution_count": 45,
   "metadata": {},
   "outputs": [
    {
     "name": "stderr",
     "output_type": "stream",
     "text": [
      "C:\\Users\\Paresh Gupta\\AppData\\Local\\Temp\\ipykernel_23236\\633726608.py:1: FutureWarning: The behavior of obj[i:j] with a float-dtype index is deprecated. In a future version, this will be treated as positional instead of label-based. For label-based slicing, use obj.loc[i:j] instead\n",
      "  df[\"TOTAL_FLOOR\"].value_counts(dropna=False)[:10]\n"
     ]
    },
    {
     "data": {
      "text/plain": [
       "TOTAL_FLOOR\n",
       "20.0    628\n",
       "7.0     466\n",
       "23.0    322\n",
       "22.0    304\n",
       "14.0    295\n",
       "18.0    256\n",
       "16.0    249\n",
       "13.0    242\n",
       "29.0    226\n",
       "30.0    210\n",
       "15.0    180\n",
       "12.0    179\n",
       "38.0    167\n",
       "28.0    163\n",
       "24.0    155\n",
       "4.0     148\n",
       "17.0    147\n",
       "41.0    144\n",
       "42.0    138\n",
       "8.0     137\n",
       "26.0    133\n",
       "47.0    130\n",
       "21.0    122\n",
       "40.0    122\n",
       "27.0    116\n",
       "35.0    111\n",
       "34.0    110\n",
       "36.0    110\n",
       "3.0     108\n",
       "25.0    107\n",
       "33.0    103\n",
       "19.0     99\n",
       "6.0      86\n",
       "10.0     80\n",
       "Name: count, dtype: int64"
      ]
     },
     "execution_count": 45,
     "metadata": {},
     "output_type": "execute_result"
    }
   ],
   "source": [
    "df[\"TOTAL_FLOOR\"].value_counts(dropna=False)[:10]"
   ]
  },
  {
   "cell_type": "markdown",
   "metadata": {},
   "source": [
    "## FLOOR_NUM"
   ]
  },
  {
   "cell_type": "code",
   "execution_count": 46,
   "metadata": {},
   "outputs": [],
   "source": [
    "df[\"FLOOR_NUM\"] = df[\"FLOOR_NUM\"].apply(eval_numeric_values)"
   ]
  },
  {
   "cell_type": "code",
   "execution_count": 47,
   "metadata": {},
   "outputs": [
    {
     "name": "stdout",
     "output_type": "stream",
     "text": [
      "68\n"
     ]
    },
    {
     "data": {
      "text/plain": [
       "array([nan, 18, 7, 1, 21, 22, 4, 9, 12, 3, 11, 19, 5, 'g', 17, 6, 8, 2,\n",
       "       25, 40, 37, 26, 20, 10, 16, 13, 24, 23, 35, 15, 28, 0, 14, 30, 42,\n",
       "       27, 33, 32, 47, 41, 36, 45, 46, 50, 29, 77, 76, 57, 70, 62, 'b',\n",
       "       48, 34, 43, 69, 53, 39, 38, 55, 31, 51, 44, 61, 52, 60, 49, 65, 68,\n",
       "       54], dtype=object)"
      ]
     },
     "execution_count": 47,
     "metadata": {},
     "output_type": "execute_result"
    }
   ],
   "source": [
    "print(df[\"FLOOR_NUM\"].nunique())\n",
    "df[\"FLOOR_NUM\"].unique()"
   ]
  },
  {
   "cell_type": "code",
   "execution_count": 48,
   "metadata": {},
   "outputs": [
    {
     "data": {
      "text/plain": [
       "FLOOR_NUM\n",
       "1     4205\n",
       "3      269\n",
       "4      251\n",
       "5      244\n",
       "7      223\n",
       "2      223\n",
       "6      221\n",
       "10     197\n",
       "9      172\n",
       "8      158\n",
       "Name: count, dtype: int64"
      ]
     },
     "execution_count": 48,
     "metadata": {},
     "output_type": "execute_result"
    }
   ],
   "source": [
    "df[\"FLOOR_NUM\"].value_counts(dropna=False)[:10]"
   ]
  },
  {
   "cell_type": "code",
   "execution_count": 49,
   "metadata": {},
   "outputs": [
    {
     "data": {
      "text/plain": [
       "<Axes: xlabel='FLOOR_NUM', ylabel='PRICE'>"
      ]
     },
     "execution_count": 49,
     "metadata": {},
     "output_type": "execute_result"
    },
    {
     "data": {
      "image/png": "[encoded data removed]",
      "text/plain": [
       "<Figure size 640x480 with 1 Axes>"
      ]
     },
     "metadata": {},
     "output_type": "display_data"
    }
   ],
   "source": [
    "sns.barplot(\n",
    "    df.query(\"FLOOR_NUM==['g','b','l','m',1]\"),\n",
    "    x=\"FLOOR_NUM\",\n",
    "    y=\"PRICE\",\n",
    "    estimator=\"median\",\n",
    "    errorbar=(\"ci\", 0),\n",
    ")"
   ]
  },
  {
   "cell_type": "markdown",
   "metadata": {},
   "source": [
    "## Categorize `FLOOR_NUM, TOTAL_FLOOR`"
   ]
  },
  {
   "cell_type": "markdown",
   "metadata": {},
   "source": [
    "I am not going to decode the `FLOOR_NUM, TOTAL_FLOOR` fetures because they are just same value after encodeing.\n",
    "\n",
    "**See:**\n",
    "\n",
    "- [FLOOR_NUM.csv](../data/facets/FLOOR_NUM.csv)\n",
    "- [TOTAL_FLOOR.csv](../data/facets/TOTAL_FLOOR.csv)"
   ]
  },
  {
   "cell_type": "code",
   "execution_count": 50,
   "metadata": {},
   "outputs": [
    {
     "name": "stdout",
     "output_type": "stream",
     "text": [
      "FLOOR_NUM\n",
      "low rise     4756\n",
      "mid rise     1466\n",
      "high rise    1430\n",
      "NaN           107\n",
      "Name: count, dtype: int64\n",
      "TOTAL_FLOOR\n",
      "high rise    6566\n",
      "mid rise     1024\n",
      "low rise      161\n",
      "NaN             8\n",
      "Name: count, dtype: int64\n"
     ]
    }
   ],
   "source": [
    "temp_cols = [\"FLOOR_NUM\", \"TOTAL_FLOOR\"]\n",
    "\n",
    "for col in temp_cols:\n",
    "    df[col] = df[col].apply(\n",
    "        lambda x: x\n",
    "        if pd.isna(obj=x)\n",
    "        else \"low rise\"\n",
    "        if x in [\"g\", \"l\", \"b\", \"m\"]\n",
    "        else \"low rise\"\n",
    "        if 1 <= x <= 3\n",
    "        else \"mid rise\"\n",
    "        if 4 <= x <= 10\n",
    "        else \"high rise\"\n",
    "    )\n",
    "\n",
    "    print(df[col].value_counts(dropna=False))"
   ]
  },
  {
   "cell_type": "markdown",
   "metadata": {},
   "source": [
    "# General Step - End"
   ]
  },
  {
   "cell_type": "code",
   "execution_count": 51,
   "metadata": {},
   "outputs": [
    {
     "data": {
      "text/plain": [
       "Index(['SPID', 'PROP_ID', 'CITY', 'PRICE', 'PRICE_SQFT', 'AREA',\n",
       "       'TOTAL_LANDMARK_COUNT', 'FORMATTED_LANDMARK_DETAILS', 'PROP_HEADING',\n",
       "       'DESCRIPTION', 'PROPERTY_TYPE', 'FURNISH', 'FACING', 'AGE',\n",
       "       'TOTAL_FLOOR', 'FEATURES', 'BEDROOM_NUM', 'AMENITIES', 'PROP_NAME',\n",
       "       'BALCONY_NUM', 'FLOOR_NUM', 'LATITUDE', 'LONGITUDE', 'BHK_BED',\n",
       "       'LOCALITY_NAME', 'BUILDING_NAME', 'SOCIETY_NAME', 'ADDRESS',\n",
       "       'TRANSPORATION', 'ACCOMODATION', 'LEISURE', 'EDUCATION', 'HEALTH',\n",
       "       'OTHER', 'AMENITIES_SCORE', 'FEATURES_SCORE'],\n",
       "      dtype='object')"
      ]
     },
     "execution_count": 51,
     "metadata": {},
     "output_type": "execute_result"
    }
   ],
   "source": [
    "df.columns"
   ]
  },
  {
   "cell_type": "code",
   "execution_count": 52,
   "metadata": {},
   "outputs": [
    {
     "data": {
      "text/plain": [
       "SPID                             0\n",
       "PROP_ID                          0\n",
       "CITY                             0\n",
       "PRICE                            0\n",
       "PRICE_SQFT                       0\n",
       "AREA                             0\n",
       "TOTAL_LANDMARK_COUNT            75\n",
       "FORMATTED_LANDMARK_DETAILS       0\n",
       "PROP_HEADING                     0\n",
       "DESCRIPTION                      0\n",
       "PROPERTY_TYPE                    0\n",
       "FURNISH                          0\n",
       "FACING                           0\n",
       "AGE                              0\n",
       "TOTAL_FLOOR                      8\n",
       "FEATURES                         0\n",
       "BEDROOM_NUM                     60\n",
       "AMENITIES                        0\n",
       "PROP_NAME                       57\n",
       "BALCONY_NUM                   4073\n",
       "FLOOR_NUM                      107\n",
       "LATITUDE                         0\n",
       "LONGITUDE                        0\n",
       "BHK_BED                         60\n",
       "LOCALITY_NAME                    0\n",
       "BUILDING_NAME                   57\n",
       "SOCIETY_NAME                    57\n",
       "ADDRESS                       6052\n",
       "TRANSPORATION                    0\n",
       "ACCOMODATION                     0\n",
       "LEISURE                          0\n",
       "EDUCATION                        0\n",
       "HEALTH                           0\n",
       "OTHER                            0\n",
       "AMENITIES_SCORE                  0\n",
       "FEATURES_SCORE                   0\n",
       "dtype: int64"
      ]
     },
     "execution_count": 52,
     "metadata": {},
     "output_type": "execute_result"
    }
   ],
   "source": [
    "df.isnull().sum()"
   ]
  },
  {
   "cell_type": "code",
   "execution_count": 53,
   "metadata": {},
   "outputs": [
    {
     "data": {
      "text/plain": [
       "(7759, 33)"
      ]
     },
     "execution_count": 53,
     "metadata": {},
     "output_type": "execute_result"
    }
   ],
   "source": [
    "drop_cols = \"FORMATTED_LANDMARK_DETAILS AMENITIES FEATURES\".split()\n",
    "df.drop(columns=drop_cols, inplace=True)\n",
    "df.shape"
   ]
  },
  {
   "cell_type": "code",
   "execution_count": 54,
   "metadata": {},
   "outputs": [
    {
     "data": {
      "text/html": [
       "<div>\n",
       "<style scoped>\n",
       "    .dataframe tbody tr th:only-of-type {\n",
       "        vertical-align: middle;\n",
       "    }\n",
       "\n",
       "    .dataframe tbody tr th {\n",
       "        vertical-align: top;\n",
       "    }\n",
       "\n",
       "    .dataframe thead th {\n",
       "        text-align: right;\n",
       "    }\n",
       "</style>\n",
       "<table border=\"1\" class=\"dataframe\">\n",
       "  <thead>\n",
       "    <tr style=\"text-align: right;\">\n",
       "      <th></th>\n",
       "      <th>SPID</th>\n",
       "      <th>PROP_ID</th>\n",
       "      <th>CITY</th>\n",
       "      <th>PRICE</th>\n",
       "      <th>PRICE_SQFT</th>\n",
       "      <th>AREA</th>\n",
       "      <th>TOTAL_LANDMARK_COUNT</th>\n",
       "      <th>PROP_HEADING</th>\n",
       "      <th>DESCRIPTION</th>\n",
       "      <th>PROPERTY_TYPE</th>\n",
       "      <th>FURNISH</th>\n",
       "      <th>FACING</th>\n",
       "      <th>AGE</th>\n",
       "      <th>TOTAL_FLOOR</th>\n",
       "      <th>BEDROOM_NUM</th>\n",
       "      <th>PROP_NAME</th>\n",
       "      <th>BALCONY_NUM</th>\n",
       "      <th>FLOOR_NUM</th>\n",
       "      <th>LATITUDE</th>\n",
       "      <th>LONGITUDE</th>\n",
       "      <th>BHK_BED</th>\n",
       "      <th>LOCALITY_NAME</th>\n",
       "      <th>BUILDING_NAME</th>\n",
       "      <th>SOCIETY_NAME</th>\n",
       "      <th>ADDRESS</th>\n",
       "      <th>TRANSPORATION</th>\n",
       "      <th>ACCOMODATION</th>\n",
       "      <th>LEISURE</th>\n",
       "      <th>EDUCATION</th>\n",
       "      <th>HEALTH</th>\n",
       "      <th>OTHER</th>\n",
       "      <th>AMENITIES_SCORE</th>\n",
       "      <th>FEATURES_SCORE</th>\n",
       "    </tr>\n",
       "  </thead>\n",
       "  <tbody>\n",
       "    <tr>\n",
       "      <th>5698</th>\n",
       "      <td>70429418</td>\n",
       "      <td>z70429418</td>\n",
       "      <td>mumbai beyond thane</td>\n",
       "      <td>10000.0</td>\n",
       "      <td>11.0</td>\n",
       "      <td>850.0</td>\n",
       "      <td>50.0</td>\n",
       "      <td>2 bhk flat in katrap</td>\n",
       "      <td>premium location , semi furnished flat. at bes...</td>\n",
       "      <td>residential apartment</td>\n",
       "      <td>Semifurnished</td>\n",
       "      <td>West</td>\n",
       "      <td>5-10 Year Old Property</td>\n",
       "      <td>mid rise</td>\n",
       "      <td>2.0</td>\n",
       "      <td>chs ltd</td>\n",
       "      <td>3.0</td>\n",
       "      <td>mid rise</td>\n",
       "      <td>19.167221</td>\n",
       "      <td>73.226009</td>\n",
       "      <td>2.0</td>\n",
       "      <td>katrap</td>\n",
       "      <td>chs ltd</td>\n",
       "      <td>chs ltd</td>\n",
       "      <td>201</td>\n",
       "      <td>0.0</td>\n",
       "      <td>4.0</td>\n",
       "      <td>0.0</td>\n",
       "      <td>1.0</td>\n",
       "      <td>23.0</td>\n",
       "      <td>8.0</td>\n",
       "      <td>74</td>\n",
       "      <td>20</td>\n",
       "    </tr>\n",
       "    <tr>\n",
       "      <th>3526</th>\n",
       "      <td>70566836</td>\n",
       "      <td>h70566836</td>\n",
       "      <td>navi mumbai</td>\n",
       "      <td>36400000.0</td>\n",
       "      <td>38968.0</td>\n",
       "      <td>935.5</td>\n",
       "      <td>7.0</td>\n",
       "      <td>3 bhk flat in seawoods</td>\n",
       "      <td>make l and t west square your next home. this ...</td>\n",
       "      <td>residential apartment</td>\n",
       "      <td>not available</td>\n",
       "      <td>not available</td>\n",
       "      <td>Under Construction</td>\n",
       "      <td>high rise</td>\n",
       "      <td>3.0</td>\n",
       "      <td>l and t west square</td>\n",
       "      <td>NaN</td>\n",
       "      <td>low rise</td>\n",
       "      <td>19.034542</td>\n",
       "      <td>73.011026</td>\n",
       "      <td>3.0</td>\n",
       "      <td>seawoods</td>\n",
       "      <td>l and t west square</td>\n",
       "      <td>l and t west square</td>\n",
       "      <td>NaN</td>\n",
       "      <td>2.0</td>\n",
       "      <td>0.0</td>\n",
       "      <td>1.0</td>\n",
       "      <td>2.0</td>\n",
       "      <td>1.0</td>\n",
       "      <td>1.0</td>\n",
       "      <td>0</td>\n",
       "      <td>0</td>\n",
       "    </tr>\n",
       "    <tr>\n",
       "      <th>2001</th>\n",
       "      <td>70231164</td>\n",
       "      <td>c70231164</td>\n",
       "      <td>mumbai andheri-dahisar</td>\n",
       "      <td>63000.0</td>\n",
       "      <td>74.0</td>\n",
       "      <td>850.0</td>\n",
       "      <td>47.0</td>\n",
       "      <td>2 bhk flat in goregaon east</td>\n",
       "      <td>2 bhk semi furnished with white goods, in prem...</td>\n",
       "      <td>residential apartment</td>\n",
       "      <td>Semifurnished</td>\n",
       "      <td>East</td>\n",
       "      <td>5-10 Year Old Property</td>\n",
       "      <td>high rise</td>\n",
       "      <td>2.0</td>\n",
       "      <td>raheja sherwood</td>\n",
       "      <td>0.0</td>\n",
       "      <td>mid rise</td>\n",
       "      <td>19.154548</td>\n",
       "      <td>72.855670</td>\n",
       "      <td>2.0</td>\n",
       "      <td>goregaon east</td>\n",
       "      <td>raheja sherwood</td>\n",
       "      <td>raheja sherwood</td>\n",
       "      <td>NaN</td>\n",
       "      <td>0.0</td>\n",
       "      <td>2.0</td>\n",
       "      <td>4.0</td>\n",
       "      <td>0.0</td>\n",
       "      <td>18.0</td>\n",
       "      <td>4.0</td>\n",
       "      <td>112</td>\n",
       "      <td>44</td>\n",
       "    </tr>\n",
       "    <tr>\n",
       "      <th>2031</th>\n",
       "      <td>70572518</td>\n",
       "      <td>v70572518</td>\n",
       "      <td>mumbai andheri-dahisar</td>\n",
       "      <td>19800000.0</td>\n",
       "      <td>25548.0</td>\n",
       "      <td>775.0</td>\n",
       "      <td>48.0</td>\n",
       "      <td>2 bhk flat in lokhandwala kandivali east</td>\n",
       "      <td>located in the popular residential address of ...</td>\n",
       "      <td>residential apartment</td>\n",
       "      <td>Unfurnished</td>\n",
       "      <td>North-East</td>\n",
       "      <td>1-5 Year Old Property</td>\n",
       "      <td>high rise</td>\n",
       "      <td>2.0</td>\n",
       "      <td>spring grove tower</td>\n",
       "      <td>4.0</td>\n",
       "      <td>high rise</td>\n",
       "      <td>19.196093</td>\n",
       "      <td>72.868990</td>\n",
       "      <td>2.0</td>\n",
       "      <td>lokhandwala kandivali east</td>\n",
       "      <td>spring grove tower</td>\n",
       "      <td>spring grove tower</td>\n",
       "      <td>NaN</td>\n",
       "      <td>1.0</td>\n",
       "      <td>2.0</td>\n",
       "      <td>0.0</td>\n",
       "      <td>0.0</td>\n",
       "      <td>24.0</td>\n",
       "      <td>2.0</td>\n",
       "      <td>150</td>\n",
       "      <td>72</td>\n",
       "    </tr>\n",
       "    <tr>\n",
       "      <th>2108</th>\n",
       "      <td>70982998</td>\n",
       "      <td>w70982998</td>\n",
       "      <td>central mumbai suburbs</td>\n",
       "      <td>26000000.0</td>\n",
       "      <td>46539.0</td>\n",
       "      <td>557.5</td>\n",
       "      <td>11.0</td>\n",
       "      <td>2 bhk flat in powai</td>\n",
       "      <td>book your 2 bhk apartment in powai, central mu...</td>\n",
       "      <td>residential apartment</td>\n",
       "      <td>not available</td>\n",
       "      <td>not available</td>\n",
       "      <td>Under Construction</td>\n",
       "      <td>high rise</td>\n",
       "      <td>2.0</td>\n",
       "      <td>hiranandani highland</td>\n",
       "      <td>NaN</td>\n",
       "      <td>low rise</td>\n",
       "      <td>19.118046</td>\n",
       "      <td>72.912350</td>\n",
       "      <td>2.0</td>\n",
       "      <td>powai</td>\n",
       "      <td>hiranandani highland</td>\n",
       "      <td>hiranandani highland</td>\n",
       "      <td>NaN</td>\n",
       "      <td>2.0</td>\n",
       "      <td>2.0</td>\n",
       "      <td>1.0</td>\n",
       "      <td>3.0</td>\n",
       "      <td>1.0</td>\n",
       "      <td>2.0</td>\n",
       "      <td>0</td>\n",
       "      <td>0</td>\n",
       "    </tr>\n",
       "    <tr>\n",
       "      <th>6022</th>\n",
       "      <td>70846468</td>\n",
       "      <td>h70846468</td>\n",
       "      <td>navi mumbai</td>\n",
       "      <td>8774000.0</td>\n",
       "      <td>9434.0</td>\n",
       "      <td>930.0</td>\n",
       "      <td>42.0</td>\n",
       "      <td>2 bhk flat in kharghar</td>\n",
       "      <td>live in a world of comfort and style at rachan...</td>\n",
       "      <td>residential apartment</td>\n",
       "      <td>not available</td>\n",
       "      <td>not available</td>\n",
       "      <td>Under Construction</td>\n",
       "      <td>high rise</td>\n",
       "      <td>2.0</td>\n",
       "      <td>rachana enclave</td>\n",
       "      <td>NaN</td>\n",
       "      <td>low rise</td>\n",
       "      <td>19.061718</td>\n",
       "      <td>73.054268</td>\n",
       "      <td>2.0</td>\n",
       "      <td>kharghar</td>\n",
       "      <td>rachana enclave</td>\n",
       "      <td>rachana enclave</td>\n",
       "      <td>NaN</td>\n",
       "      <td>0.0</td>\n",
       "      <td>1.0</td>\n",
       "      <td>0.0</td>\n",
       "      <td>0.0</td>\n",
       "      <td>20.0</td>\n",
       "      <td>5.0</td>\n",
       "      <td>0</td>\n",
       "      <td>0</td>\n",
       "    </tr>\n",
       "    <tr>\n",
       "      <th>5856</th>\n",
       "      <td>70366172</td>\n",
       "      <td>a70366172</td>\n",
       "      <td>mumbai south west</td>\n",
       "      <td>350000.0</td>\n",
       "      <td>159.0</td>\n",
       "      <td>2200.0</td>\n",
       "      <td>49.0</td>\n",
       "      <td>4 bhk flat in juhu</td>\n",
       "      <td>dear sir / madam we are pleased to offer you a...</td>\n",
       "      <td>residential apartment</td>\n",
       "      <td>Semifurnished</td>\n",
       "      <td>West</td>\n",
       "      <td>1-5 Year Old Property</td>\n",
       "      <td>mid rise</td>\n",
       "      <td>4.0</td>\n",
       "      <td>raheja haven apartment</td>\n",
       "      <td>2.0</td>\n",
       "      <td>low rise</td>\n",
       "      <td>19.091139</td>\n",
       "      <td>72.829448</td>\n",
       "      <td>4.0</td>\n",
       "      <td>juhu</td>\n",
       "      <td>raheja haven apartment</td>\n",
       "      <td>raheja haven apartment</td>\n",
       "      <td>101</td>\n",
       "      <td>2.0</td>\n",
       "      <td>1.0</td>\n",
       "      <td>1.0</td>\n",
       "      <td>0.0</td>\n",
       "      <td>18.0</td>\n",
       "      <td>3.0</td>\n",
       "      <td>80</td>\n",
       "      <td>29</td>\n",
       "    </tr>\n",
       "  </tbody>\n",
       "</table>\n",
       "</div>"
      ],
      "text/plain": [
       "          SPID    PROP_ID                    CITY       PRICE  PRICE_SQFT  \\\n",
       "5698  70429418  z70429418     mumbai beyond thane     10000.0        11.0   \n",
       "3526  70566836  h70566836             navi mumbai  36400000.0     38968.0   \n",
       "2001  70231164  c70231164  mumbai andheri-dahisar     63000.0        74.0   \n",
       "2031  70572518  v70572518  mumbai andheri-dahisar  19800000.0     25548.0   \n",
       "2108  70982998  w70982998  central mumbai suburbs  26000000.0     46539.0   \n",
       "6022  70846468  h70846468             navi mumbai   8774000.0      9434.0   \n",
       "5856  70366172  a70366172       mumbai south west    350000.0       159.0   \n",
       "\n",
       "        AREA  TOTAL_LANDMARK_COUNT                              PROP_HEADING  \\\n",
       "5698   850.0                  50.0                      2 bhk flat in katrap   \n",
       "3526   935.5                   7.0                    3 bhk flat in seawoods   \n",
       "2001   850.0                  47.0               2 bhk flat in goregaon east   \n",
       "2031   775.0                  48.0  2 bhk flat in lokhandwala kandivali east   \n",
       "2108   557.5                  11.0                       2 bhk flat in powai   \n",
       "6022   930.0                  42.0                    2 bhk flat in kharghar   \n",
       "5856  2200.0                  49.0                        4 bhk flat in juhu   \n",
       "\n",
       "                                            DESCRIPTION  \\\n",
       "5698  premium location , semi furnished flat. at bes...   \n",
       "3526  make l and t west square your next home. this ...   \n",
       "2001  2 bhk semi furnished with white goods, in prem...   \n",
       "2031  located in the popular residential address of ...   \n",
       "2108  book your 2 bhk apartment in powai, central mu...   \n",
       "6022  live in a world of comfort and style at rachan...   \n",
       "5856  dear sir / madam we are pleased to offer you a...   \n",
       "\n",
       "              PROPERTY_TYPE        FURNISH         FACING  \\\n",
       "5698  residential apartment  Semifurnished           West   \n",
       "3526  residential apartment  not available  not available   \n",
       "2001  residential apartment  Semifurnished           East   \n",
       "2031  residential apartment    Unfurnished     North-East   \n",
       "2108  residential apartment  not available  not available   \n",
       "6022  residential apartment  not available  not available   \n",
       "5856  residential apartment  Semifurnished           West   \n",
       "\n",
       "                         AGE TOTAL_FLOOR  BEDROOM_NUM               PROP_NAME  \\\n",
       "5698  5-10 Year Old Property    mid rise          2.0                 chs ltd   \n",
       "3526      Under Construction   high rise          3.0     l and t west square   \n",
       "2001  5-10 Year Old Property   high rise          2.0         raheja sherwood   \n",
       "2031   1-5 Year Old Property   high rise          2.0      spring grove tower   \n",
       "2108      Under Construction   high rise          2.0    hiranandani highland   \n",
       "6022      Under Construction   high rise          2.0         rachana enclave   \n",
       "5856   1-5 Year Old Property    mid rise          4.0  raheja haven apartment   \n",
       "\n",
       "      BALCONY_NUM  FLOOR_NUM   LATITUDE  LONGITUDE  BHK_BED  \\\n",
       "5698          3.0   mid rise  19.167221  73.226009      2.0   \n",
       "3526          NaN   low rise  19.034542  73.011026      3.0   \n",
       "2001          0.0   mid rise  19.154548  72.855670      2.0   \n",
       "2031          4.0  high rise  19.196093  72.868990      2.0   \n",
       "2108          NaN   low rise  19.118046  72.912350      2.0   \n",
       "6022          NaN   low rise  19.061718  73.054268      2.0   \n",
       "5856          2.0   low rise  19.091139  72.829448      4.0   \n",
       "\n",
       "                   LOCALITY_NAME           BUILDING_NAME  \\\n",
       "5698                      katrap                 chs ltd   \n",
       "3526                    seawoods     l and t west square   \n",
       "2001               goregaon east         raheja sherwood   \n",
       "2031  lokhandwala kandivali east      spring grove tower   \n",
       "2108                       powai    hiranandani highland   \n",
       "6022                    kharghar         rachana enclave   \n",
       "5856                        juhu  raheja haven apartment   \n",
       "\n",
       "                SOCIETY_NAME ADDRESS  TRANSPORATION  ACCOMODATION  LEISURE  \\\n",
       "5698                 chs ltd     201            0.0           4.0      0.0   \n",
       "3526     l and t west square     NaN            2.0           0.0      1.0   \n",
       "2001         raheja sherwood     NaN            0.0           2.0      4.0   \n",
       "2031      spring grove tower     NaN            1.0           2.0      0.0   \n",
       "2108    hiranandani highland     NaN            2.0           2.0      1.0   \n",
       "6022         rachana enclave     NaN            0.0           1.0      0.0   \n",
       "5856  raheja haven apartment     101            2.0           1.0      1.0   \n",
       "\n",
       "      EDUCATION  HEALTH  OTHER  AMENITIES_SCORE  FEATURES_SCORE  \n",
       "5698        1.0    23.0    8.0               74              20  \n",
       "3526        2.0     1.0    1.0                0               0  \n",
       "2001        0.0    18.0    4.0              112              44  \n",
       "2031        0.0    24.0    2.0              150              72  \n",
       "2108        3.0     1.0    2.0                0               0  \n",
       "6022        0.0    20.0    5.0                0               0  \n",
       "5856        0.0    18.0    3.0               80              29  "
      ]
     },
     "execution_count": 54,
     "metadata": {},
     "output_type": "execute_result"
    }
   ],
   "source": [
    "df.sample(7)"
   ]
  },
  {
   "cell_type": "code",
   "execution_count": 55,
   "metadata": {},
   "outputs": [
    {
     "name": "stdout",
     "output_type": "stream",
     "text": [
      "<class 'pandas.core.frame.DataFrame'>\n",
      "RangeIndex: 7759 entries, 0 to 7758\n",
      "Data columns (total 33 columns):\n",
      " #   Column                Non-Null Count  Dtype  \n",
      "---  ------                --------------  -----  \n",
      " 0   SPID                  7759 non-null   int64  \n",
      " 1   PROP_ID               7759 non-null   object \n",
      " 2   CITY                  7759 non-null   object \n",
      " 3   PRICE                 7759 non-null   float64\n",
      " 4   PRICE_SQFT            7759 non-null   float64\n",
      " 5   AREA                  7759 non-null   float64\n",
      " 6   TOTAL_LANDMARK_COUNT  7684 non-null   float64\n",
      " 7   PROP_HEADING          7759 non-null   object \n",
      " 8   DESCRIPTION           7759 non-null   object \n",
      " 9   PROPERTY_TYPE         7759 non-null   object \n",
      " 10  FURNISH               7759 non-null   object \n",
      " 11  FACING                7759 non-null   object \n",
      " 12  AGE                   7759 non-null   object \n",
      " 13  TOTAL_FLOOR           7751 non-null   object \n",
      " 14  BEDROOM_NUM           7699 non-null   float64\n",
      " 15  PROP_NAME             7702 non-null   object \n",
      " 16  BALCONY_NUM           3686 non-null   float64\n",
      " 17  FLOOR_NUM             7652 non-null   object \n",
      " 18  LATITUDE              7759 non-null   float64\n",
      " 19  LONGITUDE             7759 non-null   float64\n",
      " 20  BHK_BED               7699 non-null   float64\n",
      " 21  LOCALITY_NAME         7759 non-null   object \n",
      " 22  BUILDING_NAME         7702 non-null   object \n",
      " 23  SOCIETY_NAME          7702 non-null   object \n",
      " 24  ADDRESS               1707 non-null   object \n",
      " 25  TRANSPORATION         7759 non-null   float64\n",
      " 26  ACCOMODATION          7759 non-null   float64\n",
      " 27  LEISURE               7759 non-null   float64\n",
      " 28  EDUCATION             7759 non-null   float64\n",
      " 29  HEALTH                7759 non-null   float64\n",
      " 30  OTHER                 7759 non-null   float64\n",
      " 31  AMENITIES_SCORE       7759 non-null   int64  \n",
      " 32  FEATURES_SCORE        7759 non-null   int64  \n",
      "dtypes: float64(15), int64(3), object(15)\n",
      "memory usage: 2.0+ MB\n"
     ]
    }
   ],
   "source": [
    "df.info()"
   ]
  },
  {
   "cell_type": "markdown",
   "metadata": {},
   "source": [
    "## Export Dataset"
   ]
  },
  {
   "cell_type": "code",
   "execution_count": 56,
   "metadata": {},
   "outputs": [],
   "source": [
    "df.to_csv(\"data/processed/mumbai.csv\", index=False)"
   ]
  },
  {
   "cell_type": "code",
   "execution_count": null,
   "metadata": {},
   "outputs": [],
   "source": []
  }
 ],
 "metadata": {
  "kernelspec": {
   "display_name": "Python 3 (ipykernel)",
   "language": "python",
   "name": "python3"
  },
  "language_info": {
   "codemirror_mode": {
    "name": "ipython",
    "version": 3
   },
   "file_extension": ".py",
   "mimetype": "text/x-python",
   "name": "python",
   "nbconvert_exporter": "python",
   "pygments_lexer": "ipython3",
   "version": "3.12.9"
  }
 },
 "nbformat": 4,
 "nbformat_minor": 4
}
