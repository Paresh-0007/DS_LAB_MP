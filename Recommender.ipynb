{
 "cells": [
  {
   "cell_type": "code",
   "execution_count": 1,
   "id": "f63c2880-4293-4273-ab67-98c891fc7834",
   "metadata": {},
   "outputs": [],
   "source": [
    "import pandas as pd\n",
    "df = pd.read_csv(\"data/processed/mumbai/res_apartment_dataset.csv\")  # adjust filename if needed\n"
   ]
  },
  {
   "cell_type": "code",
   "execution_count": 2,
   "id": "ca2acc0f-ef6c-4711-96d3-1aa6df823cbf",
   "metadata": {},
   "outputs": [],
   "source": [
    "def clean_age(age):\n",
    "    if pd.isna(age):\n",
    "        return None\n",
    "    age = str(age).strip().lower()\n",
    "    if \"under construction\" in age or \"new\" in age:\n",
    "        return 0\n",
    "    elif \"-\" in age:\n",
    "        try:\n",
    "            return int(age.split(\"-\")[0])\n",
    "        except:\n",
    "            return None\n",
    "    else:\n",
    "        try:\n",
    "            return int(age.split()[0])\n",
    "        except:\n",
    "            return None\n",
    "\n",
    "df[\"AGE_CLEANED\"] = df[\"AGE\"].apply(clean_age)\n"
   ]
  },
  {
   "cell_type": "code",
   "execution_count": null,
   "id": "f654a197-b465-4eaa-943e-3105a3a7999d",
   "metadata": {},
   "outputs": [],
   "source": []
  },
  {
   "cell_type": "code",
   "execution_count": null,
   "id": "da976c41-b7ea-4f2a-abe9-4daa0de1abcc",
   "metadata": {},
   "outputs": [],
   "source": []
  }
 ],
 "metadata": {
  "kernelspec": {
   "display_name": "Python 3 (ipykernel)",
   "language": "python",
   "name": "python3"
  },
  "language_info": {
   "codemirror_mode": {
    "name": "ipython",
    "version": 3
   },
   "file_extension": ".py",
   "mimetype": "text/x-python",
   "name": "python",
   "nbconvert_exporter": "python",
   "pygments_lexer": "ipython3",
   "version": "3.12.9"
  }
 },
 "nbformat": 4,
 "nbformat_minor": 5
}
