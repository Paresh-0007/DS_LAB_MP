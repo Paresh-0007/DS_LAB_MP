{
 "cells": [
  {
   "cell_type": "code",
   "execution_count": 20,
   "id": "5f61f2c2-19f3-4f6c-93c3-925f19c2d914",
   "metadata": {},
   "outputs": [
    {
     "name": "stdout",
     "output_type": "stream",
     "text": [
      "Fitting model with 0.911 R2 score.\n",
      "Model takes 159.248 seconds.\n",
      "Mean Absolute Error: 40.447 Lakh.\n"
     ]
    }
   ],
   "source": [
    "from warnings import filterwarnings\n",
    "from time import perf_counter\n",
    "\n",
    "import numpy as np\n",
    "import pandas as pd\n",
    "from sklearn.metrics import mean_absolute_error\n",
    "from sklearn.compose import ColumnTransformer\n",
    "from sklearn.ensemble import RandomForestRegressor\n",
    "from sklearn.model_selection import train_test_split, cross_val_score\n",
    "from sklearn.pipeline import Pipeline\n",
    "from sklearn.preprocessing import OneHotEncoder, OrdinalEncoder, StandardScaler, FunctionTransformer\n",
    "\n",
    "# Load dataset\n",
    "df = pd.read_csv(\"data/processed/mumbai/res_apartment_dataset.csv\")\n",
    "\n",
    "# Define target and feature columns\n",
    "target = \"PRICE\"\n",
    "num_cols = [\"AREA\"]\n",
    "cat_cols = [\"FURNISH\", \"AGE\", \"BEDROOM_NUM\", \"BALCONY_NUM\", \"FLOOR_NUM\", \"FACING\", \"LOCALITY_NAME\"]\n",
    "\n",
    "# Preprocess data\n",
    "main_df = df[[target] + num_cols + cat_cols].copy()\n",
    "main_df[\"BEDROOM_NUM\"] = main_df[\"BEDROOM_NUM\"].apply(lambda x: x if x <= 5 else 99)\n",
    "main_df[\"BALCONY_NUM\"] = main_df[\"BALCONY_NUM\"].apply(lambda x: x if x <= 4 else 99)\n",
    "\n",
    "# Define transformers\n",
    "preprocessor = ColumnTransformer(\n",
    "    transformers=[\n",
    "        (\"ord\", OrdinalEncoder(categories=[\n",
    "            ['unfurnished', 'semifurnished', 'furnished'],\n",
    "            ['under construction', '0-1 year old property', '1-5 year old property', '5-10 year old property', '10+ year old property'],\n",
    "            [1.0, 2.0, 3.0, 4.0, 5.0, 99.0],\n",
    "            [0.0, 1.0, 2.0, 3.0, 4.0, 99.0],\n",
    "            ['low rise', 'mid rise', 'high rise']\n",
    "        ]), ['FURNISH', 'AGE', 'BEDROOM_NUM', 'BALCONY_NUM', 'FLOOR_NUM']),\n",
    "        (\"ohe\", OneHotEncoder(sparse_output=False, handle_unknown=\"ignore\"), [\"FACING\", \"LOCALITY_NAME\"]),\n",
    "        (\"log1p_area\", FunctionTransformer(np.log1p, np.expm1, validate=True), [\"AREA\"]),\n",
    "    ],\n",
    "    remainder=\"passthrough\",\n",
    ")\n",
    "\n",
    "# Split dataset into train and test sets\n",
    "X = main_df.drop(columns=[target])\n",
    "y = np.log1p(main_df[target])\n",
    "X_train, X_test, y_train, y_test = train_test_split(X, y, test_size=0.2, random_state=42)\n",
    "\n",
    "# Define model pipeline\n",
    "model = Pipeline([\n",
    "    (\"preprocessor\", preprocessor),\n",
    "    (\"scaler\", StandardScaler()),\n",
    "    (\"model\", RandomForestRegressor(n_estimators=500)),\n",
    "])\n",
    "\n",
    "# Train and evaluate model\n",
    "start_time = perf_counter()\n",
    "scores = cross_val_score(model, X_train, y_train, cv=5, scoring=\"r2\")\n",
    "print(f\"Fitting model with {scores.mean():.3f} R2 score.\")\n",
    "model.fit(X_train, y_train)\n",
    "y_pred = model.predict(X_test)\n",
    "mae = mean_absolute_error(np.expm1(y_test), np.expm1(y_pred)) / 100000  # Convert to lakh\n",
    "print(f\"Model takes {(perf_counter() - start_time):.3f} seconds.\")\n",
    "print(f\"Mean Absolute Error: {mae:.3f} Lakh.\")\n"
   ]
  },
  {
   "cell_type": "code",
   "execution_count": null,
   "id": "efb48eb5-b817-4497-bae5-a6f6e1a1d868",
   "metadata": {},
   "outputs": [],
   "source": [
    "import pickle\n",
    "\n",
    "# # Save the trained model\n",
    "# with open(\"model/price_prediction_model.pkl\", \"wb\") as model_file:\n",
    "#     pickle.dump(model, model_file)\n",
    "\n",
    "# Save the preprocessor\n",
    "with open(\"model/preprocessor.pkl\", \"wb\") as preprocessor_file:\n",
    "    pickle.dump(preprocessor, preprocessor_file)\n"
   ]
  },
  {
   "cell_type": "code",
   "execution_count": null,
   "id": "7650ef89-3026-42e0-8815-583b783a4141",
   "metadata": {},
   "outputs": [],
   "source": [
    "##Deploying the model\n",
    "##refer to pages/Price_Prediction.py for the deployment code"
   ]
  },
  {
   "cell_type": "code",
   "execution_count": null,
   "id": "78bc390a",
   "metadata": {},
   "outputs": [],
   "source": []
  }
 ],
 "metadata": {
  "kernelspec": {
   "display_name": "Python 3 (ipykernel)",
   "language": "python",
   "name": "python3"
  },
  "language_info": {
   "codemirror_mode": {
    "name": "ipython",
    "version": 3
   },
   "file_extension": ".py",
   "mimetype": "text/x-python",
   "name": "python",
   "nbconvert_exporter": "python",
   "pygments_lexer": "ipython3",
   "version": "3.12.9"
  }
 },
 "nbformat": 4,
 "nbformat_minor": 5
}
