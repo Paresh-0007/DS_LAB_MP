{
 "cells": [
  {
   "cell_type": "markdown",
   "metadata": {},
   "source": [
    "## Model Selection"
   ]
  },
  {
   "cell_type": "code",
   "execution_count": 68,
   "metadata": {},
   "outputs": [],
   "source": [
    "from warnings import filterwarnings\n",
    "from time import perf_counter\n",
    "\n",
    "import numpy as np\n",
    "from matplotlib import pyplot as plt\n",
    "import pandas as pd\n",
    "import seaborn as sns\n",
    "\n",
    "from sklearn.metrics import mean_absolute_error\n",
    "from sklearn.compose import ColumnTransformer\n",
    "from sklearn.linear_model import Ridge\n",
    "from sklearn.svm import SVR\n",
    "from sklearn.ensemble import RandomForestRegressor\n",
    "from sklearn.model_selection import train_test_split, cross_val_score\n",
    "from sklearn.pipeline import Pipeline\n",
    "from sklearn.preprocessing import OneHotEncoder, OrdinalEncoder, StandardScaler, FunctionTransformer\n",
    "\n",
    "from helpers import constants as C"
   ]
  },
  {
   "cell_type": "code",
   "execution_count": 69,
   "metadata": {},
   "outputs": [],
   "source": [
    "filterwarnings(\"ignore\")"
   ]
  },
  {
   "cell_type": "code",
   "execution_count": 70,
   "metadata": {},
   "outputs": [
    {
     "name": "stdout",
     "output_type": "stream",
     "text": [
      "(8024, 19)\n"
     ]
    },
    {
     "data": {
      "text/html": [
       "<div>\n",
       "<style scoped>\n",
       "    .dataframe tbody tr th:only-of-type {\n",
       "        vertical-align: middle;\n",
       "    }\n",
       "\n",
       "    .dataframe tbody tr th {\n",
       "        vertical-align: top;\n",
       "    }\n",
       "\n",
       "    .dataframe thead th {\n",
       "        text-align: right;\n",
       "    }\n",
       "</style>\n",
       "<table border=\"1\" class=\"dataframe\">\n",
       "  <thead>\n",
       "    <tr style=\"text-align: right;\">\n",
       "      <th></th>\n",
       "      <th>PROP_ID</th>\n",
       "      <th>CITY</th>\n",
       "      <th>PRICE</th>\n",
       "      <th>AREA</th>\n",
       "      <th>PROPERTY_TYPE</th>\n",
       "      <th>FURNISH</th>\n",
       "      <th>FACING</th>\n",
       "      <th>AGE</th>\n",
       "      <th>BEDROOM_NUM</th>\n",
       "      <th>BALCONY_NUM</th>\n",
       "      <th>FLOOR_NUM</th>\n",
       "      <th>LOCALITY_NAME</th>\n",
       "      <th>LUXURY_CATEGORY</th>\n",
       "      <th>PROP_HEADING</th>\n",
       "      <th>DESCRIPTION</th>\n",
       "      <th>PROP_NAME</th>\n",
       "      <th>LATITUDE</th>\n",
       "      <th>LONGITUDE</th>\n",
       "      <th>SOCIETY_NAME</th>\n",
       "    </tr>\n",
       "  </thead>\n",
       "  <tbody>\n",
       "    <tr>\n",
       "      <th>0</th>\n",
       "      <td>https://99acres.com/HTTPS://99ACRES.COM/A70699844</td>\n",
       "      <td>thane</td>\n",
       "      <td>23000000.0</td>\n",
       "      <td>1040.0</td>\n",
       "      <td>residential apartment</td>\n",
       "      <td>semifurnished</td>\n",
       "      <td>north-west</td>\n",
       "      <td>1-5 year old property</td>\n",
       "      <td>2.0</td>\n",
       "      <td>1.0</td>\n",
       "      <td>high rise</td>\n",
       "      <td>balkum</td>\n",
       "      <td>1</td>\n",
       "      <td>2 bhk flat in balkum</td>\n",
       "      <td>piramal vaikunth is one of thane's most sought...</td>\n",
       "      <td>piramal vaikunth</td>\n",
       "      <td>19.223389</td>\n",
       "      <td>72.989916</td>\n",
       "      <td>piramal vaikunth</td>\n",
       "    </tr>\n",
       "    <tr>\n",
       "      <th>1</th>\n",
       "      <td>https://99acres.com/HTTPS://99ACRES.COM/H69523096</td>\n",
       "      <td>central mumbai suburbs</td>\n",
       "      <td>9099000.0</td>\n",
       "      <td>481.0</td>\n",
       "      <td>residential apartment</td>\n",
       "      <td>semifurnished</td>\n",
       "      <td>east</td>\n",
       "      <td>under construction</td>\n",
       "      <td>2.0</td>\n",
       "      <td>99.0</td>\n",
       "      <td>low rise</td>\n",
       "      <td>bhandup west</td>\n",
       "      <td>2</td>\n",
       "      <td>2 bhk flat in bhandup west</td>\n",
       "      <td>enjoy a blissful living experience in marathon...</td>\n",
       "      <td>marathon neovalley</td>\n",
       "      <td>19.148382</td>\n",
       "      <td>72.932412</td>\n",
       "      <td>marathon neovalley</td>\n",
       "    </tr>\n",
       "    <tr>\n",
       "      <th>2</th>\n",
       "      <td>https://99acres.com/HTTPS://99ACRES.COM/X70319554</td>\n",
       "      <td>mumbai south west</td>\n",
       "      <td>27700000.0</td>\n",
       "      <td>749.0</td>\n",
       "      <td>residential apartment</td>\n",
       "      <td>semifurnished</td>\n",
       "      <td>east</td>\n",
       "      <td>under construction</td>\n",
       "      <td>2.0</td>\n",
       "      <td>99.0</td>\n",
       "      <td>low rise</td>\n",
       "      <td>santacruz east</td>\n",
       "      <td>2</td>\n",
       "      <td>2 bhk flat in santacruz east</td>\n",
       "      <td>book your 2 bhk flat in santacruz east, mumbai...</td>\n",
       "      <td>kolte alora</td>\n",
       "      <td>19.081032</td>\n",
       "      <td>72.857794</td>\n",
       "      <td>kolte alora</td>\n",
       "    </tr>\n",
       "    <tr>\n",
       "      <th>3</th>\n",
       "      <td>https://99acres.com/HTTPS://99ACRES.COM/P68170490</td>\n",
       "      <td>south mumbai</td>\n",
       "      <td>48600000.0</td>\n",
       "      <td>1215.0</td>\n",
       "      <td>residential apartment</td>\n",
       "      <td>semifurnished</td>\n",
       "      <td>east</td>\n",
       "      <td>under construction</td>\n",
       "      <td>3.0</td>\n",
       "      <td>99.0</td>\n",
       "      <td>low rise</td>\n",
       "      <td>lower parel</td>\n",
       "      <td>2</td>\n",
       "      <td>3 bhk flat in lower parel</td>\n",
       "      <td>there is a 3 bhk apartment in lower parel, sou...</td>\n",
       "      <td>arihant towers by mj shah</td>\n",
       "      <td>18.999908</td>\n",
       "      <td>72.846725</td>\n",
       "      <td>arihant towers by mj shah</td>\n",
       "    </tr>\n",
       "    <tr>\n",
       "      <th>4</th>\n",
       "      <td>https://99acres.com/HTTPS://99ACRES.COM/S70951224</td>\n",
       "      <td>navi mumbai</td>\n",
       "      <td>3600000.0</td>\n",
       "      <td>339.0</td>\n",
       "      <td>residential apartment</td>\n",
       "      <td>semifurnished</td>\n",
       "      <td>east</td>\n",
       "      <td>under construction</td>\n",
       "      <td>1.0</td>\n",
       "      <td>99.0</td>\n",
       "      <td>low rise</td>\n",
       "      <td>shilphata</td>\n",
       "      <td>2</td>\n",
       "      <td>1 bhk flat in shilphata</td>\n",
       "      <td>mansarovar residency is a residential project,...</td>\n",
       "      <td>mansarovar residency</td>\n",
       "      <td>19.144990</td>\n",
       "      <td>73.037922</td>\n",
       "      <td>mansarovar residency</td>\n",
       "    </tr>\n",
       "  </tbody>\n",
       "</table>\n",
       "</div>"
      ],
      "text/plain": [
       "                                             PROP_ID                    CITY  \\\n",
       "0  https://99acres.com/HTTPS://99ACRES.COM/A70699844                   thane   \n",
       "1  https://99acres.com/HTTPS://99ACRES.COM/H69523096  central mumbai suburbs   \n",
       "2  https://99acres.com/HTTPS://99ACRES.COM/X70319554       mumbai south west   \n",
       "3  https://99acres.com/HTTPS://99ACRES.COM/P68170490            south mumbai   \n",
       "4  https://99acres.com/HTTPS://99ACRES.COM/S70951224             navi mumbai   \n",
       "\n",
       "        PRICE    AREA          PROPERTY_TYPE        FURNISH      FACING  \\\n",
       "0  23000000.0  1040.0  residential apartment  semifurnished  north-west   \n",
       "1   9099000.0   481.0  residential apartment  semifurnished        east   \n",
       "2  27700000.0   749.0  residential apartment  semifurnished        east   \n",
       "3  48600000.0  1215.0  residential apartment  semifurnished        east   \n",
       "4   3600000.0   339.0  residential apartment  semifurnished        east   \n",
       "\n",
       "                     AGE  BEDROOM_NUM  BALCONY_NUM  FLOOR_NUM   LOCALITY_NAME  \\\n",
       "0  1-5 year old property          2.0          1.0  high rise          balkum   \n",
       "1     under construction          2.0         99.0   low rise    bhandup west   \n",
       "2     under construction          2.0         99.0   low rise  santacruz east   \n",
       "3     under construction          3.0         99.0   low rise     lower parel   \n",
       "4     under construction          1.0         99.0   low rise       shilphata   \n",
       "\n",
       "   LUXURY_CATEGORY                  PROP_HEADING  \\\n",
       "0                1          2 bhk flat in balkum   \n",
       "1                2    2 bhk flat in bhandup west   \n",
       "2                2  2 bhk flat in santacruz east   \n",
       "3                2     3 bhk flat in lower parel   \n",
       "4                2       1 bhk flat in shilphata   \n",
       "\n",
       "                                         DESCRIPTION  \\\n",
       "0  piramal vaikunth is one of thane's most sought...   \n",
       "1  enjoy a blissful living experience in marathon...   \n",
       "2  book your 2 bhk flat in santacruz east, mumbai...   \n",
       "3  there is a 3 bhk apartment in lower parel, sou...   \n",
       "4  mansarovar residency is a residential project,...   \n",
       "\n",
       "                   PROP_NAME   LATITUDE  LONGITUDE               SOCIETY_NAME  \n",
       "0           piramal vaikunth  19.223389  72.989916           piramal vaikunth  \n",
       "1         marathon neovalley  19.148382  72.932412         marathon neovalley  \n",
       "2                kolte alora  19.081032  72.857794                kolte alora  \n",
       "3  arihant towers by mj shah  18.999908  72.846725  arihant towers by mj shah  \n",
       "4       mansarovar residency  19.144990  73.037922       mansarovar residency  "
      ]
     },
     "execution_count": 70,
     "metadata": {},
     "output_type": "execute_result"
    }
   ],
   "source": [
    "df = pd.read_csv(\"data/processed/mumbai/res_apartment_dataset.csv\")\n",
    "print(df.shape)\n",
    "df.head()"
   ]
  },
  {
   "cell_type": "code",
   "execution_count": 71,
   "metadata": {},
   "outputs": [
    {
     "data": {
      "text/plain": [
       "PROP_ID            0\n",
       "CITY               0\n",
       "PRICE              0\n",
       "AREA               0\n",
       "PROPERTY_TYPE      0\n",
       "FURNISH            0\n",
       "FACING             0\n",
       "AGE                0\n",
       "BEDROOM_NUM        0\n",
       "BALCONY_NUM        0\n",
       "FLOOR_NUM          0\n",
       "LOCALITY_NAME      0\n",
       "LUXURY_CATEGORY    0\n",
       "PROP_HEADING       0\n",
       "DESCRIPTION        0\n",
       "PROP_NAME          0\n",
       "LATITUDE           0\n",
       "LONGITUDE          0\n",
       "SOCIETY_NAME       0\n",
       "dtype: int64"
      ]
     },
     "execution_count": 71,
     "metadata": {},
     "output_type": "execute_result"
    }
   ],
   "source": [
    "df.isnull().sum()"
   ]
  },
  {
   "cell_type": "code",
   "execution_count": 72,
   "metadata": {},
   "outputs": [],
   "source": [
    "target = \"PRICE\"\n",
    "num_cols = [\n",
    "    \"AREA\",\n",
    "]\n",
    "cat_cols = [\n",
    "    \"FURNISH\",\n",
    "    \"AGE\",\n",
    "    \"BEDROOM_NUM\",\n",
    "    \"BALCONY_NUM\",\n",
    "    \"FLOOR_NUM\",\n",
    "    \"FACING\",\n",
    "    \"LOCALITY_NAME\",\n",
    "]"
   ]
  },
  {
   "cell_type": "code",
   "execution_count": 73,
   "metadata": {},
   "outputs": [
    {
     "name": "stdout",
     "output_type": "stream",
     "text": [
      "(8024, 9)\n"
     ]
    },
    {
     "data": {
      "text/html": [
       "<div>\n",
       "<style scoped>\n",
       "    .dataframe tbody tr th:only-of-type {\n",
       "        vertical-align: middle;\n",
       "    }\n",
       "\n",
       "    .dataframe tbody tr th {\n",
       "        vertical-align: top;\n",
       "    }\n",
       "\n",
       "    .dataframe thead th {\n",
       "        text-align: right;\n",
       "    }\n",
       "</style>\n",
       "<table border=\"1\" class=\"dataframe\">\n",
       "  <thead>\n",
       "    <tr style=\"text-align: right;\">\n",
       "      <th></th>\n",
       "      <th>PRICE</th>\n",
       "      <th>AREA</th>\n",
       "      <th>FURNISH</th>\n",
       "      <th>AGE</th>\n",
       "      <th>BEDROOM_NUM</th>\n",
       "      <th>BALCONY_NUM</th>\n",
       "      <th>FLOOR_NUM</th>\n",
       "      <th>FACING</th>\n",
       "      <th>LOCALITY_NAME</th>\n",
       "    </tr>\n",
       "  </thead>\n",
       "  <tbody>\n",
       "    <tr>\n",
       "      <th>0</th>\n",
       "      <td>23000000.0</td>\n",
       "      <td>1040.0</td>\n",
       "      <td>semifurnished</td>\n",
       "      <td>1-5 year old property</td>\n",
       "      <td>2.0</td>\n",
       "      <td>1.0</td>\n",
       "      <td>high rise</td>\n",
       "      <td>north-west</td>\n",
       "      <td>balkum</td>\n",
       "    </tr>\n",
       "    <tr>\n",
       "      <th>1</th>\n",
       "      <td>9099000.0</td>\n",
       "      <td>481.0</td>\n",
       "      <td>semifurnished</td>\n",
       "      <td>under construction</td>\n",
       "      <td>2.0</td>\n",
       "      <td>99.0</td>\n",
       "      <td>low rise</td>\n",
       "      <td>east</td>\n",
       "      <td>bhandup west</td>\n",
       "    </tr>\n",
       "    <tr>\n",
       "      <th>2</th>\n",
       "      <td>27700000.0</td>\n",
       "      <td>749.0</td>\n",
       "      <td>semifurnished</td>\n",
       "      <td>under construction</td>\n",
       "      <td>2.0</td>\n",
       "      <td>99.0</td>\n",
       "      <td>low rise</td>\n",
       "      <td>east</td>\n",
       "      <td>santacruz east</td>\n",
       "    </tr>\n",
       "    <tr>\n",
       "      <th>3</th>\n",
       "      <td>48600000.0</td>\n",
       "      <td>1215.0</td>\n",
       "      <td>semifurnished</td>\n",
       "      <td>under construction</td>\n",
       "      <td>3.0</td>\n",
       "      <td>99.0</td>\n",
       "      <td>low rise</td>\n",
       "      <td>east</td>\n",
       "      <td>lower parel</td>\n",
       "    </tr>\n",
       "    <tr>\n",
       "      <th>4</th>\n",
       "      <td>3600000.0</td>\n",
       "      <td>339.0</td>\n",
       "      <td>semifurnished</td>\n",
       "      <td>under construction</td>\n",
       "      <td>1.0</td>\n",
       "      <td>99.0</td>\n",
       "      <td>low rise</td>\n",
       "      <td>east</td>\n",
       "      <td>shilphata</td>\n",
       "    </tr>\n",
       "  </tbody>\n",
       "</table>\n",
       "</div>"
      ],
      "text/plain": [
       "        PRICE    AREA        FURNISH                    AGE  BEDROOM_NUM  \\\n",
       "0  23000000.0  1040.0  semifurnished  1-5 year old property          2.0   \n",
       "1   9099000.0   481.0  semifurnished     under construction          2.0   \n",
       "2  27700000.0   749.0  semifurnished     under construction          2.0   \n",
       "3  48600000.0  1215.0  semifurnished     under construction          3.0   \n",
       "4   3600000.0   339.0  semifurnished     under construction          1.0   \n",
       "\n",
       "   BALCONY_NUM  FLOOR_NUM      FACING   LOCALITY_NAME  \n",
       "0          1.0  high rise  north-west          balkum  \n",
       "1         99.0   low rise        east    bhandup west  \n",
       "2         99.0   low rise        east  santacruz east  \n",
       "3         99.0   low rise        east     lower parel  \n",
       "4         99.0   low rise        east       shilphata  "
      ]
     },
     "execution_count": 73,
     "metadata": {},
     "output_type": "execute_result"
    }
   ],
   "source": [
    "main_df = df[[target] + num_cols + cat_cols].copy(True)\n",
    "print(main_df.shape)\n",
    "main_df.head()"
   ]
  },
  {
   "cell_type": "code",
   "execution_count": 74,
   "metadata": {},
   "outputs": [
    {
     "data": {
      "image/png": "[encoded data removed]",
      "text/plain": [
       "<Figure size 1200x400 with 2 Axes>"
      ]
     },
     "metadata": {},
     "output_type": "display_data"
    },
    {
     "data": {
      "image/png": "[encoded data removed]",
      "text/plain": [
       "<Figure size 1200x400 with 2 Axes>"
      ]
     },
     "metadata": {},
     "output_type": "display_data"
    }
   ],
   "source": [
    "for i in [\"AREA\", \"PRICE\"]:\n",
    "    fig, (ax1, ax2) = plt.subplots(1, 2, figsize=(12, 4))\n",
    "    sns.kdeplot(x=main_df[i], ax=ax1)\n",
    "    sns.kdeplot(x=np.log1p(main_df[i]), ax=ax2)\n",
    "\n",
    "    fig.suptitle(i)\n",
    "    plt.show()"
   ]
  },
  {
   "cell_type": "code",
   "execution_count": 75,
   "metadata": {},
   "outputs": [
    {
     "data": {
      "text/plain": [
       "<Axes: >"
      ]
     },
     "execution_count": 75,
     "metadata": {},
     "output_type": "execute_result"
    },
    {
     "data": {
      "image/png": "[encoded data removed]",
      "text/plain": [
       "<Figure size 640x480 with 1 Axes>"
      ]
     },
     "metadata": {},
     "output_type": "display_data"
    }
   ],
   "source": [
    "sns.heatmap(main_df.corr(numeric_only=True), cmap=\"coolwarm\", cbar=False, annot=True, fmt=\".2f\")"
   ]
  },
  {
   "cell_type": "markdown",
   "metadata": {},
   "source": [
    "### Encoding of categorical features"
   ]
  },
  {
   "cell_type": "code",
   "execution_count": 76,
   "metadata": {},
   "outputs": [],
   "source": [
    "main_df[\"BEDROOM_NUM\"] = main_df[\"BEDROOM_NUM\"].apply(lambda x: x if x <= 5 else 99)\n",
    "main_df[\"BALCONY_NUM\"] = main_df[\"BALCONY_NUM\"].apply(lambda x: x if x <= 4 else 99)"
   ]
  },
  {
   "cell_type": "code",
   "execution_count": 77,
   "metadata": {},
   "outputs": [
    {
     "name": "stdout",
     "output_type": "stream",
     "text": [
      "         'FURNISH': ['semifurnished', 'furnished', 'unfurnished']\n",
      "             'AGE': ['1-5 year old property', 'under construction', '0-1 year old property', '5-10 year old property', '10+ year old property']\n",
      "     'BEDROOM_NUM': [2.0, 3.0, 1.0, 5.0, 4.0, 99.0]\n",
      "     'BALCONY_NUM': [1.0, 99.0, 2.0, 3.0, 0.0, 4.0]\n",
      "       'FLOOR_NUM': ['high rise', 'low rise', 'mid rise']\n",
      "          'FACING': ['north-west', 'east', 'north', 'west', 'south', 'south-east', 'north-east', 'south-west']\n",
      "   'LOCALITY_NAME': 502\n"
     ]
    }
   ],
   "source": [
    "for col in cat_cols:\n",
    "    if main_df[col].nunique() < 20:\n",
    "        print(f\"{col!r:>18}: {main_df[col].unique().tolist()}\")\n",
    "    else:\n",
    "        print(f\"{col!r:>18}: {main_df[col].nunique()}\")"
   ]
  },
  {
   "cell_type": "code",
   "execution_count": 78,
   "metadata": {},
   "outputs": [],
   "source": [
    "ord_cols = {\n",
    "    'FURNISH': ['unfurnished', 'semifurnished', 'furnished'],  # Ensure correct order\n",
    "    \"AGE\": ['under construction', '0-1 year old property', '1-5 year old property', \n",
    "            '5-10 year old property', '10+ year old property'],  # Sorted logically\n",
    "    \"BEDROOM_NUM\": sorted([2.0, 3.0, 1.0, 5.0, 4.0, 99.0]),  # Ensure sorting\n",
    "    \"BALCONY_NUM\": sorted([1.0, 99.0, 2.0, 3.0, 0.0, 4.0]),   # Ensure sorting\n",
    "    \"FLOOR_NUM\": ['low rise', 'mid rise', 'high rise'],  # Logical order\n",
    "}\n",
    "ohe_cols = [\"FACING\", \"LOCALITY_NAME\"]"
   ]
  },
  {
   "cell_type": "markdown",
   "metadata": {},
   "source": [
    "### Encoding Pipeline"
   ]
  },
  {
   "cell_type": "code",
   "execution_count": 79,
   "metadata": {},
   "outputs": [],
   "source": [
    "preprocessor = ColumnTransformer(\n",
    "    transformers=[\n",
    "        (\"ord\", OrdinalEncoder(categories=list(ord_cols.values())), list(ord_cols.keys())),\n",
    "        (\"ohe\", OneHotEncoder(sparse_output=False, handle_unknown=\"ignore\"), ohe_cols),\n",
    "        (\"log1p_area\", FunctionTransformer(np.log1p, np.expm1, validate=True), [\"AREA\"]),\n",
    "    ],\n",
    "    remainder=\"passthrough\",\n",
    ")"
   ]
  },
  {
   "cell_type": "markdown",
   "metadata": {},
   "source": [
    "### Split Dataset"
   ]
  },
  {
   "cell_type": "code",
   "execution_count": 80,
   "metadata": {},
   "outputs": [],
   "source": [
    "X = main_df.drop(columns=[target])\n",
    "y = pd.Series(np.log1p(main_df[target]), name=\"PRICE\")\n",
    "\n",
    "X_train, X_test, y_train, y_test = train_test_split(X, y, test_size=0.2, random_state=42)"
   ]
  },
  {
   "cell_type": "code",
   "execution_count": 81,
   "metadata": {},
   "outputs": [
    {
     "data": {
      "text/plain": [
       "((6419, 8), (1605, 8))"
      ]
     },
     "execution_count": 81,
     "metadata": {},
     "output_type": "execute_result"
    }
   ],
   "source": [
    "X_train.shape, X_test.shape"
   ]
  },
  {
   "cell_type": "code",
   "execution_count": 82,
   "metadata": {},
   "outputs": [],
   "source": [
    "def calc_scores(y_true, y_pred):\n",
    "    y_true = np.expm1(y_true)\n",
    "    y_pred = np.expm1(y_pred)\n",
    "\n",
    "    mae = mean_absolute_error(y_true, y_pred) / C.LAKH\n",
    "    return mae"
   ]
  },
  {
   "cell_type": "code",
   "execution_count": 83,
   "metadata": {},
   "outputs": [],
   "source": [
    "def create_model_pipe(estimator, preprocessor: ColumnTransformer | None):\n",
    "    return Pipeline(\n",
    "        steps=[\n",
    "            (\"preprocessor\", preprocessor),\n",
    "            (\"scaler\", StandardScaler()),\n",
    "            (\"model\", estimator),\n",
    "        ]\n",
    "    )"
   ]
  },
  {
   "cell_type": "code",
   "execution_count": 84,
   "metadata": {},
   "outputs": [],
   "source": [
    "models_dict = {\n",
    "    # This throw error that while transforming the y_pred data some data goes to infinity.\n",
    "    # Also, it has very low r2_score approx (-7.778398599756416e+22)\n",
    "    # \"lr\": LinearRegression(),\n",
    "    #\"ridge_default\": Ridge(),\n",
    "    #\"rf_100\": RandomForestRegressor(n_estimators=100),\n",
    "    \"rf_500\": RandomForestRegressor(n_estimators=500),\n",
    "    \"svr_rbf\": SVR(kernel=\"rbf\"),\n",
    "}"
   ]
  },
  {
   "cell_type": "code",
   "execution_count": 86,
   "metadata": {},
   "outputs": [],
   "source": [
    "def calc_cv_score(X_train, y_train, *, X_test=None, y_test=None) -> dict:\n",
    "    scores_dict = {}\n",
    "\n",
    "    if X_test is None or y_test is None:\n",
    "        X_test = X_train\n",
    "        y_test = y_train\n",
    "\n",
    "    for name, estimator in models_dict.items():\n",
    "        start_time = perf_counter()\n",
    "        scores = cross_val_score(\n",
    "            model := create_model_pipe(estimator, preprocessor),\n",
    "            X_train,\n",
    "            y_train,\n",
    "            cv=5,\n",
    "            scoring=\"r2\",\n",
    "        )\n",
    "\n",
    "        print(f\"Fitting `{name}` model with {scores.mean():.3} R2 score.\")\n",
    "        model.fit(X_train, y_train)\n",
    "        \n",
    "         # Save the trained model using joblib\n",
    "        model_filename = f\"{name}_model.pkl\"\n",
    "        import pickle\n",
    "\n",
    "        model_path = \"model/rf_500_res_apartment_model.pkl\"\n",
    "\n",
    "        with open(model_path, \"wb\") as file:\n",
    "            pickle.dump(trained_model, file)  # trained_model should be your RandomForestRegressor\n",
    "\n",
    "        print(f\"Saved `{name}` model to {model_filename}\")\n",
    "        \n",
    "        scores_dict[name] = {\n",
    "            \"r2_mean\": scores.mean(),\n",
    "            \"r2_std\": scores.std(),\n",
    "            \"mae\": calc_scores(y_test, model.predict(X_test)),\n",
    "        }\n",
    "        print(f\"{name} model takes {(perf_counter() - start_time):.3} seconds.\\n\")\n",
    "\n",
    "    return scores_dict"
   ]
  },
  {
   "cell_type": "code",
   "execution_count": 87,
   "metadata": {},
   "outputs": [],
   "source": [
    "def dict_to_df(d: dict) -> pd.DataFrame:\n",
    "    return pd.DataFrame.from_dict(d, \"index\").sort_values(\"mae\").round(3)"
   ]
  },
  {
   "cell_type": "code",
   "execution_count": 88,
   "metadata": {},
   "outputs": [
    {
     "name": "stdout",
     "output_type": "stream",
     "text": [
      "Fitting `rf_500` model with 0.911 R2 score.\n"
     ]
    },
    {
     "ename": "NameError",
     "evalue": "name 'trained_model' is not defined",
     "output_type": "error",
     "traceback": [
      "\u001b[31m---------------------------------------------------------------------------\u001b[39m",
      "\u001b[31mNameError\u001b[39m                                 Traceback (most recent call last)",
      "\u001b[36mCell\u001b[39m\u001b[36m \u001b[39m\u001b[32mIn[88]\u001b[39m\u001b[32m, line 2\u001b[39m\n\u001b[32m      1\u001b[39m \u001b[38;5;66;03m# Training model with testing datasets\u001b[39;00m\n\u001b[32m----> \u001b[39m\u001b[32m2\u001b[39m scores_dict = \u001b[43mcalc_cv_score\u001b[49m\u001b[43m(\u001b[49m\u001b[43mX_train\u001b[49m\u001b[43m=\u001b[49m\u001b[43mX_train\u001b[49m\u001b[43m,\u001b[49m\u001b[43m \u001b[49m\u001b[43my_train\u001b[49m\u001b[43m=\u001b[49m\u001b[43my_train\u001b[49m\u001b[43m,\u001b[49m\u001b[43m \u001b[49m\u001b[43mX_test\u001b[49m\u001b[43m=\u001b[49m\u001b[43mX_test\u001b[49m\u001b[43m,\u001b[49m\u001b[43m \u001b[49m\u001b[43my_test\u001b[49m\u001b[43m=\u001b[49m\u001b[43my_test\u001b[49m\u001b[43m)\u001b[49m\n\u001b[32m      3\u001b[39m dict_to_df(scores_dict)\n",
      "\u001b[36mCell\u001b[39m\u001b[36m \u001b[39m\u001b[32mIn[86]\u001b[39m\u001b[32m, line 28\u001b[39m, in \u001b[36mcalc_cv_score\u001b[39m\u001b[34m(X_train, y_train, X_test, y_test)\u001b[39m\n\u001b[32m     25\u001b[39m model_path = \u001b[33m\"\u001b[39m\u001b[33mmodel/rf_500_res_apartment_model.pkl\u001b[39m\u001b[33m\"\u001b[39m\n\u001b[32m     27\u001b[39m \u001b[38;5;28;01mwith\u001b[39;00m \u001b[38;5;28mopen\u001b[39m(model_path, \u001b[33m\"\u001b[39m\u001b[33mwb\u001b[39m\u001b[33m\"\u001b[39m) \u001b[38;5;28;01mas\u001b[39;00m file:\n\u001b[32m---> \u001b[39m\u001b[32m28\u001b[39m     pickle.dump(\u001b[43mtrained_model\u001b[49m, file)  \u001b[38;5;66;03m# trained_model should be your RandomForestRegressor\u001b[39;00m\n\u001b[32m     30\u001b[39m \u001b[38;5;28mprint\u001b[39m(\u001b[33mf\u001b[39m\u001b[33m\"\u001b[39m\u001b[33mSaved `\u001b[39m\u001b[38;5;132;01m{\u001b[39;00mname\u001b[38;5;132;01m}\u001b[39;00m\u001b[33m` model to \u001b[39m\u001b[38;5;132;01m{\u001b[39;00mmodel_filename\u001b[38;5;132;01m}\u001b[39;00m\u001b[33m\"\u001b[39m)\n\u001b[32m     32\u001b[39m scores_dict[name] = {\n\u001b[32m     33\u001b[39m     \u001b[33m\"\u001b[39m\u001b[33mr2_mean\u001b[39m\u001b[33m\"\u001b[39m: scores.mean(),\n\u001b[32m     34\u001b[39m     \u001b[33m\"\u001b[39m\u001b[33mr2_std\u001b[39m\u001b[33m\"\u001b[39m: scores.std(),\n\u001b[32m     35\u001b[39m     \u001b[33m\"\u001b[39m\u001b[33mmae\u001b[39m\u001b[33m\"\u001b[39m: calc_scores(y_test, model.predict(X_test)),\n\u001b[32m     36\u001b[39m }\n",
      "\u001b[31mNameError\u001b[39m: name 'trained_model' is not defined"
     ]
    }
   ],
   "source": [
    "# Training model with testing datasets\n",
    "scores_dict = calc_cv_score(X_train=X_train, y_train=y_train, X_test=X_test, y_test=y_test)\n",
    "dict_to_df(scores_dict)"
   ]
  },
  {
   "cell_type": "code",
   "execution_count": null,
   "metadata": {},
   "outputs": [],
   "source": []
  },
  {
   "cell_type": "code",
   "execution_count": 61,
   "metadata": {},
   "outputs": [
    {
     "name": "stdout",
     "output_type": "stream",
     "text": [
      "Fitting `ridge_default` model with 0.923 R2 score.\n",
      "ridge_default model takes 1.78 seconds.\n",
      "\n",
      "Fitting `rf_100` model with 0.97 R2 score.\n",
      "rf_100 model takes 58.5 seconds.\n",
      "\n",
      "Fitting `rf_500` model with 0.971 R2 score.\n",
      "rf_500 model takes 2.88e+02 seconds.\n",
      "\n",
      "Fitting `svr_rbf` model with 0.893 R2 score.\n",
      "svr_rbf model takes 77.4 seconds.\n",
      "\n"
     ]
    },
    {
     "data": {
      "text/html": [
       "<div>\n",
       "<style scoped>\n",
       "    .dataframe tbody tr th:only-of-type {\n",
       "        vertical-align: middle;\n",
       "    }\n",
       "\n",
       "    .dataframe tbody tr th {\n",
       "        vertical-align: top;\n",
       "    }\n",
       "\n",
       "    .dataframe thead th {\n",
       "        text-align: right;\n",
       "    }\n",
       "</style>\n",
       "<table border=\"1\" class=\"dataframe\">\n",
       "  <thead>\n",
       "    <tr style=\"text-align: right;\">\n",
       "      <th></th>\n",
       "      <th>r2_mean</th>\n",
       "      <th>r2_std</th>\n",
       "      <th>mae</th>\n",
       "    </tr>\n",
       "  </thead>\n",
       "  <tbody>\n",
       "    <tr>\n",
       "      <th>rf_500</th>\n",
       "      <td>0.971</td>\n",
       "      <td>0.002</td>\n",
       "      <td>14.430</td>\n",
       "    </tr>\n",
       "    <tr>\n",
       "      <th>rf_100</th>\n",
       "      <td>0.970</td>\n",
       "      <td>0.002</td>\n",
       "      <td>15.019</td>\n",
       "    </tr>\n",
       "    <tr>\n",
       "      <th>ridge_default</th>\n",
       "      <td>0.923</td>\n",
       "      <td>0.004</td>\n",
       "      <td>51.419</td>\n",
       "    </tr>\n",
       "    <tr>\n",
       "      <th>svr_rbf</th>\n",
       "      <td>0.893</td>\n",
       "      <td>0.006</td>\n",
       "      <td>56.315</td>\n",
       "    </tr>\n",
       "  </tbody>\n",
       "</table>\n",
       "</div>"
      ],
      "text/plain": [
       "               r2_mean  r2_std     mae\n",
       "rf_500           0.971   0.002  14.430\n",
       "rf_100           0.970   0.002  15.019\n",
       "ridge_default    0.923   0.004  51.419\n",
       "svr_rbf          0.893   0.006  56.315"
      ]
     },
     "execution_count": 61,
     "metadata": {},
     "output_type": "execute_result"
    }
   ],
   "source": [
    "scores_dict = calc_cv_score(X, y)\n",
    "dict_to_df(scores_dict)"
   ]
  },
  {
   "cell_type": "markdown",
   "metadata": {},
   "source": [
    "## we got Random Forest with `estimator as 500` as `BEST Model` \n",
    "## so training the rf500 each property type"
   ]
  },
  {
   "cell_type": "code",
   "execution_count": null,
   "metadata": {},
   "outputs": [],
   "source": []
  },
  {
   "cell_type": "code",
   "execution_count": null,
   "metadata": {},
   "outputs": [],
   "source": []
  },
  {
   "cell_type": "code",
   "execution_count": null,
   "metadata": {},
   "outputs": [],
   "source": []
  },
  {
   "cell_type": "code",
   "execution_count": null,
   "metadata": {},
   "outputs": [],
   "source": []
  }
 ],
 "metadata": {
  "kernelspec": {
   "display_name": "Python 3 (ipykernel)",
   "language": "python",
   "name": "python3"
  },
  "language_info": {
   "codemirror_mode": {
    "name": "ipython",
    "version": 3
   },
   "file_extension": ".py",
   "mimetype": "text/x-python",
   "name": "python",
   "nbconvert_exporter": "python",
   "pygments_lexer": "ipython3",
   "version": "3.12.9"
  }
 },
 "nbformat": 4,
 "nbformat_minor": 4
}
