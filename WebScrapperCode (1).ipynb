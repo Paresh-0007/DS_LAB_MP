{
  "nbformat": 4,
  "nbformat_minor": 0,
  "metadata": {
    "colab": {
      "provenance": []
    },
    "kernelspec": {
      "name": "python3",
      "display_name": "Python 3"
    },
    "language_info": {
      "name": "python"
    }
  },
  "cells": [
    {
      "cell_type": "code",
      "source": [
        "!pip install fake-useragent"
      ],
      "metadata": {
        "colab": {
          "base_uri": "https://localhost:8080/"
        },
        "id": "2ztOeJIWwjdU",
        "outputId": "7d1e241c-aa55-4966-dd3b-978f6c62410c"
      },
      "execution_count": null,
      "outputs": [
        {
          "output_type": "stream",
          "name": "stdout",
          "text": [
            "Collecting fake-useragent\n",
            "  Downloading fake_useragent-2.0.3-py3-none-any.whl.metadata (17 kB)\n",
            "Downloading fake_useragent-2.0.3-py3-none-any.whl (201 kB)\n",
            "\u001b[2K   \u001b[90m━━━━━━━━━━━━━━━━━━━━━━━━━━━━━━━━━━━━━━━━\u001b[0m \u001b[32m201.1/201.1 kB\u001b[0m \u001b[31m3.7 MB/s\u001b[0m eta \u001b[36m0:00:00\u001b[0m\n",
            "\u001b[?25hInstalling collected packages: fake-useragent\n",
            "Successfully installed fake-useragent-2.0.3\n"
          ]
        }
      ]
    },
    {
      "cell_type": "code",
      "execution_count": null,
      "metadata": {
        "colab": {
          "base_uri": "https://localhost:8080/"
        },
        "id": "iq-Ta3xaI9Ap",
        "outputId": "e2119ad1-cb5e-42f9-9ae5-3f785fccc8f0"
      },
      "outputs": [
        {
          "output_type": "stream",
          "name": "stdout",
          "text": [
            "Drive already mounted at /content/drive; to attempt to forcibly remount, call drive.mount(\"/content/drive\", force_remount=True).\n"
          ]
        }
      ],
      "source": [
        "from google.colab import drive\n",
        "drive.mount('/content/drive')"
      ]
    },
    {
      "cell_type": "code",
      "source": [
        "from bs4 import BeautifulSoup\n",
        "import requests\n",
        "import os\n",
        "import time\n",
        "import pandas as pd"
      ],
      "metadata": {
        "id": "g9oq6NFAJhWN"
      },
      "execution_count": null,
      "outputs": []
    },
    {
      "cell_type": "code",
      "source": [
        "City = 'mumbai'"
      ],
      "metadata": {
        "id": "-xs-Bq7YQP25"
      },
      "execution_count": null,
      "outputs": []
    },
    {
      "cell_type": "code",
      "source": [
        "data_dir = '/content/drive/MyDrive/DsLabMp/'\n",
        "\n",
        "subdirectories = ['Data', f'Data/{City}', f'Data/{City}/Flats', f'Data/{City}/Societies', f'Data/{City}/Residential', f'Data/{City}/Independent House']\n",
        "\n",
        "for subdir in subdirectories:\n",
        "  dir = os.path.join(data_dir,subdir)\n",
        "\n",
        "  if not os.path.exists(dir):\n",
        "    os.makedirs(dir)\n",
        "    print(f'Created Directory {dir}')\n",
        "  else:\n",
        "    print(f'Directory {dir} already exist !')\n",
        "\n"
      ],
      "metadata": {
        "colab": {
          "base_uri": "https://localhost:8080/"
        },
        "id": "xh0d_AijmmVt",
        "outputId": "0a0e3433-4a0e-48d4-e099-990311623d68"
      },
      "execution_count": null,
      "outputs": [
        {
          "output_type": "stream",
          "name": "stdout",
          "text": [
            "Directory /content/drive/MyDrive/DsLabMp/Data already exist !\n",
            "Directory /content/drive/MyDrive/DsLabMp/Data/mumbai already exist !\n",
            "Directory /content/drive/MyDrive/DsLabMp/Data/mumbai/Flats already exist !\n",
            "Directory /content/drive/MyDrive/DsLabMp/Data/mumbai/Societies already exist !\n",
            "Directory /content/drive/MyDrive/DsLabMp/Data/mumbai/Residential already exist !\n",
            "Directory /content/drive/MyDrive/DsLabMp/Data/mumbai/Independent House already exist !\n"
          ]
        }
      ]
    },
    {
      "cell_type": "code",
      "source": [
        "pheaders = {\n",
        "    'Accept': '*/*',\n",
        "    'Accept-Encoding': 'gzip, deflate, br, zstd',\n",
        "    'Accept-Language': 'en-US,en;q=0.9,hi;q=0.8,mr;q=0.7,bho;q=0.6',\n",
        "    'Content-Type': 'text/plain',\n",
        "    'Cookie': 'ar_debug=1',  # Keep or remove based on need\n",
        "    'Origin': 'https://www.99acres.com',\n",
        "    'Referer': f'https://www.99acres.com/resale-flats-in-{City}-ffid-page',  # Update referer\n",
        "    'Sec-Fetch-Dest': 'empty',\n",
        "    'Sec-Fetch-Mode': 'cors',\n",
        "    'Sec-Fetch-Site': 'cross-site',\n",
        "    'Sec-Fetch-Storage-Access': 'active',\n",
        "    'Sec-CH-UA': '\"Not(A:Brand\";v=\"99\", \"Google Chrome\";v=\"133\", \"Chromium\";v=\"133\"',\n",
        "    'Sec-CH-UA-Mobile': '?0',\n",
        "    'Sec-CH-UA-Platform': '\"Windows\"',\n",
        "    'User-Agent': 'Mozilla/5.0 (Windows NT 10.0; Win64; x64) AppleWebKit/537.36 (KHTML, like Gecko) Chrome/133.0.0.0 Safari/537.36',\n",
        "    'Priority': 'u=1, i',\n",
        "    'Authority': 'www.google-analytics.com',\n",
        "    'Method': 'POST',  # You can change it to GET if you don't need to send POST data\n",
        "    'Scheme': 'https'\n",
        "}\n",
        "\n",
        "cheaders = {\n",
        "    'Accept': '*/*',\n",
        "    'Accept-Encoding': 'gzip, deflate, br, zstd',\n",
        "    'Accept-Language': 'en-US,en;q=0.9,hi;q=0.8,mr;q=0.7,bho;q=0.6',\n",
        "    'Content-Type': 'text/plain',\n",
        "    'Cookie': 'ar_debug=1',\n",
        "    'Origin': 'https://www.99acres.com',\n",
        "    'Referer': 'https://www.99acres.com/',\n",
        "    'Sec-Fetch-Dest': 'empty',\n",
        "    'Sec-Fetch-Mode': 'cors',\n",
        "    'Sec-Fetch-Site': 'cross-site',\n",
        "    'Sec-Fetch-Storage-Access': 'active',\n",
        "    'Sec-CH-UA': '\"Not(A:Brand\";v=\"99\", \"Google Chrome\";v=\"133\", \"Chromium\";v=\"133\"',\n",
        "    'Sec-CH-UA-Mobile': '?0',\n",
        "    'Sec-CH-UA-Platform': '\"Windows\"',\n",
        "    'User-Agent': 'Mozilla/5.0 (Windows NT 10.0; Win64; x64) AppleWebKit/537.36 (KHTML, like Gecko) Chrome/133.0.0.0 Safari/537.36',\n",
        "    'Priority': 'u=1, i',\n",
        "    'Authority': 'www.google-analytics.com',\n",
        "    'Method': 'POST',\n",
        "    'Scheme': 'https'\n",
        "}\n"
      ],
      "metadata": {
        "id": "didh0dctT5Ak"
      },
      "execution_count": null,
      "outputs": []
    },
    {
      "cell_type": "code",
      "source": [
        "\n",
        "start = int(input('Enter starting page number :'))\n",
        "end = start + 1\n",
        "\n",
        "pageNum = start\n",
        "\n",
        "flats = pd.DataFrame()\n",
        "\n",
        "req=0\n",
        "\n",
        "try:\n",
        "  while pageNum < end:\n",
        "    i=1\n",
        "    url = f'https://www.99acres.com/resale-flats-in-{City}-ffid-page-{pageNum}'\n",
        "    page = requests.get(url,headers = pheaders)\n",
        "    pageSoup = BeautifulSoup(page.content, 'html.parser')\n",
        "    req+=1 #counting each request then stoping for few seconds so server doesnt detect the bot\n",
        "\n",
        "    for soup in pageSoup.select_one('div[data-label=\"SEARCH\"]').select('section[data-hydration-on-demand=\"true\"]'):\n",
        "      try:\n",
        "        link = soup.select('a.ellipsis')[0]['href'] #propertyLink\n",
        "        property_name = soup.select('h2')[0].text #propertyname\n",
        "        #society = soup.select('a.ellipsis')[0].text #SocietyName\n",
        "        society = soup.find_all('div', {'class': 'tupleNew__locationName ellipsis'})[0].text.strip()\n",
        "      except:\n",
        "        continue\n",
        "\n",
        "      proppage = requests.get(link, headers=cheaders)\n",
        "      proppageSoup = BeautifulSoup(proppage.content, 'html.parser')\n",
        "      req += 1\n",
        "\n",
        "      try:\n",
        "          #price Range\n",
        "          price = proppageSoup.select_one('#pdPrice2').text.strip()\n",
        "      except:\n",
        "          price = ''\n",
        "\n",
        "      # Area\n",
        "      try:\n",
        "          area = area = '₹' + proppageSoup.select_one('#pricePerUnitArea').text.strip().strip('@')\n",
        "      except:\n",
        "          area =''\n",
        "      # Area with Type\n",
        "      try:\n",
        "          areaWithType = 'Carpet area: '+ proppageSoup.select_one('#carpetArea_span').text.strip() +' '+ proppageSoup.select_one('#displayBuiltupArea_span').text.strip()\n",
        "      except:\n",
        "          try:\n",
        "              areaWithType = proppageSoup.select_one('#factArea').text.strip()\n",
        "          except:\n",
        "              areaWithType = ''\n",
        "\n",
        "\n",
        "      # Configuration\n",
        "      try:\n",
        "          bedRoom = proppageSoup.select_one('#bedRoomNum').text.strip()\n",
        "      except:\n",
        "          bedRoom = ''\n",
        "      try:\n",
        "          bathroom = proppageSoup.select_one('#bathroomNum').text.strip()\n",
        "      except:\n",
        "          bathroom = ''\n",
        "      try:\n",
        "          balcony = proppageSoup.select_one('#balconyNum').text.strip()\n",
        "      except:\n",
        "          balcony = ''\n",
        "\n",
        "      try:\n",
        "          additionalRoom = proppageSoup.select_one('#additionalRooms').text.strip()\n",
        "      except:\n",
        "          additionalRoom = ''\n",
        "\n",
        "      # Address\n",
        "\n",
        "      try:\n",
        "          address = proppageSoup.select_one('#address').text.strip()\n",
        "      except:\n",
        "          address = ''\n",
        "      # Floor Number\n",
        "      try:\n",
        "          floorNum = proppageSoup.select_one('#floorNumLabel').text.strip()\n",
        "      except:\n",
        "          floorNum = ''\n",
        "\n",
        "      try:\n",
        "          facing = proppageSoup.select_one('#facingLabel').text.strip()\n",
        "      except:\n",
        "          facing = ''\n",
        "\n",
        "      try:\n",
        "          agePossession = proppageSoup.select_one('#agePossessionLbl').text.strip()\n",
        "      except:\n",
        "          agePossession = ''\n",
        "\n",
        "      # Nearby Locations\n",
        "\n",
        "      try:\n",
        "          nearbyLocations = [i.text.strip() for i in proppageSoup.select_one('div.NearByLocation__tagWrap').select('span.NearByLocation__infoText')]\n",
        "      except:\n",
        "          nearbyLocations = ''\n",
        "\n",
        "      # Descriptions\n",
        "      try:\n",
        "          description = proppageSoup.select_one('#description').text.strip()\n",
        "      except:\n",
        "          description = ''\n",
        "\n",
        "      # Furnish Details\n",
        "      try:\n",
        "          furnishDetails = [i.text.strip() for i in proppageSoup.select_one('#FurnishDetails').select('li')]\n",
        "      except:\n",
        "          furnishDetails = ''\n",
        "\n",
        "      # Features\n",
        "      if furnishDetails:\n",
        "          try:\n",
        "              features = [i.text.strip() for i in proppageSoup.select('#features')[1].select('li')]\n",
        "          except:\n",
        "              features = ''\n",
        "      else:\n",
        "          try:\n",
        "              features = [i.text.strip() for i in proppageSoup.select('#features')[0].select('li')]\n",
        "          except:\n",
        "              features = ''\n",
        "\n",
        "\n",
        "\n",
        "      # Rating by Features\n",
        "      try:\n",
        "          rating = [i.text for i in proppageSoup.select_one('div.review__rightSide>div>ul>li>div').select('div.ratingByFeature__circleWrap')]\n",
        "      except:\n",
        "          rating = ''\n",
        "\n",
        "      try:\n",
        "          # Property ID\n",
        "          property_id = proppageSoup.select_one('#Prop_Id').text.strip()\n",
        "      except:\n",
        "          property_id = ''\n",
        "\n",
        "      property_data = {\n",
        "      'property_name': property_name,\n",
        "      'society': society,\n",
        "      'link':link,\n",
        "      'price': price,\n",
        "      'area': area,\n",
        "      'areaWithType': areaWithType,\n",
        "      'bedRoom': bedRoom,\n",
        "      'bathroom': bathroom,\n",
        "      'balcony': balcony,\n",
        "      'additionalRoom': additionalRoom,\n",
        "      'address': address,\n",
        "      'floorNum': floorNum,\n",
        "      'facing': facing,\n",
        "      'agePossession': agePossession,\n",
        "      'nearbyLocations': nearbyLocations,\n",
        "      'description': description,\n",
        "      'furnishDetails': furnishDetails,\n",
        "      'features': features,\n",
        "      'rating': rating,\n",
        "      'property_id': property_id\n",
        "      }\n",
        "\n",
        "      temp_df = pd.DataFrame.from_records([property_data])\n",
        "      flats = pd.concat([flats, temp_df], ignore_index=True)\n",
        "      i += 1\n",
        "      if req % 4==0:\n",
        "          time.sleep(10)\n",
        "      if req % 15 == 0:\n",
        "          time.sleep(50)\n",
        "\n",
        "    print(f'{pageNum} -> {i}')\n",
        "    pageNum += 1\n",
        "\n",
        "  csv_file_path = f\"/content/drive/MyDrive/DsLabMp/Data/mumbai/Flats/flats_{City}_data-page-{start}-{pageNum-1}.csv\"\n",
        "\n",
        "    # This file will be new every time if start page will chnage, but still taking here mode as append\n",
        "  if os.path.isfile(csv_file_path):\n",
        "    # Append DataFrame to the existing file without header\n",
        "    flats.to_csv(csv_file_path, mode='a', header=False, index=False)\n",
        "  else:\n",
        "        # Write DataFrame to the file with header - first time write\n",
        "    flats.to_csv(csv_file_path, mode='a', header=True, index=False)\n",
        "\n",
        "\n",
        "\n",
        "except AttributeError as e:\n",
        "  print(e)\n",
        "  print(\"----------------\")\n",
        "  print(\"\"\"Your IP might have blocked. Delete Runitme and reconnect again with updating start page number.\\n\n",
        "            You would see in output above like 1 -> 15\\ and so 1 is page number and 15 is data items extracted.\"\"\")\n",
        "\n",
        "csv_file_path = f\"/content/drive/MyDrive/DsLabMp/Data/mumbai/Flats/flats_{City}_data-page-{start}-{pageNum-1}.csv\"\n",
        "\n",
        "    # This file will be new every time if start page will chnage, but still taking here mode as append\n",
        "if os.path.isfile(csv_file_path):\n",
        "  # Append DataFrame to the existing file without header\n",
        "  flats.to_csv(csv_file_path, mode='a', header=False, index=False)\n",
        "else:\n",
        "  # Write DataFrame to the file with header - first time write\n",
        "  flats.to_csv(csv_file_path, mode='a', header=True, index=False)"
      ],
      "metadata": {
        "colab": {
          "base_uri": "https://localhost:8080/",
          "height": 228
        },
        "id": "Kq367NdGfx2f",
        "outputId": "73eecc1d-2118-4d2b-d864-c4e7ea00409e"
      },
      "execution_count": null,
      "outputs": [
        {
          "name": "stdout",
          "output_type": "stream",
          "text": [
            "Enter starting page number :75\n"
          ]
        },
        {
          "output_type": "error",
          "ename": "KeyboardInterrupt",
          "evalue": "",
          "traceback": [
            "\u001b[0;31m---------------------------------------------------------------------------\u001b[0m",
            "\u001b[0;31mKeyboardInterrupt\u001b[0m                         Traceback (most recent call last)",
            "\u001b[0;32m<ipython-input-6-4f7de03c42ca>\u001b[0m in \u001b[0;36m<cell line: 0>\u001b[0;34m()\u001b[0m\n\u001b[1;32m    163\u001b[0m       \u001b[0mi\u001b[0m \u001b[0;34m+=\u001b[0m \u001b[0;36m1\u001b[0m\u001b[0;34m\u001b[0m\u001b[0;34m\u001b[0m\u001b[0m\n\u001b[1;32m    164\u001b[0m       \u001b[0;32mif\u001b[0m \u001b[0mreq\u001b[0m \u001b[0;34m%\u001b[0m \u001b[0;36m4\u001b[0m\u001b[0;34m==\u001b[0m\u001b[0;36m0\u001b[0m\u001b[0;34m:\u001b[0m\u001b[0;34m\u001b[0m\u001b[0;34m\u001b[0m\u001b[0m\n\u001b[0;32m--> 165\u001b[0;31m           \u001b[0mtime\u001b[0m\u001b[0;34m.\u001b[0m\u001b[0msleep\u001b[0m\u001b[0;34m(\u001b[0m\u001b[0;36m10\u001b[0m\u001b[0;34m)\u001b[0m\u001b[0;34m\u001b[0m\u001b[0;34m\u001b[0m\u001b[0m\n\u001b[0m\u001b[1;32m    166\u001b[0m       \u001b[0;32mif\u001b[0m \u001b[0mreq\u001b[0m \u001b[0;34m%\u001b[0m \u001b[0;36m15\u001b[0m \u001b[0;34m==\u001b[0m \u001b[0;36m0\u001b[0m\u001b[0;34m:\u001b[0m\u001b[0;34m\u001b[0m\u001b[0;34m\u001b[0m\u001b[0m\n\u001b[1;32m    167\u001b[0m           \u001b[0mtime\u001b[0m\u001b[0;34m.\u001b[0m\u001b[0msleep\u001b[0m\u001b[0;34m(\u001b[0m\u001b[0;36m50\u001b[0m\u001b[0;34m)\u001b[0m\u001b[0;34m\u001b[0m\u001b[0;34m\u001b[0m\u001b[0m\n",
            "\u001b[0;31mKeyboardInterrupt\u001b[0m: "
          ]
        }
      ]
    },
    {
      "cell_type": "code",
      "source": [
        "flats = flats.iloc[:83,:]"
      ],
      "metadata": {
        "id": "WCtfYLsbuvLG"
      },
      "execution_count": null,
      "outputs": []
    },
    {
      "cell_type": "code",
      "source": [
        "csv_file_path = f\"/content/drive/MyDrive/DsLabMp/Data/mumbai/Flats/flats_{City}_data-page-{start}-{pageNum-1}.csv\"\n",
        "\n",
        "    # This file will be new every time if start page will chnage, but still taking here mode as append\n",
        "if os.path.isfile(csv_file_path):\n",
        "  # Append DataFrame to the existing file without header\n",
        "  os.remove(csv_file_path)\n",
        "\n",
        "flats.to_csv(csv_file_path, mode='a', header=True, index=False)"
      ],
      "metadata": {
        "id": "yhhtYKBkvGaQ"
      },
      "execution_count": null,
      "outputs": []
    },
    {
      "cell_type": "markdown",
      "source": [
        "##debugging"
      ],
      "metadata": {
        "id": "J2xK4V0IPJLD"
      }
    },
    {
      "cell_type": "code",
      "source": [
        "proppage = requests.get('https://www.99acres.com/2-bhk-bedroom-apartment-flat-for-sale-in-veera-desai-road-mumbai-andheri-dahisar-750-sq-ft-spid-S79968421', headers=cheaders)\n",
        "proppageSoup = BeautifulSoup(proppage.content, 'html.parser')"
      ],
      "metadata": {
        "id": "AGGHg90CPI_E"
      },
      "execution_count": null,
      "outputs": []
    },
    {
      "cell_type": "code",
      "source": [
        "area = '₹' + proppageSoup.select_one('#pricePerUnitArea').text.strip().strip('@')"
      ],
      "metadata": {
        "id": "KuvOTcrPPI8P"
      },
      "execution_count": null,
      "outputs": []
    },
    {
      "cell_type": "code",
      "source": [
        "area"
      ],
      "metadata": {
        "colab": {
          "base_uri": "https://localhost:8080/",
          "height": 36
        },
        "id": "rd9nsWbxPI5Q",
        "outputId": "f5b2ce23-4c0e-47bc-a612-4ce4a50ef415"
      },
      "execution_count": null,
      "outputs": [
        {
          "output_type": "execute_result",
          "data": {
            "text/plain": [
              "'₹ 26,666 per sq.ft.'"
            ],
            "application/vnd.google.colaboratory.intrinsic+json": {
              "type": "string"
            }
          },
          "metadata": {},
          "execution_count": 20
        }
      ]
    },
    {
      "cell_type": "code",
      "source": [],
      "metadata": {
        "id": "6Eiho7ChPI2S"
      },
      "execution_count": null,
      "outputs": []
    },
    {
      "cell_type": "code",
      "source": [],
      "metadata": {
        "id": "JxRxsHPiPIzB"
      },
      "execution_count": null,
      "outputs": []
    }
  ]
}