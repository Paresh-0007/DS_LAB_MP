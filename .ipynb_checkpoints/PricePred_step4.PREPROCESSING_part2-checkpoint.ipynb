{
 "cells": [
  {
   "cell_type": "code",
   "execution_count": 8,
   "metadata": {},
   "outputs": [],
   "source": [
    "from ast import literal_eval\n",
    "\n",
    "import pandas as pd\n",
    "import matplotlib.pyplot as plt\n",
    "import seaborn as sns"
   ]
  },
  {
   "cell_type": "code",
   "execution_count": 2,
   "metadata": {},
   "outputs": [],
   "source": [
    "plt.style.use('ggplot')\n",
    "pd.set_option('display.max_columns', None)"
   ]
  },
  {
   "cell_type": "code",
   "execution_count": 9,
   "metadata": {},
   "outputs": [],
   "source": [
    "df = df"
   ]
  },
  {
   "cell_type": "code",
   "execution_count": 10,
   "metadata": {},
   "outputs": [
    {
     "name": "stdout",
     "output_type": "stream",
     "text": [
      "(7860, 24)\n"
     ]
    },
    {
     "data": {
      "text/html": [
       "<div>\n",
       "<style scoped>\n",
       "    .dataframe tbody tr th:only-of-type {\n",
       "        vertical-align: middle;\n",
       "    }\n",
       "\n",
       "    .dataframe tbody tr th {\n",
       "        vertical-align: top;\n",
       "    }\n",
       "\n",
       "    .dataframe thead th {\n",
       "        text-align: right;\n",
       "    }\n",
       "</style>\n",
       "<table border=\"1\" class=\"dataframe\">\n",
       "  <thead>\n",
       "    <tr style=\"text-align: right;\">\n",
       "      <th></th>\n",
       "      <th>SPID</th>\n",
       "      <th>PROP_ID</th>\n",
       "      <th>CITY</th>\n",
       "      <th>PRICE</th>\n",
       "      <th>PRICE_SQFT</th>\n",
       "      <th>AREA</th>\n",
       "      <th>SECONDARY_TAGS</th>\n",
       "      <th>TOTAL_LANDMARK_COUNT</th>\n",
       "      <th>FORMATTED_LANDMARK_DETAILS</th>\n",
       "      <th>MAP_DETAILS</th>\n",
       "      <th>...</th>\n",
       "      <th>FURNISH</th>\n",
       "      <th>FACING</th>\n",
       "      <th>AGE</th>\n",
       "      <th>TOTAL_FLOOR</th>\n",
       "      <th>FEATURES</th>\n",
       "      <th>BEDROOM_NUM</th>\n",
       "      <th>AMENITIES</th>\n",
       "      <th>PROP_NAME</th>\n",
       "      <th>BALCONY_NUM</th>\n",
       "      <th>FLOOR_NUM</th>\n",
       "    </tr>\n",
       "  </thead>\n",
       "  <tbody>\n",
       "    <tr>\n",
       "      <th>0</th>\n",
       "      <td>69306824</td>\n",
       "      <td>x69306824</td>\n",
       "      <td>mumbai beyond thane</td>\n",
       "      <td>32500000.0</td>\n",
       "      <td>477941.0</td>\n",
       "      <td>74051.0</td>\n",
       "      <td>['ready to move', 'resale']</td>\n",
       "      <td>14.0</td>\n",
       "      <td>[{'text': '9 hospitals'}]</td>\n",
       "      <td>{'latitude': '18.92343', 'longitude': '73.32514'}</td>\n",
       "      <td>...</td>\n",
       "      <td>1</td>\n",
       "      <td>4</td>\n",
       "      <td>6</td>\n",
       "      <td>1.0</td>\n",
       "      <td>44,23,45,12,24,46,25,47,26,19,1,40,41,42,32</td>\n",
       "      <td>3.0</td>\n",
       "      <td>32,44,23,45,24,46,47,19,1,40,41,42,12,25,26,10...</td>\n",
       "      <td>NaN</td>\n",
       "      <td>1.0</td>\n",
       "      <td>NaN</td>\n",
       "    </tr>\n",
       "    <tr>\n",
       "      <th>1</th>\n",
       "      <td>70915032</td>\n",
       "      <td>r70915032</td>\n",
       "      <td>navi mumbai</td>\n",
       "      <td>415000.0</td>\n",
       "      <td>381.0</td>\n",
       "      <td>1089.0</td>\n",
       "      <td>['corner property', 'north-east facing', 'cidc...</td>\n",
       "      <td>NaN</td>\n",
       "      <td>NaN</td>\n",
       "      <td>{'latitude': '18.926491', 'longitude': '73.030...</td>\n",
       "      <td>...</td>\n",
       "      <td>0</td>\n",
       "      <td>5</td>\n",
       "      <td>0</td>\n",
       "      <td>7.0</td>\n",
       "      <td>n</td>\n",
       "      <td>NaN</td>\n",
       "      <td>NaN</td>\n",
       "      <td>city prop</td>\n",
       "      <td>NaN</td>\n",
       "      <td>NaN</td>\n",
       "    </tr>\n",
       "    <tr>\n",
       "      <th>2</th>\n",
       "      <td>70699844</td>\n",
       "      <td>a70699844</td>\n",
       "      <td>thane</td>\n",
       "      <td>23000000.0</td>\n",
       "      <td>22115.0</td>\n",
       "      <td>1040.0</td>\n",
       "      <td>['ready to move', 'resale', 'rera']</td>\n",
       "      <td>13.0</td>\n",
       "      <td>[{'text': '1 railway station'}, {'text': '1 sh...</td>\n",
       "      <td>{'latitude': '19.223389', 'longitude': '72.989...</td>\n",
       "      <td>...</td>\n",
       "      <td>4</td>\n",
       "      <td>6</td>\n",
       "      <td>1</td>\n",
       "      <td>32.0</td>\n",
       "      <td>23,45,24,46,25,47,26,28,29,31,10,33,12,17,39,1...</td>\n",
       "      <td>2.0</td>\n",
       "      <td>10,17,2,5,8,20,21,23,45,24,46,47,28,29,39,19,1...</td>\n",
       "      <td>piramal vaikunth</td>\n",
       "      <td>1.0</td>\n",
       "      <td>18</td>\n",
       "    </tr>\n",
       "    <tr>\n",
       "      <th>3</th>\n",
       "      <td>68802070</td>\n",
       "      <td>h68802070</td>\n",
       "      <td>mumbai andheri-dahisar</td>\n",
       "      <td>75000.0</td>\n",
       "      <td>68.0</td>\n",
       "      <td>1100.0</td>\n",
       "      <td>['for single men', 'for single women']</td>\n",
       "      <td>5.0</td>\n",
       "      <td>[{'text': '1 shopping'}, {'text': '1 connectiv...</td>\n",
       "      <td>{'latitude': '19.1267832', 'longitude': '72.83...</td>\n",
       "      <td>...</td>\n",
       "      <td>4</td>\n",
       "      <td>1</td>\n",
       "      <td>6</td>\n",
       "      <td>15.0</td>\n",
       "      <td>33,12,25,47,26,29,1,3,6,8,9,40,30,41,20,42,21,43</td>\n",
       "      <td>2.0</td>\n",
       "      <td>8,20,21,47,29,1,6,9,40,30,41,42,43,33,12,25,26...</td>\n",
       "      <td>platinum life</td>\n",
       "      <td>0.0</td>\n",
       "      <td>7</td>\n",
       "    </tr>\n",
       "    <tr>\n",
       "      <th>4</th>\n",
       "      <td>66274524</td>\n",
       "      <td>u66274524</td>\n",
       "      <td>central mumbai suburbs</td>\n",
       "      <td>29200000.0</td>\n",
       "      <td>57512.0</td>\n",
       "      <td>1019.5</td>\n",
       "      <td>['under construction', 'new booking', 'rera']</td>\n",
       "      <td>3.0</td>\n",
       "      <td>[{'text': '1 railway station'}, {'text': '1 me...</td>\n",
       "      <td>{'latitude': '19.171174', 'longitude': '72.940...</td>\n",
       "      <td>...</td>\n",
       "      <td>0</td>\n",
       "      <td>0</td>\n",
       "      <td>5</td>\n",
       "      <td>60.0</td>\n",
       "      <td>n</td>\n",
       "      <td>3.0</td>\n",
       "      <td>NaN</td>\n",
       "      <td>eternia by oberoi realty</td>\n",
       "      <td>NaN</td>\n",
       "      <td>1</td>\n",
       "    </tr>\n",
       "  </tbody>\n",
       "</table>\n",
       "<p>5 rows × 24 columns</p>\n",
       "</div>"
      ],
      "text/plain": [
       "       SPID    PROP_ID                    CITY       PRICE  PRICE_SQFT  \\\n",
       "0  69306824  x69306824     mumbai beyond thane  32500000.0    477941.0   \n",
       "1  70915032  r70915032             navi mumbai    415000.0       381.0   \n",
       "2  70699844  a70699844                   thane  23000000.0     22115.0   \n",
       "3  68802070  h68802070  mumbai andheri-dahisar     75000.0        68.0   \n",
       "4  66274524  u66274524  central mumbai suburbs  29200000.0     57512.0   \n",
       "\n",
       "      AREA                                     SECONDARY_TAGS  \\\n",
       "0  74051.0                        ['ready to move', 'resale']   \n",
       "1   1089.0  ['corner property', 'north-east facing', 'cidc...   \n",
       "2   1040.0                ['ready to move', 'resale', 'rera']   \n",
       "3   1100.0             ['for single men', 'for single women']   \n",
       "4   1019.5      ['under construction', 'new booking', 'rera']   \n",
       "\n",
       "   TOTAL_LANDMARK_COUNT                         FORMATTED_LANDMARK_DETAILS  \\\n",
       "0                  14.0                          [{'text': '9 hospitals'}]   \n",
       "1                   NaN                                                NaN   \n",
       "2                  13.0  [{'text': '1 railway station'}, {'text': '1 sh...   \n",
       "3                   5.0  [{'text': '1 shopping'}, {'text': '1 connectiv...   \n",
       "4                   3.0  [{'text': '1 railway station'}, {'text': '1 me...   \n",
       "\n",
       "                                         MAP_DETAILS  ... FURNISH FACING AGE  \\\n",
       "0  {'latitude': '18.92343', 'longitude': '73.32514'}  ...       1      4   6   \n",
       "1  {'latitude': '18.926491', 'longitude': '73.030...  ...       0      5   0   \n",
       "2  {'latitude': '19.223389', 'longitude': '72.989...  ...       4      6   1   \n",
       "3  {'latitude': '19.1267832', 'longitude': '72.83...  ...       4      1   6   \n",
       "4  {'latitude': '19.171174', 'longitude': '72.940...  ...       0      0   5   \n",
       "\n",
       "  TOTAL_FLOOR                                           FEATURES  BEDROOM_NUM  \\\n",
       "0         1.0        44,23,45,12,24,46,25,47,26,19,1,40,41,42,32          3.0   \n",
       "1         7.0                                                  n          NaN   \n",
       "2        32.0  23,45,24,46,25,47,26,28,29,31,10,33,12,17,39,1...          2.0   \n",
       "3        15.0   33,12,25,47,26,29,1,3,6,8,9,40,30,41,20,42,21,43          2.0   \n",
       "4        60.0                                                  n          3.0   \n",
       "\n",
       "                                           AMENITIES  \\\n",
       "0  32,44,23,45,24,46,47,19,1,40,41,42,12,25,26,10...   \n",
       "1                                                NaN   \n",
       "2  10,17,2,5,8,20,21,23,45,24,46,47,28,29,39,19,1...   \n",
       "3  8,20,21,47,29,1,6,9,40,30,41,42,43,33,12,25,26...   \n",
       "4                                                NaN   \n",
       "\n",
       "                  PROP_NAME BALCONY_NUM  FLOOR_NUM  \n",
       "0                       NaN         1.0        NaN  \n",
       "1                 city prop         NaN        NaN  \n",
       "2          piramal vaikunth         1.0         18  \n",
       "3             platinum life         0.0          7  \n",
       "4  eternia by oberoi realty         NaN          1  \n",
       "\n",
       "[5 rows x 24 columns]"
      ]
     },
     "execution_count": 10,
     "metadata": {},
     "output_type": "execute_result"
    }
   ],
   "source": [
    "df = pd.read_csv('data/processed/mumbai.csv')\n",
    "print(df.shape)\n",
    "df.head()"
   ]
  },
  {
   "cell_type": "code",
   "execution_count": 11,
   "metadata": {},
   "outputs": [
    {
     "data": {
      "text/plain": [
       "Index(['SPID', 'PROP_ID', 'CITY', 'PRICE', 'PRICE_SQFT', 'AREA',\n",
       "       'SECONDARY_TAGS', 'TOTAL_LANDMARK_COUNT', 'FORMATTED_LANDMARK_DETAILS',\n",
       "       'MAP_DETAILS', 'PROP_HEADING', 'DESCRIPTION', 'PROPERTY_TYPE',\n",
       "       'location', 'FURNISH', 'FACING', 'AGE', 'TOTAL_FLOOR', 'FEATURES',\n",
       "       'BEDROOM_NUM', 'AMENITIES', 'PROP_NAME', 'BALCONY_NUM', 'FLOOR_NUM'],\n",
       "      dtype='object')"
      ]
     },
     "execution_count": 11,
     "metadata": {},
     "output_type": "execute_result"
    }
   ],
   "source": [
    "df.columns"
   ]
  },
  {
   "cell_type": "code",
   "execution_count": 12,
   "metadata": {},
   "outputs": [
    {
     "name": "stdout",
     "output_type": "stream",
     "text": [
      "<class 'pandas.core.frame.DataFrame'>\n",
      "RangeIndex: 7860 entries, 0 to 7859\n",
      "Data columns (total 24 columns):\n",
      " #   Column                      Non-Null Count  Dtype  \n",
      "---  ------                      --------------  -----  \n",
      " 0   SPID                        7860 non-null   int64  \n",
      " 1   PROP_ID                     7860 non-null   object \n",
      " 2   CITY                        7860 non-null   object \n",
      " 3   PRICE                       7860 non-null   float64\n",
      " 4   PRICE_SQFT                  7860 non-null   float64\n",
      " 5   AREA                        7860 non-null   float64\n",
      " 6   SECONDARY_TAGS              7860 non-null   object \n",
      " 7   TOTAL_LANDMARK_COUNT        7783 non-null   float64\n",
      " 8   FORMATTED_LANDMARK_DETAILS  7783 non-null   object \n",
      " 9   MAP_DETAILS                 7860 non-null   object \n",
      " 10  PROP_HEADING                7860 non-null   object \n",
      " 11  DESCRIPTION                 7860 non-null   object \n",
      " 12  PROPERTY_TYPE               7860 non-null   object \n",
      " 13  location                    7860 non-null   object \n",
      " 14  FURNISH                     7860 non-null   int64  \n",
      " 15  FACING                      7860 non-null   int64  \n",
      " 16  AGE                         7860 non-null   int64  \n",
      " 17  TOTAL_FLOOR                 7852 non-null   float64\n",
      " 18  FEATURES                    7860 non-null   object \n",
      " 19  BEDROOM_NUM                 7800 non-null   float64\n",
      " 20  AMENITIES                   3695 non-null   object \n",
      " 21  PROP_NAME                   7803 non-null   object \n",
      " 22  BALCONY_NUM                 3752 non-null   float64\n",
      " 23  FLOOR_NUM                   7753 non-null   object \n",
      "dtypes: float64(7), int64(4), object(13)\n",
      "memory usage: 1.4+ MB\n"
     ]
    }
   ],
   "source": [
    "df.info()"
   ]
  },
  {
   "cell_type": "code",
   "execution_count": 13,
   "metadata": {},
   "outputs": [
    {
     "data": {
      "text/plain": [
       "SPID                             0\n",
       "PROP_ID                          0\n",
       "CITY                             0\n",
       "PRICE                            0\n",
       "PRICE_SQFT                       0\n",
       "AREA                             0\n",
       "SECONDARY_TAGS                   0\n",
       "TOTAL_LANDMARK_COUNT            77\n",
       "FORMATTED_LANDMARK_DETAILS      77\n",
       "MAP_DETAILS                      0\n",
       "PROP_HEADING                     0\n",
       "DESCRIPTION                      0\n",
       "PROPERTY_TYPE                    0\n",
       "location                         0\n",
       "FURNISH                          0\n",
       "FACING                           0\n",
       "AGE                              0\n",
       "TOTAL_FLOOR                      8\n",
       "FEATURES                         0\n",
       "BEDROOM_NUM                     60\n",
       "AMENITIES                     4165\n",
       "PROP_NAME                       57\n",
       "BALCONY_NUM                   4108\n",
       "FLOOR_NUM                      107\n",
       "dtype: int64"
      ]
     },
     "execution_count": 13,
     "metadata": {},
     "output_type": "execute_result"
    }
   ],
   "source": [
    "df.isnull().sum()"
   ]
  },
  {
   "cell_type": "markdown",
   "metadata": {},
   "source": [
    "## CITY"
   ]
  },
  {
   "cell_type": "code",
   "execution_count": 14,
   "metadata": {},
   "outputs": [
    {
     "data": {
      "text/plain": [
       "CITY\n",
       "navi mumbai               2044\n",
       "central mumbai suburbs    1480\n",
       "thane                     1350\n",
       "mumbai andheri-dahisar     983\n",
       "south mumbai               606\n",
       "mumbai beyond thane        464\n",
       "mira road and beyond       362\n",
       "mumbai harbour             315\n",
       "mumbai south west          256\n",
       "Name: count, dtype: int64"
      ]
     },
     "execution_count": 14,
     "metadata": {},
     "output_type": "execute_result"
    }
   ],
   "source": [
    "df['CITY'].value_counts()"
   ]
  },
  {
   "cell_type": "markdown",
   "metadata": {},
   "source": [
    "## SECONDARY_TAGS"
   ]
  },
  {
   "cell_type": "code",
   "execution_count": 15,
   "metadata": {},
   "outputs": [
    {
     "data": {
      "text/plain": [
       "3157                  ['ready to move', 'resale', 'rera']\n",
       "6864    ['under construction', 'new launch', 'new book...\n",
       "4127                                                   []\n",
       "4012        ['under construction', 'new booking', 'rera']\n",
       "7421                  ['ready to move', 'resale', 'rera']\n",
       "Name: SECONDARY_TAGS, dtype: object"
      ]
     },
     "execution_count": 15,
     "metadata": {},
     "output_type": "execute_result"
    }
   ],
   "source": [
    "df['SECONDARY_TAGS'].sample(5)"
   ]
  },
  {
   "cell_type": "code",
   "execution_count": 16,
   "metadata": {},
   "outputs": [],
   "source": [
    "df['SECONDARY_TAGS'] = df['SECONDARY_TAGS'].apply(literal_eval)"
   ]
  },
  {
   "cell_type": "code",
   "execution_count": 17,
   "metadata": {},
   "outputs": [
    {
     "data": {
      "text/plain": [
       "array(['ready to move', 'resale', 'corner property', 'north-east facing',\n",
       "       'cidc approved', 'rera', 'for single men', 'for single women',\n",
       "       'under construction', 'new booking', 'new launch', 'north facing',\n",
       "       'in gated community', 'furnished', nan, 'east facing',\n",
       "       'authority approved', 'mmrda approved', 'rcuda approved',\n",
       "       'mcgm approved'], dtype=object)"
      ]
     },
     "execution_count": 17,
     "metadata": {},
     "output_type": "execute_result"
    }
   ],
   "source": [
    "df['SECONDARY_TAGS'].explode().unique()"
   ]
  },
  {
   "cell_type": "markdown",
   "metadata": {},
   "source": [
    "I think `SECONDARY_TAGS` is not a important feature it contains diiferent values which already some feature in the dataset like _facing, furnished, approved, etc._"
   ]
  },
  {
   "cell_type": "markdown",
   "metadata": {},
   "source": [
    "## TOTAL_LANDMARK_COUNT"
   ]
  },
  {
   "cell_type": "code",
   "execution_count": 18,
   "metadata": {},
   "outputs": [
    {
     "data": {
      "text/plain": [
       "2863    49.0\n",
       "2232    15.0\n",
       "3813    13.0\n",
       "7411    49.0\n",
       "3046    50.0\n",
       "579     49.0\n",
       "1808     8.0\n",
       "Name: TOTAL_LANDMARK_COUNT, dtype: float64"
      ]
     },
     "execution_count": 18,
     "metadata": {},
     "output_type": "execute_result"
    }
   ],
   "source": [
    "df['TOTAL_LANDMARK_COUNT'].sample(7)"
   ]
  },
  {
   "cell_type": "code",
   "execution_count": 19,
   "metadata": {},
   "outputs": [
    {
     "data": {
      "text/plain": [
       "np.int64(77)"
      ]
     },
     "execution_count": 19,
     "metadata": {},
     "output_type": "execute_result"
    }
   ],
   "source": [
    "df['TOTAL_LANDMARK_COUNT'].isnull().sum()"
   ]
  },
  {
   "cell_type": "code",
   "execution_count": 20,
   "metadata": {},
   "outputs": [
    {
     "data": {
      "text/html": [
       "<div>\n",
       "<style scoped>\n",
       "    .dataframe tbody tr th:only-of-type {\n",
       "        vertical-align: middle;\n",
       "    }\n",
       "\n",
       "    .dataframe tbody tr th {\n",
       "        vertical-align: top;\n",
       "    }\n",
       "\n",
       "    .dataframe thead th {\n",
       "        text-align: right;\n",
       "    }\n",
       "</style>\n",
       "<table border=\"1\" class=\"dataframe\">\n",
       "  <thead>\n",
       "    <tr style=\"text-align: right;\">\n",
       "      <th></th>\n",
       "      <th>SPID</th>\n",
       "      <th>PROP_ID</th>\n",
       "      <th>CITY</th>\n",
       "      <th>PRICE</th>\n",
       "      <th>PRICE_SQFT</th>\n",
       "      <th>AREA</th>\n",
       "      <th>SECONDARY_TAGS</th>\n",
       "      <th>TOTAL_LANDMARK_COUNT</th>\n",
       "      <th>FORMATTED_LANDMARK_DETAILS</th>\n",
       "      <th>MAP_DETAILS</th>\n",
       "      <th>...</th>\n",
       "      <th>FURNISH</th>\n",
       "      <th>FACING</th>\n",
       "      <th>AGE</th>\n",
       "      <th>TOTAL_FLOOR</th>\n",
       "      <th>FEATURES</th>\n",
       "      <th>BEDROOM_NUM</th>\n",
       "      <th>AMENITIES</th>\n",
       "      <th>PROP_NAME</th>\n",
       "      <th>BALCONY_NUM</th>\n",
       "      <th>FLOOR_NUM</th>\n",
       "    </tr>\n",
       "  </thead>\n",
       "  <tbody>\n",
       "    <tr>\n",
       "      <th>1</th>\n",
       "      <td>70915032</td>\n",
       "      <td>r70915032</td>\n",
       "      <td>navi mumbai</td>\n",
       "      <td>415000.0</td>\n",
       "      <td>381.0</td>\n",
       "      <td>1089.0</td>\n",
       "      <td>[corner property, north-east facing, cidc appr...</td>\n",
       "      <td>NaN</td>\n",
       "      <td>NaN</td>\n",
       "      <td>{'latitude': '18.926491', 'longitude': '73.030...</td>\n",
       "      <td>...</td>\n",
       "      <td>0</td>\n",
       "      <td>5</td>\n",
       "      <td>0</td>\n",
       "      <td>7.0</td>\n",
       "      <td>n</td>\n",
       "      <td>NaN</td>\n",
       "      <td>NaN</td>\n",
       "      <td>city prop</td>\n",
       "      <td>NaN</td>\n",
       "      <td>NaN</td>\n",
       "    </tr>\n",
       "    <tr>\n",
       "      <th>29</th>\n",
       "      <td>70132522</td>\n",
       "      <td>n70132522</td>\n",
       "      <td>navi mumbai</td>\n",
       "      <td>3316000.0</td>\n",
       "      <td>4068.0</td>\n",
       "      <td>815.0</td>\n",
       "      <td>[under construction, new booking, rera]</td>\n",
       "      <td>NaN</td>\n",
       "      <td>NaN</td>\n",
       "      <td>{'latitude': '18.861745', 'longitude': '73.159...</td>\n",
       "      <td>...</td>\n",
       "      <td>0</td>\n",
       "      <td>0</td>\n",
       "      <td>5</td>\n",
       "      <td>7.0</td>\n",
       "      <td>n</td>\n",
       "      <td>2.0</td>\n",
       "      <td>NaN</td>\n",
       "      <td>the orbis</td>\n",
       "      <td>NaN</td>\n",
       "      <td>1</td>\n",
       "    </tr>\n",
       "    <tr>\n",
       "      <th>30</th>\n",
       "      <td>70132520</td>\n",
       "      <td>s70132520</td>\n",
       "      <td>navi mumbai</td>\n",
       "      <td>2500000.0</td>\n",
       "      <td>4053.0</td>\n",
       "      <td>617.5</td>\n",
       "      <td>[under construction, new booking, rera]</td>\n",
       "      <td>NaN</td>\n",
       "      <td>NaN</td>\n",
       "      <td>{'latitude': '18.861745', 'longitude': '73.159...</td>\n",
       "      <td>...</td>\n",
       "      <td>0</td>\n",
       "      <td>0</td>\n",
       "      <td>5</td>\n",
       "      <td>7.0</td>\n",
       "      <td>n</td>\n",
       "      <td>1.0</td>\n",
       "      <td>NaN</td>\n",
       "      <td>the orbis</td>\n",
       "      <td>NaN</td>\n",
       "      <td>1</td>\n",
       "    </tr>\n",
       "    <tr>\n",
       "      <th>96</th>\n",
       "      <td>70207462</td>\n",
       "      <td>c70207462</td>\n",
       "      <td>navi mumbai</td>\n",
       "      <td>3338000.0</td>\n",
       "      <td>7763.0</td>\n",
       "      <td>425.5</td>\n",
       "      <td>[under construction, new booking, rera]</td>\n",
       "      <td>NaN</td>\n",
       "      <td>NaN</td>\n",
       "      <td>{'latitude': '19.0033293', 'longitude': '73.16...</td>\n",
       "      <td>...</td>\n",
       "      <td>0</td>\n",
       "      <td>0</td>\n",
       "      <td>5</td>\n",
       "      <td>4.0</td>\n",
       "      <td>n</td>\n",
       "      <td>1.0</td>\n",
       "      <td>NaN</td>\n",
       "      <td>parshwa city</td>\n",
       "      <td>NaN</td>\n",
       "      <td>1</td>\n",
       "    </tr>\n",
       "    <tr>\n",
       "      <th>259</th>\n",
       "      <td>69344328</td>\n",
       "      <td>w69344328</td>\n",
       "      <td>mumbai harbour</td>\n",
       "      <td>70000000.0</td>\n",
       "      <td>30434.0</td>\n",
       "      <td>2000.0</td>\n",
       "      <td>[ready to move, resale]</td>\n",
       "      <td>NaN</td>\n",
       "      <td>NaN</td>\n",
       "      <td>{'latitude': '72.954021', 'longitude': '19.155...</td>\n",
       "      <td>...</td>\n",
       "      <td>4</td>\n",
       "      <td>0</td>\n",
       "      <td>3</td>\n",
       "      <td>3.0</td>\n",
       "      <td>44,6,8,42</td>\n",
       "      <td>4.0</td>\n",
       "      <td>8,44,6,42</td>\n",
       "      <td>NaN</td>\n",
       "      <td>1.0</td>\n",
       "      <td>NaN</td>\n",
       "    </tr>\n",
       "  </tbody>\n",
       "</table>\n",
       "<p>5 rows × 24 columns</p>\n",
       "</div>"
      ],
      "text/plain": [
       "         SPID    PROP_ID            CITY       PRICE  PRICE_SQFT    AREA  \\\n",
       "1    70915032  r70915032     navi mumbai    415000.0       381.0  1089.0   \n",
       "29   70132522  n70132522     navi mumbai   3316000.0      4068.0   815.0   \n",
       "30   70132520  s70132520     navi mumbai   2500000.0      4053.0   617.5   \n",
       "96   70207462  c70207462     navi mumbai   3338000.0      7763.0   425.5   \n",
       "259  69344328  w69344328  mumbai harbour  70000000.0     30434.0  2000.0   \n",
       "\n",
       "                                        SECONDARY_TAGS  TOTAL_LANDMARK_COUNT  \\\n",
       "1    [corner property, north-east facing, cidc appr...                   NaN   \n",
       "29             [under construction, new booking, rera]                   NaN   \n",
       "30             [under construction, new booking, rera]                   NaN   \n",
       "96             [under construction, new booking, rera]                   NaN   \n",
       "259                            [ready to move, resale]                   NaN   \n",
       "\n",
       "    FORMATTED_LANDMARK_DETAILS  \\\n",
       "1                          NaN   \n",
       "29                         NaN   \n",
       "30                         NaN   \n",
       "96                         NaN   \n",
       "259                        NaN   \n",
       "\n",
       "                                           MAP_DETAILS  ... FURNISH FACING  \\\n",
       "1    {'latitude': '18.926491', 'longitude': '73.030...  ...       0      5   \n",
       "29   {'latitude': '18.861745', 'longitude': '73.159...  ...       0      0   \n",
       "30   {'latitude': '18.861745', 'longitude': '73.159...  ...       0      0   \n",
       "96   {'latitude': '19.0033293', 'longitude': '73.16...  ...       0      0   \n",
       "259  {'latitude': '72.954021', 'longitude': '19.155...  ...       4      0   \n",
       "\n",
       "    AGE TOTAL_FLOOR   FEATURES  BEDROOM_NUM  AMENITIES     PROP_NAME  \\\n",
       "1     0         7.0          n          NaN        NaN     city prop   \n",
       "29    5         7.0          n          2.0        NaN     the orbis   \n",
       "30    5         7.0          n          1.0        NaN     the orbis   \n",
       "96    5         4.0          n          1.0        NaN  parshwa city   \n",
       "259   3         3.0  44,6,8,42          4.0  8,44,6,42           NaN   \n",
       "\n",
       "    BALCONY_NUM  FLOOR_NUM  \n",
       "1           NaN        NaN  \n",
       "29          NaN          1  \n",
       "30          NaN          1  \n",
       "96          NaN          1  \n",
       "259         1.0        NaN  \n",
       "\n",
       "[5 rows x 24 columns]"
      ]
     },
     "execution_count": 20,
     "metadata": {},
     "output_type": "execute_result"
    }
   ],
   "source": [
    "df[df['TOTAL_LANDMARK_COUNT'].isnull()].head()"
   ]
  },
  {
   "cell_type": "markdown",
   "metadata": {},
   "source": [
    "Maybe, `TOTAL_LANDMARK_COUNT` is not a better feature for the project because it just contains the count of important places near the property.\n",
    "\n",
    "Instead `FORMATTED_LANDMARK_DETAILS` is better because it contains the no. places type near the property."
   ]
  },
  {
   "cell_type": "markdown",
   "metadata": {},
   "source": [
    "## FORMATTED_LANDMARK_DETAILS"
   ]
  },
  {
   "cell_type": "code",
   "execution_count": 21,
   "metadata": {},
   "outputs": [
    {
     "data": {
      "text/plain": [
       "1872    [{'text': '1 railway station'}, {'text': '1 me...\n",
       "4262    [{'text': '2 railway stations'}, {'text': '1 s...\n",
       "1304    [{'text': '2 shoppings'}, {'text': '2 educatio...\n",
       "6301                           [{'text': '2 bus depots'}]\n",
       "7152    [{'text': '1 railway station'}, {'text': '1 sh...\n",
       "6203                                                  NaN\n",
       "1649    [{'text': '1 railway station'}, {'text': '5 sh...\n",
       "Name: FORMATTED_LANDMARK_DETAILS, dtype: object"
      ]
     },
     "execution_count": 21,
     "metadata": {},
     "output_type": "execute_result"
    }
   ],
   "source": [
    "df['FORMATTED_LANDMARK_DETAILS'].sample(7)"
   ]
  },
  {
   "cell_type": "code",
   "execution_count": 22,
   "metadata": {},
   "outputs": [],
   "source": [
    "df['FORMATTED_LANDMARK_DETAILS'] = df['FORMATTED_LANDMARK_DETAILS'].fillna('[]').apply(literal_eval)"
   ]
  },
  {
   "cell_type": "code",
   "execution_count": 23,
   "metadata": {},
   "outputs": [],
   "source": [
    "df['FORMATTED_LANDMARK_DETAILS'] = df['FORMATTED_LANDMARK_DETAILS'].apply(\n",
    "    lambda x: [i['text'] for i in x]\n",
    ")"
   ]
  },
  {
   "cell_type": "code",
   "execution_count": 24,
   "metadata": {},
   "outputs": [
    {
     "data": {
      "text/plain": [
       "array([list(['10 religious places', '25 hospitals', '1 attraction', '1 bus depot', '1 miscellaneous']),\n",
       "       list(['1 shopping', '1 connectivity', '2 educations', '1 hospital', '1 airport']),\n",
       "       list(['1 railway station', '1 metro station', '1 shopping', '2 connectivities', '2 educations', '1 hospital', '1 airport', '2 office complexes', '1 hotels']),\n",
       "       list(['1 shopping', '1 connectivity', '2 educations', '1 hospital', '1 airport']),\n",
       "       list(['1 railway station', '1 metro station', '1 shopping', '7 educations', '2 atms', '1 banks', '2 miscellaneouss']),\n",
       "       list(['5 shoppings', '1 connectivity', '3 educations', '5 hospitals']),\n",
       "       list(['2 shoppings', '4 connectivities', '1 education', '1 atm', '4 hospitals', '1 banks', '1 park', '1 office complex'])],\n",
       "      dtype=object)"
      ]
     },
     "execution_count": 24,
     "metadata": {},
     "output_type": "execute_result"
    }
   ],
   "source": [
    "df['FORMATTED_LANDMARK_DETAILS'].sample(7).values"
   ]
  },
  {
   "cell_type": "code",
   "execution_count": 25,
   "metadata": {},
   "outputs": [
    {
     "name": "stdout",
     "output_type": "stream",
     "text": [
      "29\n"
     ]
    },
    {
     "data": {
      "text/plain": [
       "['hospital',\n",
       " nan,\n",
       " 'railway station',\n",
       " 'shopping',\n",
       " 'connectivity',\n",
       " 'education',\n",
       " 'airport',\n",
       " 'office complexe',\n",
       " 'hotel',\n",
       " 'amusement park',\n",
       " 'golf course',\n",
       " 'stadium',\n",
       " 'miscellaneou',\n",
       " 'metro station',\n",
       " 'connectivitie',\n",
       " 'religious place',\n",
       " 'bank',\n",
       " 'park',\n",
       " 'bus depot',\n",
       " 'atm',\n",
       " 'office complex',\n",
       " 'pharmacy',\n",
       " 'bus stop',\n",
       " 'beach',\n",
       " 'library',\n",
       " 'parking',\n",
       " 'attraction',\n",
       " 'club',\n",
       " 'swimming pool']"
      ]
     },
     "execution_count": 25,
     "metadata": {},
     "output_type": "execute_result"
    }
   ],
   "source": [
    "unique_landmarks = (\n",
    "    df['FORMATTED_LANDMARK_DETAILS']\n",
    "    .explode()\n",
    "    .str.split(' ', n=1)\n",
    "    .str.get(-1)\n",
    "    .str.replace('ss', 's')\n",
    "    .str.removesuffix('s')\n",
    "    .unique()\n",
    "    .tolist()\n",
    ")\n",
    "print(len(unique_landmarks))\n",
    "unique_landmarks"
   ]
  },
  {
   "cell_type": "code",
   "execution_count": 26,
   "metadata": {},
   "outputs": [],
   "source": [
    "landmark_groups = {\n",
    "    \"Transportation\": [\"station\", \"bus\", \"airport\"],\n",
    "    \"Accommodation\": [\"hotel\", \"office\"],\n",
    "    \"Leisure\": [\"park\", \"stadium\", \"club\", \"pool\", \"golf\"],\n",
    "    \"Shopping\": [\"shopping\", \"mall\"],\n",
    "    \"Education\": [\"education\", \"library\"],\n",
    "    \"Health\": [\"hospital\", \"pharmacy\"],\n",
    "    \"Other\": [\n",
    "        \"religious\",\n",
    "        \"connect\",\n",
    "        \"atm\",\n",
    "        \"bank\",\n",
    "        \"attraction\",\n",
    "        \"miscellaneou\",\n",
    "        \"parking\",\n",
    "    ],\n",
    "}"
   ]
  },
  {
   "cell_type": "markdown",
   "metadata": {},
   "source": [
    "Create different feature using `landmark_groups`'s `dict_keys()`."
   ]
  },
  {
   "cell_type": "markdown",
   "metadata": {},
   "source": [
    "## MAP_DETAILS"
   ]
  },
  {
   "cell_type": "code",
   "execution_count": 27,
   "metadata": {},
   "outputs": [
    {
     "data": {
      "text/plain": [
       "90      {'latitude': '19.2186009', 'longitude': '73.13...\n",
       "429     {'latitude': '19.216760861148', 'longitude': '...\n",
       "6932    {'latitude': '19.130652', 'longitude': '72.932...\n",
       "4537    {'latitude': '19.18939', 'longitude': '73.08482'}\n",
       "5421    {'latitude': '18.995625', 'longitude': '72.820...\n",
       "Name: MAP_DETAILS, dtype: object"
      ]
     },
     "execution_count": 27,
     "metadata": {},
     "output_type": "execute_result"
    }
   ],
   "source": [
    "df['MAP_DETAILS'].sample(5)"
   ]
  },
  {
   "cell_type": "code",
   "execution_count": 28,
   "metadata": {},
   "outputs": [],
   "source": [
    "df['MAP_DETAILS'] = df['MAP_DETAILS'].apply(literal_eval)"
   ]
  },
  {
   "cell_type": "code",
   "execution_count": 29,
   "metadata": {},
   "outputs": [],
   "source": [
    "df['LATITUDE'] = df['MAP_DETAILS'].str.get('latitude')  # type: ignore\n",
    "df['LONGITUDE'] = df['MAP_DETAILS'].str.get('longitude')  # type: ignore"
   ]
  },
  {
   "cell_type": "code",
   "execution_count": 30,
   "metadata": {},
   "outputs": [
    {
     "data": {
      "text/plain": [
       "LATITUDE     0\n",
       "LONGITUDE    0\n",
       "dtype: int64"
      ]
     },
     "execution_count": 30,
     "metadata": {},
     "output_type": "execute_result"
    }
   ],
   "source": [
    "df[['LATITUDE', 'LONGITUDE']].isnull().sum()"
   ]
  },
  {
   "cell_type": "code",
   "execution_count": 31,
   "metadata": {},
   "outputs": [
    {
     "data": {
      "text/html": [
       "<div>\n",
       "<style scoped>\n",
       "    .dataframe tbody tr th:only-of-type {\n",
       "        vertical-align: middle;\n",
       "    }\n",
       "\n",
       "    .dataframe tbody tr th {\n",
       "        vertical-align: top;\n",
       "    }\n",
       "\n",
       "    .dataframe thead th {\n",
       "        text-align: right;\n",
       "    }\n",
       "</style>\n",
       "<table border=\"1\" class=\"dataframe\">\n",
       "  <thead>\n",
       "    <tr style=\"text-align: right;\">\n",
       "      <th></th>\n",
       "      <th>LATITUDE</th>\n",
       "      <th>LONGITUDE</th>\n",
       "    </tr>\n",
       "  </thead>\n",
       "  <tbody>\n",
       "    <tr>\n",
       "      <th>1547</th>\n",
       "      <td>19.29041</td>\n",
       "      <td>72.88772</td>\n",
       "    </tr>\n",
       "    <tr>\n",
       "      <th>880</th>\n",
       "      <td>19.164497</td>\n",
       "      <td>72.946927</td>\n",
       "    </tr>\n",
       "    <tr>\n",
       "      <th>4618</th>\n",
       "      <td>18.921338</td>\n",
       "      <td>73.198207</td>\n",
       "    </tr>\n",
       "    <tr>\n",
       "      <th>4358</th>\n",
       "      <td>18.950754</td>\n",
       "      <td>72.8020638</td>\n",
       "    </tr>\n",
       "    <tr>\n",
       "      <th>5330</th>\n",
       "      <td>19.04321</td>\n",
       "      <td>73.06658</td>\n",
       "    </tr>\n",
       "  </tbody>\n",
       "</table>\n",
       "</div>"
      ],
      "text/plain": [
       "       LATITUDE   LONGITUDE\n",
       "1547   19.29041    72.88772\n",
       "880   19.164497   72.946927\n",
       "4618  18.921338   73.198207\n",
       "4358  18.950754  72.8020638\n",
       "5330   19.04321    73.06658"
      ]
     },
     "execution_count": 31,
     "metadata": {},
     "output_type": "execute_result"
    }
   ],
   "source": [
    "df[['LATITUDE', 'LONGITUDE']].sample(5)"
   ]
  },
  {
   "cell_type": "markdown",
   "metadata": {},
   "source": [
    "## PROP_HEADING"
   ]
  },
  {
   "cell_type": "code",
   "execution_count": 32,
   "metadata": {},
   "outputs": [
    {
     "data": {
      "text/plain": [
       "2655      3 bhk flat in wadala east\n",
       "1891    2 bhk flat in dombivli east\n",
       "3731          5 bhk flat in versova\n",
       "6164       2 bhk flat in penkarpada\n",
       "1320             2 bhk flat in ghot\n",
       "6903      3 bhk flat in mulund west\n",
       "6190       2 bhk flat in new panvel\n",
       "Name: PROP_HEADING, dtype: object"
      ]
     },
     "execution_count": 32,
     "metadata": {},
     "output_type": "execute_result"
    }
   ],
   "source": [
    "df['PROP_HEADING'].sample(7)"
   ]
  },
  {
   "cell_type": "code",
   "execution_count": 33,
   "metadata": {},
   "outputs": [
    {
     "data": {
      "text/plain": [
       "1                       residential land / plot in chirle\n",
       "39        studio apartments / 1 rk flats in pokharan road\n",
       "129                       residential land / plot in uran\n",
       "130                       residential land / plot in uran\n",
       "160            studio apartments / 1 rk flats in oshiwara\n",
       "                              ...                        \n",
       "7697            studio apartments / 1 rk flats in sanpada\n",
       "7704    studio apartments / 1 rk flats in hiranandani ...\n",
       "7706    studio apartments / 1 rk flats in hiranandani ...\n",
       "7723         studio apartments / 1 rk flats in thane west\n",
       "7734         studio apartments / 1 rk flats in thane west\n",
       "Name: PROP_HEADING, Length: 161, dtype: object"
      ]
     },
     "execution_count": 33,
     "metadata": {},
     "output_type": "execute_result"
    }
   ],
   "source": [
    "df['PROP_HEADING'][df['PROP_HEADING'].str.contains('bhk|bed') == False]"
   ]
  },
  {
   "cell_type": "code",
   "execution_count": 34,
   "metadata": {},
   "outputs": [],
   "source": [
    "df['BHK_BED'] = df['PROP_HEADING'].str.extract(r'(\\d+) (?:bed|bhk)').astype(float)"
   ]
  },
  {
   "cell_type": "code",
   "execution_count": 35,
   "metadata": {},
   "outputs": [
    {
     "data": {
      "text/plain": [
       "BHK_BED\n",
       "2.0    3133\n",
       "3.0    2093\n",
       "1.0    1666\n",
       "4.0     664\n",
       "5.0     105\n",
       "6.0      31\n",
       "7.0       4\n",
       "8.0       2\n",
       "9.0       1\n",
       "Name: count, dtype: int64"
      ]
     },
     "execution_count": 35,
     "metadata": {},
     "output_type": "execute_result"
    }
   ],
   "source": [
    "df['BHK_BED'].value_counts()"
   ]
  },
  {
   "cell_type": "markdown",
   "metadata": {},
   "source": [
    "## DESCRIPTION"
   ]
  },
  {
   "cell_type": "code",
   "execution_count": 36,
   "metadata": {},
   "outputs": [
    {
     "data": {
      "text/plain": [
       "6430    situated in ghodbunder road, thane, mahavir ka...\n",
       "5049    situated in hiranandani estate, thane, hiranan...\n",
       "2840    located in the popular residential address of ...\n",
       "2401    sai proviso atlantis offers 2 bhk flats in adi...\n",
       "7809    gajra bhoomi parth is one of navi mumbai's mos...\n",
       "5725    arihant clan aalishan is an under construction...\n",
       "6828    explore this amicable lodha amara of kolshet r...\n",
       "Name: DESCRIPTION, dtype: object"
      ]
     },
     "execution_count": 36,
     "metadata": {},
     "output_type": "execute_result"
    }
   ],
   "source": [
    "df['DESCRIPTION'].sample(7)"
   ]
  },
  {
   "cell_type": "code",
   "execution_count": 37,
   "metadata": {},
   "outputs": [],
   "source": [
    "df['DESCRIPTION'] = df['DESCRIPTION'].str.replace('\\n', ' ')"
   ]
  },
  {
   "cell_type": "markdown",
   "metadata": {},
   "source": [
    "## PROPERTY_TYPE"
   ]
  },
  {
   "cell_type": "code",
   "execution_count": 38,
   "metadata": {},
   "outputs": [
    {
     "data": {
      "text/plain": [
       "3776    residential apartment\n",
       "3345    residential apartment\n",
       "2463    residential apartment\n",
       "276     residential apartment\n",
       "820     residential apartment\n",
       "Name: PROPERTY_TYPE, dtype: object"
      ]
     },
     "execution_count": 38,
     "metadata": {},
     "output_type": "execute_result"
    }
   ],
   "source": [
    "df['PROPERTY_TYPE'].sample(5)"
   ]
  },
  {
   "cell_type": "code",
   "execution_count": 39,
   "metadata": {},
   "outputs": [
    {
     "data": {
      "text/plain": [
       "PROPERTY_TYPE\n",
       "residential apartment        7642\n",
       "studio apartment              101\n",
       "residential land               59\n",
       "independent house/villa        44\n",
       "independent/builder floor       9\n",
       "farm house                      4\n",
       "serviced apartments             1\n",
       "Name: count, dtype: int64"
      ]
     },
     "execution_count": 39,
     "metadata": {},
     "output_type": "execute_result"
    }
   ],
   "source": [
    "df['PROPERTY_TYPE'].value_counts()"
   ]
  },
  {
   "cell_type": "code",
   "execution_count": 40,
   "metadata": {},
   "outputs": [
    {
     "data": {
      "text/plain": [
       "['farm house',\n",
       " 'residential land',\n",
       " 'residential apartment',\n",
       " 'studio apartment',\n",
       " 'independent house/villa',\n",
       " 'independent/builder floor',\n",
       " 'serviced apartments']"
      ]
     },
     "execution_count": 40,
     "metadata": {},
     "output_type": "execute_result"
    }
   ],
   "source": [
    "diff_prop_type = df['PROPERTY_TYPE'].unique().tolist()\n",
    "diff_prop_type"
   ]
  },
  {
   "cell_type": "code",
   "execution_count": 41,
   "metadata": {},
   "outputs": [
    {
     "data": {
      "image/png": "[encoded data removed]",
      "text/plain": [
       "<Figure size 640x480 with 1 Axes>"
      ]
     },
     "metadata": {},
     "output_type": "display_data"
    },
    {
     "data": {
      "image/png": "[encoded data removed]",
      "text/plain": [
       "<Figure size 640x480 with 1 Axes>"
      ]
     },
     "metadata": {},
     "output_type": "display_data"
    },
    {
     "data": {
      "image/png": "[encoded data removed]",
      "text/plain": [
       "<Figure size 640x480 with 1 Axes>"
      ]
     },
     "metadata": {},
     "output_type": "display_data"
    },
    {
     "data": {
      "image/png": "[encoded data removed]",
      "text/plain": [
       "<Figure size 640x480 with 1 Axes>"
      ]
     },
     "metadata": {},
     "output_type": "display_data"
    },
    {
     "data": {
      "image/png": "[encoded data removed]",
      "text/plain": [
       "<Figure size 640x480 with 1 Axes>"
      ]
     },
     "metadata": {},
     "output_type": "display_data"
    },
    {
     "data": {
      "image/png": "[encoded data removed]",
      "text/plain": [
       "<Figure size 640x480 with 1 Axes>"
      ]
     },
     "metadata": {},
     "output_type": "display_data"
    },
    {
     "data": {
      "image/png": "[encoded data removed]",
      "text/plain": [
       "<Figure size 640x480 with 1 Axes>"
      ]
     },
     "metadata": {},
     "output_type": "display_data"
    }
   ],
   "source": [
    "for prop_type in diff_prop_type:\n",
    "    plt.figure()\n",
    "    sns.scatterplot(df.query(\"PROPERTY_TYPE==@prop_type\"), x='AREA', y='PRICE')\n",
    "\n",
    "    plt.title(prop_type)"
   ]
  },
  {
   "cell_type": "markdown",
   "metadata": {},
   "source": [
    "We does not require the heavy properties like `\"studio apartment\", \"serviced apartment\"` because they are extremly expensive. So I am going to drop them.\n",
    "\n",
    "`\"farm house\"` is also costly but I leave it for now."
   ]
  },
  {
   "cell_type": "code",
   "execution_count": 42,
   "metadata": {},
   "outputs": [
    {
     "data": {
      "text/plain": [
       "(7759, 27)"
      ]
     },
     "execution_count": 42,
     "metadata": {},
     "output_type": "execute_result"
    }
   ],
   "source": [
    "temp = df[df['PROPERTY_TYPE'].isin([\"studio apartment\", \"serviced apartment\", \"other\"])]\n",
    "df.drop(index=temp.index, inplace=True)\n",
    "df.shape"
   ]
  },
  {
   "cell_type": "markdown",
   "metadata": {},
   "source": [
    "## location"
   ]
  },
  {
   "cell_type": "code",
   "execution_count": 43,
   "metadata": {},
   "outputs": [
    {
     "data": {
      "text/plain": [
       "2071    {'city': '219', 'city_name': 'thane', 'buildin...\n",
       "7122    {'city': '15', 'city_name': 'navi mumbai', 'bu...\n",
       "7187    {'city': '17', 'city_name': 'mumbai south west...\n",
       "7614    {'city': '218', 'city_name': 'mumbai andheri-d...\n",
       "5514    {'city': '14', 'city_name': 'central mumbai su...\n",
       "3616    {'city': '16', 'city_name': 'south mumbai', 'b...\n",
       "2668    {'city': '16', 'city_name': 'south mumbai', 'b...\n",
       "Name: location, dtype: object"
      ]
     },
     "execution_count": 43,
     "metadata": {},
     "output_type": "execute_result"
    }
   ],
   "source": [
    "df['location'].sample(7)"
   ]
  },
  {
   "cell_type": "code",
   "execution_count": 44,
   "metadata": {},
   "outputs": [],
   "source": [
    "df['location'] = df['location'].str.replace('none', 'None').apply(literal_eval)"
   ]
  },
  {
   "cell_type": "code",
   "execution_count": 45,
   "metadata": {},
   "outputs": [
    {
     "data": {
      "text/plain": [
       "array(['city', 'city_name', 'building_id', 'building_name',\n",
       "       'society_name', 'locality_id', 'locality_name', 'address'],\n",
       "      dtype=object)"
      ]
     },
     "execution_count": 45,
     "metadata": {},
     "output_type": "execute_result"
    }
   ],
   "source": [
    "df['location'].explode().unique()"
   ]
  },
  {
   "cell_type": "code",
   "execution_count": 46,
   "metadata": {},
   "outputs": [],
   "source": [
    "df['LOCALITY_NAME'] = df['location'].str.get('locality_name')  # type: ignore\n",
    "df['BUILDING_NAME'] = df['location'].str.get('building_name')  # type: ignore\n",
    "df['SOCIETY_NAME'] = df['location'].str.get('society_name')  # type: ignore\n",
    "df['ADDRESS'] = df['location'].str.get('address')  # type: ignore"
   ]
  },
  {
   "cell_type": "markdown",
   "metadata": {},
   "source": [
    "## FURNISH"
   ]
  },
  {
   "cell_type": "code",
   "execution_count": 47,
   "metadata": {},
   "outputs": [
    {
     "data": {
      "text/plain": [
       "4848    0\n",
       "527     2\n",
       "7656    4\n",
       "6851    0\n",
       "581     0\n",
       "Name: FURNISH, dtype: int64"
      ]
     },
     "execution_count": 47,
     "metadata": {},
     "output_type": "execute_result"
    }
   ],
   "source": [
    "df['FURNISH'].sample(5)"
   ]
  },
  {
   "cell_type": "code",
   "execution_count": 48,
   "metadata": {},
   "outputs": [
    {
     "data": {
      "text/plain": [
       "FURNISH\n",
       "0    4167\n",
       "4    1564\n",
       "2    1367\n",
       "1     661\n",
       "Name: count, dtype: int64"
      ]
     },
     "execution_count": 48,
     "metadata": {},
     "output_type": "execute_result"
    }
   ],
   "source": [
    "df['FURNISH'].value_counts()"
   ]
  },
  {
   "cell_type": "code",
   "execution_count": 50,
   "metadata": {},
   "outputs": [
    {
     "name": "stdout",
     "output_type": "stream",
     "text": [
      "(3, 2)\n"
     ]
    },
    {
     "data": {
      "text/html": [
       "<div>\n",
       "<style scoped>\n",
       "    .dataframe tbody tr th:only-of-type {\n",
       "        vertical-align: middle;\n",
       "    }\n",
       "\n",
       "    .dataframe tbody tr th {\n",
       "        vertical-align: top;\n",
       "    }\n",
       "\n",
       "    .dataframe thead th {\n",
       "        text-align: right;\n",
       "    }\n",
       "</style>\n",
       "<table border=\"1\" class=\"dataframe\">\n",
       "  <thead>\n",
       "    <tr style=\"text-align: right;\">\n",
       "      <th></th>\n",
       "      <th>id</th>\n",
       "      <th>label</th>\n",
       "    </tr>\n",
       "  </thead>\n",
       "  <tbody>\n",
       "    <tr>\n",
       "      <th>0</th>\n",
       "      <td>4</td>\n",
       "      <td>Semifurnished</td>\n",
       "    </tr>\n",
       "    <tr>\n",
       "      <th>1</th>\n",
       "      <td>2</td>\n",
       "      <td>Unfurnished</td>\n",
       "    </tr>\n",
       "    <tr>\n",
       "      <th>2</th>\n",
       "      <td>1</td>\n",
       "      <td>Furnished</td>\n",
       "    </tr>\n",
       "  </tbody>\n",
       "</table>\n",
       "</div>"
      ],
      "text/plain": [
       "   id          label\n",
       "0   4  Semifurnished\n",
       "1   2    Unfurnished\n",
       "2   1      Furnished"
      ]
     },
     "execution_count": 50,
     "metadata": {},
     "output_type": "execute_result"
    }
   ],
   "source": [
    "furnish_df = pd.read_csv('data/facets/FURNISH.csv')\n",
    "print(furnish_df.shape)\n",
    "furnish_df.head()"
   ]
  },
  {
   "cell_type": "code",
   "execution_count": 51,
   "metadata": {},
   "outputs": [
    {
     "data": {
      "text/plain": [
       "{4: 'Semifurnished', 2: 'Unfurnished', 1: 'Furnished'}"
      ]
     },
     "execution_count": 51,
     "metadata": {},
     "output_type": "execute_result"
    }
   ],
   "source": [
    "furnish_dict = furnish_df.set_index('id').to_dict()['label']\n",
    "furnish_dict"
   ]
  },
  {
   "cell_type": "code",
   "execution_count": 52,
   "metadata": {},
   "outputs": [
    {
     "data": {
      "text/plain": [
       "FURNISH\n",
       "not available    4167\n",
       "Semifurnished    1564\n",
       "Unfurnished      1367\n",
       "Furnished         661\n",
       "Name: count, dtype: int64"
      ]
     },
     "execution_count": 52,
     "metadata": {},
     "output_type": "execute_result"
    }
   ],
   "source": [
    "furnish_dict.update({0: 'not available'})\n",
    "df['FURNISH'] = df['FURNISH'].map(furnish_dict)\n",
    "df['FURNISH'].value_counts()"
   ]
  },
  {
   "cell_type": "markdown",
   "metadata": {},
   "source": [
    "## FACING"
   ]
  },
  {
   "cell_type": "code",
   "execution_count": 53,
   "metadata": {},
   "outputs": [
    {
     "data": {
      "text/plain": [
       "2330    0\n",
       "3011    0\n",
       "2922    0\n",
       "3586    0\n",
       "7401    4\n",
       "Name: FACING, dtype: int64"
      ]
     },
     "execution_count": 53,
     "metadata": {},
     "output_type": "execute_result"
    }
   ],
   "source": [
    "df['FACING'].sample(5)"
   ]
  },
  {
   "cell_type": "code",
   "execution_count": 54,
   "metadata": {},
   "outputs": [
    {
     "data": {
      "text/plain": [
       "FACING\n",
       "0    4662\n",
       "3    1323\n",
       "5     581\n",
       "4     452\n",
       "1     255\n",
       "2     141\n",
       "6     124\n",
       "7     113\n",
       "8     108\n",
       "Name: count, dtype: int64"
      ]
     },
     "execution_count": 54,
     "metadata": {},
     "output_type": "execute_result"
    }
   ],
   "source": [
    "df['FACING'].value_counts()"
   ]
  },
  {
   "cell_type": "code",
   "execution_count": 55,
   "metadata": {},
   "outputs": [
    {
     "name": "stdout",
     "output_type": "stream",
     "text": [
      "(8, 2)\n"
     ]
    },
    {
     "data": {
      "text/html": [
       "<div>\n",
       "<style scoped>\n",
       "    .dataframe tbody tr th:only-of-type {\n",
       "        vertical-align: middle;\n",
       "    }\n",
       "\n",
       "    .dataframe tbody tr th {\n",
       "        vertical-align: top;\n",
       "    }\n",
       "\n",
       "    .dataframe thead th {\n",
       "        text-align: right;\n",
       "    }\n",
       "</style>\n",
       "<table border=\"1\" class=\"dataframe\">\n",
       "  <thead>\n",
       "    <tr style=\"text-align: right;\">\n",
       "      <th></th>\n",
       "      <th>id</th>\n",
       "      <th>label</th>\n",
       "    </tr>\n",
       "  </thead>\n",
       "  <tbody>\n",
       "    <tr>\n",
       "      <th>0</th>\n",
       "      <td>3</td>\n",
       "      <td>East</td>\n",
       "    </tr>\n",
       "    <tr>\n",
       "      <th>1</th>\n",
       "      <td>1</td>\n",
       "      <td>North</td>\n",
       "    </tr>\n",
       "    <tr>\n",
       "      <th>2</th>\n",
       "      <td>5</td>\n",
       "      <td>North-East</td>\n",
       "    </tr>\n",
       "    <tr>\n",
       "      <th>3</th>\n",
       "      <td>7</td>\n",
       "      <td>South-East</td>\n",
       "    </tr>\n",
       "    <tr>\n",
       "      <th>4</th>\n",
       "      <td>2</td>\n",
       "      <td>South</td>\n",
       "    </tr>\n",
       "  </tbody>\n",
       "</table>\n",
       "</div>"
      ],
      "text/plain": [
       "   id       label\n",
       "0   3        East\n",
       "1   1       North\n",
       "2   5  North-East\n",
       "3   7  South-East\n",
       "4   2       South"
      ]
     },
     "execution_count": 55,
     "metadata": {},
     "output_type": "execute_result"
    }
   ],
   "source": [
    "facing_df = pd.read_csv('data/facets/FACING_DIRECTION.csv')\n",
    "print(facing_df.shape)\n",
    "facing_df.head()"
   ]
  },
  {
   "cell_type": "code",
   "execution_count": 56,
   "metadata": {},
   "outputs": [
    {
     "data": {
      "text/plain": [
       "{3: 'East',\n",
       " 1: 'North',\n",
       " 5: 'North-East',\n",
       " 7: 'South-East',\n",
       " 2: 'South',\n",
       " 4: 'West',\n",
       " 6: 'North-West',\n",
       " 8: 'South-West'}"
      ]
     },
     "execution_count": 56,
     "metadata": {},
     "output_type": "execute_result"
    }
   ],
   "source": [
    "facing_dict = facing_df.set_index('id').to_dict()['label']\n",
    "facing_dict"
   ]
  },
  {
   "cell_type": "code",
   "execution_count": 57,
   "metadata": {},
   "outputs": [
    {
     "data": {
      "text/plain": [
       "FACING\n",
       "not available    4662\n",
       "East             1323\n",
       "North-East        581\n",
       "West              452\n",
       "North             255\n",
       "South             141\n",
       "North-West        124\n",
       "South-East        113\n",
       "South-West        108\n",
       "Name: count, dtype: int64"
      ]
     },
     "execution_count": 57,
     "metadata": {},
     "output_type": "execute_result"
    }
   ],
   "source": [
    "facing_dict.update({0: 'not available'})\n",
    "df['FACING'] = df['FACING'].map(facing_dict)\n",
    "df['FACING'].value_counts()"
   ]
  },
  {
   "cell_type": "markdown",
   "metadata": {},
   "source": [
    "## AGE"
   ]
  },
  {
   "cell_type": "code",
   "execution_count": 58,
   "metadata": {},
   "outputs": [
    {
     "data": {
      "text/plain": [
       "2815    5\n",
       "3482    5\n",
       "4728    5\n",
       "3021    5\n",
       "3385    5\n",
       "Name: AGE, dtype: int64"
      ]
     },
     "execution_count": 58,
     "metadata": {},
     "output_type": "execute_result"
    }
   ],
   "source": [
    "df['AGE'].sample(5)"
   ]
  },
  {
   "cell_type": "code",
   "execution_count": 59,
   "metadata": {},
   "outputs": [
    {
     "data": {
      "text/plain": [
       "AGE\n",
       "5    3572\n",
       "1    1477\n",
       "6    1225\n",
       "2     751\n",
       "3     675\n",
       "0      59\n",
       "Name: count, dtype: int64"
      ]
     },
     "execution_count": 59,
     "metadata": {},
     "output_type": "execute_result"
    }
   ],
   "source": [
    "df['AGE'].value_counts()"
   ]
  },
  {
   "cell_type": "markdown",
   "metadata": {},
   "source": [
    "## TOTAL_FLOOR"
   ]
  },
  {
   "cell_type": "code",
   "execution_count": 60,
   "metadata": {},
   "outputs": [
    {
     "data": {
      "text/plain": [
       "33      39.0\n",
       "3757     6.0\n",
       "7015    12.0\n",
       "2325    27.0\n",
       "2777    20.0\n",
       "Name: TOTAL_FLOOR, dtype: float64"
      ]
     },
     "execution_count": 60,
     "metadata": {},
     "output_type": "execute_result"
    }
   ],
   "source": [
    "df['TOTAL_FLOOR'].sample(5)"
   ]
  },
  {
   "cell_type": "code",
   "execution_count": 61,
   "metadata": {},
   "outputs": [
    {
     "data": {
      "text/plain": [
       "TOTAL_FLOOR\n",
       "20.0    628\n",
       "7.0     466\n",
       "23.0    322\n",
       "22.0    304\n",
       "14.0    295\n",
       "       ... \n",
       "78.0      3\n",
       "74.0      1\n",
       "71.0      1\n",
       "85.0      1\n",
       "69.0      1\n",
       "Name: count, Length: 84, dtype: int64"
      ]
     },
     "execution_count": 61,
     "metadata": {},
     "output_type": "execute_result"
    }
   ],
   "source": [
    "df['TOTAL_FLOOR'].value_counts()"
   ]
  },
  {
   "cell_type": "markdown",
   "metadata": {},
   "source": [
    "## FEATURES"
   ]
  },
  {
   "cell_type": "code",
   "execution_count": 62,
   "metadata": {},
   "outputs": [
    {
     "data": {
      "text/plain": [
       "7493    44,23,12,24,47,25,26,17,29,19,1,3,5,6,40,30,41...\n",
       "1661                                                    n\n",
       "4117                     33,1,12,3,47,26,6,17,29,30,20,21\n",
       "3168    44,23,24,46,25,47,26,29,30,31,33,12,17,19,1,3,...\n",
       "1495                                                    n\n",
       "Name: FEATURES, dtype: object"
      ]
     },
     "execution_count": 62,
     "metadata": {},
     "output_type": "execute_result"
    }
   ],
   "source": [
    "df['FEATURES'].sample(5)"
   ]
  },
  {
   "cell_type": "code",
   "execution_count": 63,
   "metadata": {},
   "outputs": [
    {
     "data": {
      "text/plain": [
       "6338                      [23, 24, 17, 6, 29, 40, 41, 21]\n",
       "2536                                                  [n]\n",
       "2718                                      [23, 24, 26, 5]\n",
       "159                                                   [n]\n",
       "7556    [44, 12, 23, 45, 24, 26, 17, 29, 19, 1, 2, 3, ...\n",
       "Name: FEATURES, dtype: object"
      ]
     },
     "execution_count": 63,
     "metadata": {},
     "output_type": "execute_result"
    }
   ],
   "source": [
    "df['FEATURES'] = df['FEATURES'].str.split(',')\n",
    "df['FEATURES'].sample(5)"
   ]
  },
  {
   "cell_type": "markdown",
   "metadata": {},
   "source": [
    "Need to scrape the `FEATURES.csv` to decode these values."
   ]
  },
  {
   "cell_type": "markdown",
   "metadata": {},
   "source": [
    "## BEDROOM_NUM"
   ]
  },
  {
   "cell_type": "code",
   "execution_count": 64,
   "metadata": {},
   "outputs": [
    {
     "data": {
      "text/plain": [
       "710     1.0\n",
       "2996    3.0\n",
       "3262    2.0\n",
       "6145    3.0\n",
       "2911    3.0\n",
       "Name: BEDROOM_NUM, dtype: float64"
      ]
     },
     "execution_count": 64,
     "metadata": {},
     "output_type": "execute_result"
    }
   ],
   "source": [
    "df['BEDROOM_NUM'].sample(5)"
   ]
  },
  {
   "cell_type": "code",
   "execution_count": 65,
   "metadata": {},
   "outputs": [
    {
     "data": {
      "text/plain": [
       "np.int64(60)"
      ]
     },
     "execution_count": 65,
     "metadata": {},
     "output_type": "execute_result"
    }
   ],
   "source": [
    "df['BEDROOM_NUM'].isnull().sum()"
   ]
  },
  {
   "cell_type": "code",
   "execution_count": 66,
   "metadata": {},
   "outputs": [
    {
     "data": {
      "text/plain": [
       "np.int64(60)"
      ]
     },
     "execution_count": 66,
     "metadata": {},
     "output_type": "execute_result"
    }
   ],
   "source": [
    "df['BHK_BED'].isnull().sum()"
   ]
  },
  {
   "cell_type": "code",
   "execution_count": 67,
   "metadata": {},
   "outputs": [
    {
     "data": {
      "text/plain": [
       "BEDROOM_NUM\n",
       "2.0    3133\n",
       "3.0    2093\n",
       "1.0    1666\n",
       "4.0     664\n",
       "5.0     105\n",
       "6.0      31\n",
       "7.0       4\n",
       "8.0       2\n",
       "9.0       1\n",
       "Name: count, dtype: int64"
      ]
     },
     "execution_count": 67,
     "metadata": {},
     "output_type": "execute_result"
    }
   ],
   "source": [
    "df['BEDROOM_NUM'].value_counts()"
   ]
  },
  {
   "cell_type": "code",
   "execution_count": 68,
   "metadata": {},
   "outputs": [
    {
     "name": "stdout",
     "output_type": "stream",
     "text": [
      "Series([], Name: count, dtype: int64)\n",
      "\n",
      "Series([], Name: count, dtype: int64)\n"
     ]
    }
   ],
   "source": [
    "temp = df[(df['BEDROOM_NUM'] != df['BHK_BED']) & (df['BEDROOM_NUM'].notnull())]\n",
    "\n",
    "print(temp['BEDROOM_NUM'].value_counts(), end='\\n\\n')\n",
    "print(temp['BHK_BED'].value_counts())"
   ]
  },
  {
   "cell_type": "markdown",
   "metadata": {},
   "source": [
    "## AMENITIES"
   ]
  },
  {
   "cell_type": "code",
   "execution_count": 69,
   "metadata": {},
   "outputs": [
    {
     "data": {
      "text/plain": [
       "6605    17,5,20,21,44,23,45,24,47,29,30,19,1,6,9,40,41...\n",
       "4295                                                  NaN\n",
       "4676                                                  NaN\n",
       "3462                                                  NaN\n",
       "5358    32,17,5,8,20,21,44,23,45,24,47,29,30,39,19,1,6...\n",
       "Name: AMENITIES, dtype: object"
      ]
     },
     "execution_count": 69,
     "metadata": {},
     "output_type": "execute_result"
    }
   ],
   "source": [
    "df['AMENITIES'].sample(5)"
   ]
  },
  {
   "cell_type": "code",
   "execution_count": 70,
   "metadata": {},
   "outputs": [],
   "source": [
    "df['AMENITIES'] = df['AMENITIES'].str.split(',')"
   ]
  },
  {
   "cell_type": "code",
   "execution_count": 71,
   "metadata": {},
   "outputs": [
    {
     "data": {
      "text/plain": [
       "395                                                   NaN\n",
       "4796                                                  NaN\n",
       "4997    [17, 2, 5, 20, 21, 44, 23, 45, 24, 46, 47, 39,...\n",
       "3875    [17, 5, 20, 21, 44, 23, 24, 47, 19, 1, 6, 9, 4...\n",
       "265                                                   NaN\n",
       "Name: AMENITIES, dtype: object"
      ]
     },
     "execution_count": 71,
     "metadata": {},
     "output_type": "execute_result"
    }
   ],
   "source": [
    "df['AMENITIES'].sample(5)"
   ]
  },
  {
   "cell_type": "markdown",
   "metadata": {},
   "source": [
    "In order to ddecode this feature we need to scrape the `AMENITIES` encodings from the website."
   ]
  },
  {
   "cell_type": "markdown",
   "metadata": {},
   "source": [
    "## PROP_NAME"
   ]
  },
  {
   "cell_type": "code",
   "execution_count": 72,
   "metadata": {},
   "outputs": [
    {
     "data": {
      "text/plain": [
       "939        lokhandwala minerva\n",
       "606          moreshwar 19 east\n",
       "6077    lodha new cuffe parade\n",
       "7519         devashish society\n",
       "1569           sanghvi ecocity\n",
       "Name: PROP_NAME, dtype: object"
      ]
     },
     "execution_count": 72,
     "metadata": {},
     "output_type": "execute_result"
    }
   ],
   "source": [
    "df['PROP_NAME'].sample(5)"
   ]
  },
  {
   "cell_type": "code",
   "execution_count": 73,
   "metadata": {},
   "outputs": [
    {
     "data": {
      "text/plain": [
       "np.int64(57)"
      ]
     },
     "execution_count": 73,
     "metadata": {},
     "output_type": "execute_result"
    }
   ],
   "source": [
    "df['PROP_NAME'].isnull().sum()"
   ]
  },
  {
   "cell_type": "code",
   "execution_count": 74,
   "metadata": {},
   "outputs": [
    {
     "data": {
      "text/plain": [
       "PROP_NAME\n",
       "on request                 86\n",
       "lodha amara                73\n",
       "piramal revanta            59\n",
       "kanakia silicon valley     57\n",
       "one hiranandani park       54\n",
       "l and t emerald isle       49\n",
       "runwal bliss               46\n",
       "l and t crescent bay       46\n",
       "piramal vaikunth           40\n",
       "paradise sai world city    38\n",
       "Name: count, dtype: int64"
      ]
     },
     "execution_count": 74,
     "metadata": {},
     "output_type": "execute_result"
    }
   ],
   "source": [
    "df['PROP_NAME'].value_counts()[:10]"
   ]
  },
  {
   "cell_type": "markdown",
   "metadata": {},
   "source": [
    "## BALCONY_NUM"
   ]
  },
  {
   "cell_type": "code",
   "execution_count": 75,
   "metadata": {},
   "outputs": [
    {
     "data": {
      "text/plain": [
       "2674    NaN\n",
       "514     1.0\n",
       "4335    NaN\n",
       "4252    NaN\n",
       "5934    1.0\n",
       "Name: BALCONY_NUM, dtype: float64"
      ]
     },
     "execution_count": 75,
     "metadata": {},
     "output_type": "execute_result"
    }
   ],
   "source": [
    "df['BALCONY_NUM'].sample(5)"
   ]
  },
  {
   "cell_type": "code",
   "execution_count": 76,
   "metadata": {},
   "outputs": [
    {
     "data": {
      "text/plain": [
       "BALCONY_NUM\n",
       "0.0    1387\n",
       "1.0     940\n",
       "2.0     552\n",
       "3.0     507\n",
       "4.0     300\n",
       "Name: count, dtype: int64"
      ]
     },
     "execution_count": 76,
     "metadata": {},
     "output_type": "execute_result"
    }
   ],
   "source": [
    "df['BALCONY_NUM'].value_counts()"
   ]
  },
  {
   "cell_type": "markdown",
   "metadata": {},
   "source": [
    "## FLOOR_NUM"
   ]
  },
  {
   "cell_type": "code",
   "execution_count": 77,
   "metadata": {},
   "outputs": [
    {
     "data": {
      "text/plain": [
       "4165    14\n",
       "2125     1\n",
       "4887     1\n",
       "1180     1\n",
       "7768     5\n",
       "Name: FLOOR_NUM, dtype: object"
      ]
     },
     "execution_count": 77,
     "metadata": {},
     "output_type": "execute_result"
    }
   ],
   "source": [
    "df['FLOOR_NUM'].sample(5)"
   ]
  },
  {
   "cell_type": "code",
   "execution_count": 78,
   "metadata": {},
   "outputs": [
    {
     "data": {
      "text/plain": [
       "np.int64(107)"
      ]
     },
     "execution_count": 78,
     "metadata": {},
     "output_type": "execute_result"
    }
   ],
   "source": [
    "df['FLOOR_NUM'].isnull().sum()"
   ]
  },
  {
   "cell_type": "code",
   "execution_count": 79,
   "metadata": {},
   "outputs": [
    {
     "data": {
      "text/plain": [
       "FLOOR_NUM\n",
       "1     4205\n",
       "3      269\n",
       "4      251\n",
       "5      244\n",
       "7      223\n",
       "2      223\n",
       "6      221\n",
       "10     197\n",
       "9      172\n",
       "8      158\n",
       "Name: count, dtype: int64"
      ]
     },
     "execution_count": 79,
     "metadata": {},
     "output_type": "execute_result"
    }
   ],
   "source": [
    "df['FLOOR_NUM'].value_counts()[:10]"
   ]
  },
  {
   "cell_type": "markdown",
   "metadata": {},
   "source": [
    "# General Step - End"
   ]
  },
  {
   "cell_type": "code",
   "execution_count": 80,
   "metadata": {},
   "outputs": [
    {
     "data": {
      "text/plain": [
       "Index(['SPID', 'PROP_ID', 'CITY', 'PRICE', 'PRICE_SQFT', 'AREA',\n",
       "       'SECONDARY_TAGS', 'TOTAL_LANDMARK_COUNT', 'FORMATTED_LANDMARK_DETAILS',\n",
       "       'MAP_DETAILS', 'PROP_HEADING', 'DESCRIPTION', 'PROPERTY_TYPE',\n",
       "       'location', 'FURNISH', 'FACING', 'AGE', 'TOTAL_FLOOR', 'FEATURES',\n",
       "       'BEDROOM_NUM', 'AMENITIES', 'PROP_NAME', 'BALCONY_NUM', 'FLOOR_NUM',\n",
       "       'LATITUDE', 'LONGITUDE', 'BHK_BED', 'LOCALITY_NAME', 'BUILDING_NAME',\n",
       "       'SOCIETY_NAME', 'ADDRESS'],\n",
       "      dtype='object')"
      ]
     },
     "execution_count": 80,
     "metadata": {},
     "output_type": "execute_result"
    }
   ],
   "source": [
    "df.columns"
   ]
  },
  {
   "cell_type": "code",
   "execution_count": 81,
   "metadata": {},
   "outputs": [
    {
     "data": {
      "text/plain": [
       "np.int64(0)"
      ]
     },
     "execution_count": 81,
     "metadata": {},
     "output_type": "execute_result"
    }
   ],
   "source": [
    "df['SPID'].duplicated().sum()"
   ]
  },
  {
   "cell_type": "code",
   "execution_count": 82,
   "metadata": {},
   "outputs": [
    {
     "data": {
      "text/plain": [
       "np.int64(0)"
      ]
     },
     "execution_count": 82,
     "metadata": {},
     "output_type": "execute_result"
    }
   ],
   "source": [
    "df['PROP_ID'].duplicated().sum()"
   ]
  },
  {
   "cell_type": "code",
   "execution_count": 83,
   "metadata": {},
   "outputs": [
    {
     "data": {
      "text/plain": [
       "SPID                             0\n",
       "PROP_ID                          0\n",
       "CITY                             0\n",
       "PRICE                            0\n",
       "PRICE_SQFT                       0\n",
       "AREA                             0\n",
       "SECONDARY_TAGS                   0\n",
       "TOTAL_LANDMARK_COUNT            75\n",
       "FORMATTED_LANDMARK_DETAILS       0\n",
       "MAP_DETAILS                      0\n",
       "PROP_HEADING                     0\n",
       "DESCRIPTION                      0\n",
       "PROPERTY_TYPE                    0\n",
       "location                         0\n",
       "FURNISH                          0\n",
       "FACING                           0\n",
       "AGE                              0\n",
       "TOTAL_FLOOR                      8\n",
       "FEATURES                         0\n",
       "BEDROOM_NUM                     60\n",
       "AMENITIES                     4125\n",
       "PROP_NAME                       57\n",
       "BALCONY_NUM                   4073\n",
       "FLOOR_NUM                      107\n",
       "LATITUDE                         0\n",
       "LONGITUDE                        0\n",
       "BHK_BED                         60\n",
       "LOCALITY_NAME                    0\n",
       "BUILDING_NAME                    0\n",
       "SOCIETY_NAME                     0\n",
       "ADDRESS                       6052\n",
       "dtype: int64"
      ]
     },
     "execution_count": 83,
     "metadata": {},
     "output_type": "execute_result"
    }
   ],
   "source": [
    "df.isnull().sum()"
   ]
  },
  {
   "cell_type": "code",
   "execution_count": 84,
   "metadata": {},
   "outputs": [],
   "source": [
    "drop_cols = 'SECONDARY_TAGS MAP_DETAILS location'.split(' ')\n",
    "df.drop(columns=drop_cols, inplace=True)"
   ]
  },
  {
   "cell_type": "code",
   "execution_count": 85,
   "metadata": {},
   "outputs": [
    {
     "data": {
      "text/html": [
       "<div>\n",
       "<style scoped>\n",
       "    .dataframe tbody tr th:only-of-type {\n",
       "        vertical-align: middle;\n",
       "    }\n",
       "\n",
       "    .dataframe tbody tr th {\n",
       "        vertical-align: top;\n",
       "    }\n",
       "\n",
       "    .dataframe thead th {\n",
       "        text-align: right;\n",
       "    }\n",
       "</style>\n",
       "<table border=\"1\" class=\"dataframe\">\n",
       "  <thead>\n",
       "    <tr style=\"text-align: right;\">\n",
       "      <th></th>\n",
       "      <th>SPID</th>\n",
       "      <th>PROP_ID</th>\n",
       "      <th>CITY</th>\n",
       "      <th>PRICE</th>\n",
       "      <th>PRICE_SQFT</th>\n",
       "      <th>AREA</th>\n",
       "      <th>TOTAL_LANDMARK_COUNT</th>\n",
       "      <th>FORMATTED_LANDMARK_DETAILS</th>\n",
       "      <th>PROP_HEADING</th>\n",
       "      <th>DESCRIPTION</th>\n",
       "      <th>...</th>\n",
       "      <th>PROP_NAME</th>\n",
       "      <th>BALCONY_NUM</th>\n",
       "      <th>FLOOR_NUM</th>\n",
       "      <th>LATITUDE</th>\n",
       "      <th>LONGITUDE</th>\n",
       "      <th>BHK_BED</th>\n",
       "      <th>LOCALITY_NAME</th>\n",
       "      <th>BUILDING_NAME</th>\n",
       "      <th>SOCIETY_NAME</th>\n",
       "      <th>ADDRESS</th>\n",
       "    </tr>\n",
       "  </thead>\n",
       "  <tbody>\n",
       "    <tr>\n",
       "      <th>7610</th>\n",
       "      <td>69985960</td>\n",
       "      <td>c69985960</td>\n",
       "      <td>mumbai beyond thane</td>\n",
       "      <td>12000.0</td>\n",
       "      <td>20.0</td>\n",
       "      <td>595.0</td>\n",
       "      <td>50.0</td>\n",
       "      <td>[3 religious places, 43 hospitals]</td>\n",
       "      <td>1 bhk flat in yogidham</td>\n",
       "      <td>yogidham phase 3 is the most preferred destina...</td>\n",
       "      <td>...</td>\n",
       "      <td>yogidham phase 3</td>\n",
       "      <td>0.0</td>\n",
       "      <td>15</td>\n",
       "      <td>19.2484709</td>\n",
       "      <td>73.152721</td>\n",
       "      <td>1.0</td>\n",
       "      <td>yogidham</td>\n",
       "      <td>yogidham phase 3</td>\n",
       "      <td>yogidham phase 3</td>\n",
       "      <td>None</td>\n",
       "    </tr>\n",
       "    <tr>\n",
       "      <th>4356</th>\n",
       "      <td>70338292</td>\n",
       "      <td>x70338292</td>\n",
       "      <td>navi mumbai</td>\n",
       "      <td>4801.0</td>\n",
       "      <td>17.0</td>\n",
       "      <td>400.0</td>\n",
       "      <td>30.0</td>\n",
       "      <td>[2 religious places, 1 atm, 14 hospitals]</td>\n",
       "      <td>1 bhk flat in taloja panchanand</td>\n",
       "      <td>cidco mass housing scheme taloja is one of nav...</td>\n",
       "      <td>...</td>\n",
       "      <td>cidco mass housing scheme taloja</td>\n",
       "      <td>0.0</td>\n",
       "      <td>11</td>\n",
       "      <td>19.06893</td>\n",
       "      <td>73.08612</td>\n",
       "      <td>1.0</td>\n",
       "      <td>taloja panchanand</td>\n",
       "      <td>cidco mass housing scheme taloja</td>\n",
       "      <td>cidco mass housing scheme taloja</td>\n",
       "      <td>1102</td>\n",
       "    </tr>\n",
       "    <tr>\n",
       "      <th>1562</th>\n",
       "      <td>70901696</td>\n",
       "      <td>w70901696</td>\n",
       "      <td>south mumbai</td>\n",
       "      <td>83700000.0</td>\n",
       "      <td>46974.0</td>\n",
       "      <td>1781.5</td>\n",
       "      <td>12.0</td>\n",
       "      <td>[1 railway station, 1 metro station, 1 shoppin...</td>\n",
       "      <td>4 bhk flat in mahalaxmi</td>\n",
       "      <td>lodha bellevue is a new launch project, offeri...</td>\n",
       "      <td>...</td>\n",
       "      <td>lodha bellevue</td>\n",
       "      <td>NaN</td>\n",
       "      <td>1</td>\n",
       "      <td>18.978693</td>\n",
       "      <td>72.825883</td>\n",
       "      <td>4.0</td>\n",
       "      <td>mahalaxmi</td>\n",
       "      <td>lodha bellevue</td>\n",
       "      <td>lodha bellevue</td>\n",
       "      <td>None</td>\n",
       "    </tr>\n",
       "    <tr>\n",
       "      <th>3809</th>\n",
       "      <td>69597242</td>\n",
       "      <td>c69597242</td>\n",
       "      <td>thane</td>\n",
       "      <td>12000000.0</td>\n",
       "      <td>11019.0</td>\n",
       "      <td>1089.0</td>\n",
       "      <td>49.0</td>\n",
       "      <td>[1 religious place, 2 atms, 18 hospitals, 1 ph...</td>\n",
       "      <td>2 bhk flat in dhokali</td>\n",
       "      <td>located in the popular residential address of ...</td>\n",
       "      <td>...</td>\n",
       "      <td>siddhi highland gardens</td>\n",
       "      <td>2.0</td>\n",
       "      <td>7</td>\n",
       "      <td>19.22761</td>\n",
       "      <td>72.98106</td>\n",
       "      <td>2.0</td>\n",
       "      <td>dhokali</td>\n",
       "      <td>siddhi highland gardens</td>\n",
       "      <td>siddhi highland gardens</td>\n",
       "      <td>700</td>\n",
       "    </tr>\n",
       "    <tr>\n",
       "      <th>4726</th>\n",
       "      <td>70813354</td>\n",
       "      <td>f70813354</td>\n",
       "      <td>navi mumbai</td>\n",
       "      <td>18900000.0</td>\n",
       "      <td>27598.0</td>\n",
       "      <td>682.0</td>\n",
       "      <td>6.0</td>\n",
       "      <td>[1 shopping, 1 connectivity, 2 educations, 1 h...</td>\n",
       "      <td>2 bhk flat in jui nagar</td>\n",
       "      <td>live in a world of comfort and style at raheja...</td>\n",
       "      <td>...</td>\n",
       "      <td>raheja solaris 2</td>\n",
       "      <td>NaN</td>\n",
       "      <td>1</td>\n",
       "      <td>19.051574</td>\n",
       "      <td>73.014159</td>\n",
       "      <td>2.0</td>\n",
       "      <td>jui nagar</td>\n",
       "      <td>raheja solaris 2</td>\n",
       "      <td>raheja solaris 2</td>\n",
       "      <td>None</td>\n",
       "    </tr>\n",
       "    <tr>\n",
       "      <th>122</th>\n",
       "      <td>69534018</td>\n",
       "      <td>w69534018</td>\n",
       "      <td>mumbai beyond thane</td>\n",
       "      <td>4214000.0</td>\n",
       "      <td>9999.0</td>\n",
       "      <td>421.5</td>\n",
       "      <td>10.0</td>\n",
       "      <td>[1 railway station, 1 shopping, 2 connectiviti...</td>\n",
       "      <td>1 bhk flat in dombivli east</td>\n",
       "      <td>let your dream of owning a flat come true with...</td>\n",
       "      <td>...</td>\n",
       "      <td>arista skyline</td>\n",
       "      <td>NaN</td>\n",
       "      <td>1</td>\n",
       "      <td>19.20189</td>\n",
       "      <td>73.09194</td>\n",
       "      <td>1.0</td>\n",
       "      <td>dombivli east</td>\n",
       "      <td>arista skyline</td>\n",
       "      <td>arista skyline</td>\n",
       "      <td>None</td>\n",
       "    </tr>\n",
       "    <tr>\n",
       "      <th>5508</th>\n",
       "      <td>70908894</td>\n",
       "      <td>c70908894</td>\n",
       "      <td>thane</td>\n",
       "      <td>27400000.0</td>\n",
       "      <td>18947.0</td>\n",
       "      <td>1444.0</td>\n",
       "      <td>14.0</td>\n",
       "      <td>[5 shoppings, 1 connectivity, 3 educations, 5 ...</td>\n",
       "      <td>4 bhk flat in kolshet road</td>\n",
       "      <td>enjoy a blissful living experience in lodha am...</td>\n",
       "      <td>...</td>\n",
       "      <td>lodha amara</td>\n",
       "      <td>NaN</td>\n",
       "      <td>1</td>\n",
       "      <td>19.233686</td>\n",
       "      <td>72.988423</td>\n",
       "      <td>4.0</td>\n",
       "      <td>kolshet road</td>\n",
       "      <td>lodha amara</td>\n",
       "      <td>lodha amara</td>\n",
       "      <td>None</td>\n",
       "    </tr>\n",
       "  </tbody>\n",
       "</table>\n",
       "<p>7 rows × 28 columns</p>\n",
       "</div>"
      ],
      "text/plain": [
       "          SPID    PROP_ID                 CITY       PRICE  PRICE_SQFT  \\\n",
       "7610  69985960  c69985960  mumbai beyond thane     12000.0        20.0   \n",
       "4356  70338292  x70338292          navi mumbai      4801.0        17.0   \n",
       "1562  70901696  w70901696         south mumbai  83700000.0     46974.0   \n",
       "3809  69597242  c69597242                thane  12000000.0     11019.0   \n",
       "4726  70813354  f70813354          navi mumbai  18900000.0     27598.0   \n",
       "122   69534018  w69534018  mumbai beyond thane   4214000.0      9999.0   \n",
       "5508  70908894  c70908894                thane  27400000.0     18947.0   \n",
       "\n",
       "        AREA  TOTAL_LANDMARK_COUNT  \\\n",
       "7610   595.0                  50.0   \n",
       "4356   400.0                  30.0   \n",
       "1562  1781.5                  12.0   \n",
       "3809  1089.0                  49.0   \n",
       "4726   682.0                   6.0   \n",
       "122    421.5                  10.0   \n",
       "5508  1444.0                  14.0   \n",
       "\n",
       "                             FORMATTED_LANDMARK_DETAILS  \\\n",
       "7610                 [3 religious places, 43 hospitals]   \n",
       "4356          [2 religious places, 1 atm, 14 hospitals]   \n",
       "1562  [1 railway station, 1 metro station, 1 shoppin...   \n",
       "3809  [1 religious place, 2 atms, 18 hospitals, 1 ph...   \n",
       "4726  [1 shopping, 1 connectivity, 2 educations, 1 h...   \n",
       "122   [1 railway station, 1 shopping, 2 connectiviti...   \n",
       "5508  [5 shoppings, 1 connectivity, 3 educations, 5 ...   \n",
       "\n",
       "                         PROP_HEADING  \\\n",
       "7610           1 bhk flat in yogidham   \n",
       "4356  1 bhk flat in taloja panchanand   \n",
       "1562          4 bhk flat in mahalaxmi   \n",
       "3809            2 bhk flat in dhokali   \n",
       "4726          2 bhk flat in jui nagar   \n",
       "122       1 bhk flat in dombivli east   \n",
       "5508       4 bhk flat in kolshet road   \n",
       "\n",
       "                                            DESCRIPTION  ...  \\\n",
       "7610  yogidham phase 3 is the most preferred destina...  ...   \n",
       "4356  cidco mass housing scheme taloja is one of nav...  ...   \n",
       "1562  lodha bellevue is a new launch project, offeri...  ...   \n",
       "3809  located in the popular residential address of ...  ...   \n",
       "4726  live in a world of comfort and style at raheja...  ...   \n",
       "122   let your dream of owning a flat come true with...  ...   \n",
       "5508  enjoy a blissful living experience in lodha am...  ...   \n",
       "\n",
       "                             PROP_NAME BALCONY_NUM FLOOR_NUM    LATITUDE  \\\n",
       "7610                  yogidham phase 3         0.0        15  19.2484709   \n",
       "4356  cidco mass housing scheme taloja         0.0        11    19.06893   \n",
       "1562                    lodha bellevue         NaN         1   18.978693   \n",
       "3809           siddhi highland gardens         2.0         7    19.22761   \n",
       "4726                  raheja solaris 2         NaN         1   19.051574   \n",
       "122                     arista skyline         NaN         1    19.20189   \n",
       "5508                       lodha amara         NaN         1   19.233686   \n",
       "\n",
       "      LONGITUDE BHK_BED      LOCALITY_NAME                     BUILDING_NAME  \\\n",
       "7610  73.152721     1.0           yogidham                  yogidham phase 3   \n",
       "4356   73.08612     1.0  taloja panchanand  cidco mass housing scheme taloja   \n",
       "1562  72.825883     4.0          mahalaxmi                    lodha bellevue   \n",
       "3809   72.98106     2.0            dhokali           siddhi highland gardens   \n",
       "4726  73.014159     2.0          jui nagar                  raheja solaris 2   \n",
       "122    73.09194     1.0      dombivli east                    arista skyline   \n",
       "5508  72.988423     4.0       kolshet road                       lodha amara   \n",
       "\n",
       "                          SOCIETY_NAME  ADDRESS  \n",
       "7610                  yogidham phase 3     None  \n",
       "4356  cidco mass housing scheme taloja     1102  \n",
       "1562                    lodha bellevue     None  \n",
       "3809           siddhi highland gardens      700  \n",
       "4726                  raheja solaris 2     None  \n",
       "122                     arista skyline     None  \n",
       "5508                       lodha amara     None  \n",
       "\n",
       "[7 rows x 28 columns]"
      ]
     },
     "execution_count": 85,
     "metadata": {},
     "output_type": "execute_result"
    }
   ],
   "source": [
    "df.sample(7)"
   ]
  },
  {
   "cell_type": "markdown",
   "metadata": {},
   "source": [
    "## Export Dataset"
   ]
  },
  {
   "cell_type": "code",
   "execution_count": 86,
   "metadata": {},
   "outputs": [],
   "source": [
    "df.to_csv('data/processed/mumbai.csv', index=False)"
   ]
  },
  {
   "cell_type": "code",
   "execution_count": null,
   "metadata": {},
   "outputs": [],
   "source": []
  }
 ],
 "metadata": {
  "kernelspec": {
   "display_name": "Python 3 (ipykernel)",
   "language": "python",
   "name": "python3"
  },
  "language_info": {
   "codemirror_mode": {
    "name": "ipython",
    "version": 3
   },
   "file_extension": ".py",
   "mimetype": "text/x-python",
   "name": "python",
   "nbconvert_exporter": "python",
   "pygments_lexer": "ipython3",
   "version": "3.12.9"
  }
 },
 "nbformat": 4,
 "nbformat_minor": 4
}
