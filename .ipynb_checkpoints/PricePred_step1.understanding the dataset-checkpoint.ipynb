{
 "cells": [
  {
   "cell_type": "code",
   "execution_count": 1,
   "metadata": {},
   "outputs": [],
   "source": [
    "from ast import literal_eval\n",
    "\n",
    "import pandas as pd\n",
    "import matplotlib.pyplot as plt"
   ]
  },
  {
   "cell_type": "code",
   "execution_count": 2,
   "metadata": {},
   "outputs": [],
   "source": [
    "plt.style.use('dark_background')\n",
    "pd.set_option('display.max_columns', None)"
   ]
  },
  {
   "cell_type": "code",
   "execution_count": 2,
   "metadata": {},
   "outputs": [
    {
     "name": "stdout",
     "output_type": "stream",
     "text": [
      "(9514, 30)\n"
     ]
    },
    {
     "data": {
      "text/html": [
       "<div>\n",
       "<style scoped>\n",
       "    .dataframe tbody tr th:only-of-type {\n",
       "        vertical-align: middle;\n",
       "    }\n",
       "\n",
       "    .dataframe tbody tr th {\n",
       "        vertical-align: top;\n",
       "    }\n",
       "\n",
       "    .dataframe thead th {\n",
       "        text-align: right;\n",
       "    }\n",
       "</style>\n",
       "<table border=\"1\" class=\"dataframe\">\n",
       "  <thead>\n",
       "    <tr style=\"text-align: right;\">\n",
       "      <th></th>\n",
       "      <th>SPID</th>\n",
       "      <th>PROP_ID</th>\n",
       "      <th>CITY</th>\n",
       "      <th>PRICE</th>\n",
       "      <th>MAX_PRICE</th>\n",
       "      <th>MIN_PRICE</th>\n",
       "      <th>PRICE_SQFT</th>\n",
       "      <th>AREA</th>\n",
       "      <th>SECONDARY_AREA</th>\n",
       "      <th>MAX_AREA_SQFT</th>\n",
       "      <th>...</th>\n",
       "      <th>FURNISH</th>\n",
       "      <th>FACING</th>\n",
       "      <th>AGE</th>\n",
       "      <th>TOTAL_FLOOR</th>\n",
       "      <th>FEATURES</th>\n",
       "      <th>BEDROOM_NUM</th>\n",
       "      <th>AMENITIES</th>\n",
       "      <th>PROP_NAME</th>\n",
       "      <th>BALCONY_NUM</th>\n",
       "      <th>FLOOR_NUM</th>\n",
       "    </tr>\n",
       "  </thead>\n",
       "  <tbody>\n",
       "    <tr>\n",
       "      <th>0</th>\n",
       "      <td>69306824</td>\n",
       "      <td>X69306824</td>\n",
       "      <td>Mumbai Beyond Thane</td>\n",
       "      <td>3.25 Cr</td>\n",
       "      <td>32500001</td>\n",
       "      <td>32500001</td>\n",
       "      <td>477941.0</td>\n",
       "      <td>74051 sq.ft.</td>\n",
       "      <td>6879.56 sq.m.</td>\n",
       "      <td>6879.560053</td>\n",
       "      <td>...</td>\n",
       "      <td>1</td>\n",
       "      <td>4</td>\n",
       "      <td>6</td>\n",
       "      <td>1.0</td>\n",
       "      <td>44,23,45,12,24,46,25,47,26,19,1,40,41,42,32</td>\n",
       "      <td>3.0</td>\n",
       "      <td>32,44,23,45,24,46,47,19,1,40,41,42,12,25,26,10...</td>\n",
       "      <td>NaN</td>\n",
       "      <td>1.0</td>\n",
       "      <td>NaN</td>\n",
       "    </tr>\n",
       "    <tr>\n",
       "      <th>1</th>\n",
       "      <td>70915032</td>\n",
       "      <td>R70915032</td>\n",
       "      <td>Navi Mumbai</td>\n",
       "      <td>4.15 L</td>\n",
       "      <td>415000</td>\n",
       "      <td>415000</td>\n",
       "      <td>381.0</td>\n",
       "      <td>1089 sq.ft.</td>\n",
       "      <td>101.17 sq.m.</td>\n",
       "      <td>101.171367</td>\n",
       "      <td>...</td>\n",
       "      <td>0</td>\n",
       "      <td>5</td>\n",
       "      <td>0</td>\n",
       "      <td>7.0</td>\n",
       "      <td>N</td>\n",
       "      <td>NaN</td>\n",
       "      <td>NaN</td>\n",
       "      <td>city prop</td>\n",
       "      <td>NaN</td>\n",
       "      <td>NaN</td>\n",
       "    </tr>\n",
       "    <tr>\n",
       "      <th>2</th>\n",
       "      <td>70916930</td>\n",
       "      <td>G70916930</td>\n",
       "      <td>Thane</td>\n",
       "      <td>20,000/Bedroom</td>\n",
       "      <td>20000</td>\n",
       "      <td>20000</td>\n",
       "      <td>51.0</td>\n",
       "      <td>390 sq.ft.</td>\n",
       "      <td>36.23 sq.m.</td>\n",
       "      <td>36.232170</td>\n",
       "      <td>...</td>\n",
       "      <td>1</td>\n",
       "      <td>3</td>\n",
       "      <td>3</td>\n",
       "      <td>7.0</td>\n",
       "      <td>23,24,21</td>\n",
       "      <td>1.0</td>\n",
       "      <td>21,23,24,101,102</td>\n",
       "      <td>Highway Darshan</td>\n",
       "      <td>1.0</td>\n",
       "      <td>1.0</td>\n",
       "    </tr>\n",
       "    <tr>\n",
       "      <th>3</th>\n",
       "      <td>70484400</td>\n",
       "      <td>H70484400</td>\n",
       "      <td>Thane</td>\n",
       "      <td>8,000/Bed</td>\n",
       "      <td>8000</td>\n",
       "      <td>8000</td>\n",
       "      <td>6.0</td>\n",
       "      <td>1250 sq.ft.</td>\n",
       "      <td>116.13 sq.m.</td>\n",
       "      <td>116.128750</td>\n",
       "      <td>...</td>\n",
       "      <td>1</td>\n",
       "      <td>0</td>\n",
       "      <td>6</td>\n",
       "      <td>17.0</td>\n",
       "      <td>44,23,45,24,17,29,40,41,42,21</td>\n",
       "      <td>4.0</td>\n",
       "      <td>17,21,44,23,45,24,29,40,41,42</td>\n",
       "      <td>Terraform Petunia, G Corp</td>\n",
       "      <td>2.0</td>\n",
       "      <td>11.0</td>\n",
       "    </tr>\n",
       "    <tr>\n",
       "      <th>4</th>\n",
       "      <td>70484128</td>\n",
       "      <td>A70484128</td>\n",
       "      <td>Thane</td>\n",
       "      <td>8,000/Bed</td>\n",
       "      <td>8000</td>\n",
       "      <td>8000</td>\n",
       "      <td>6.0</td>\n",
       "      <td>1250 sq.ft.</td>\n",
       "      <td>116.13 sq.m.</td>\n",
       "      <td>116.128750</td>\n",
       "      <td>...</td>\n",
       "      <td>1</td>\n",
       "      <td>0</td>\n",
       "      <td>6</td>\n",
       "      <td>30.0</td>\n",
       "      <td>24,40,41,42,21</td>\n",
       "      <td>4.0</td>\n",
       "      <td>21,24,40,41,42,103</td>\n",
       "      <td>nul</td>\n",
       "      <td>2.0</td>\n",
       "      <td>25.0</td>\n",
       "    </tr>\n",
       "  </tbody>\n",
       "</table>\n",
       "<p>5 rows × 30 columns</p>\n",
       "</div>"
      ],
      "text/plain": [
       "       SPID    PROP_ID                 CITY           PRICE  MAX_PRICE  \\\n",
       "0  69306824  X69306824  Mumbai Beyond Thane         3.25 Cr   32500001   \n",
       "1  70915032  R70915032          Navi Mumbai          4.15 L     415000   \n",
       "2  70916930  G70916930                Thane  20,000/Bedroom      20000   \n",
       "3  70484400  H70484400                Thane       8,000/Bed       8000   \n",
       "4  70484128  A70484128                Thane       8,000/Bed       8000   \n",
       "\n",
       "   MIN_PRICE  PRICE_SQFT          AREA SECONDARY_AREA  MAX_AREA_SQFT  ...  \\\n",
       "0   32500001    477941.0  74051 sq.ft.  6879.56 sq.m.    6879.560053  ...   \n",
       "1     415000       381.0   1089 sq.ft.   101.17 sq.m.     101.171367  ...   \n",
       "2      20000        51.0    390 sq.ft.    36.23 sq.m.      36.232170  ...   \n",
       "3       8000         6.0   1250 sq.ft.   116.13 sq.m.     116.128750  ...   \n",
       "4       8000         6.0   1250 sq.ft.   116.13 sq.m.     116.128750  ...   \n",
       "\n",
       "   FURNISH  FACING AGE  TOTAL_FLOOR  \\\n",
       "0        1       4   6          1.0   \n",
       "1        0       5   0          7.0   \n",
       "2        1       3   3          7.0   \n",
       "3        1       0   6         17.0   \n",
       "4        1       0   6         30.0   \n",
       "\n",
       "                                      FEATURES BEDROOM_NUM  \\\n",
       "0  44,23,45,12,24,46,25,47,26,19,1,40,41,42,32         3.0   \n",
       "1                                            N         NaN   \n",
       "2                                     23,24,21         1.0   \n",
       "3                44,23,45,24,17,29,40,41,42,21         4.0   \n",
       "4                               24,40,41,42,21         4.0   \n",
       "\n",
       "                                           AMENITIES  \\\n",
       "0  32,44,23,45,24,46,47,19,1,40,41,42,12,25,26,10...   \n",
       "1                                                NaN   \n",
       "2                                   21,23,24,101,102   \n",
       "3                      17,21,44,23,45,24,29,40,41,42   \n",
       "4                                 21,24,40,41,42,103   \n",
       "\n",
       "                    PROP_NAME BALCONY_NUM FLOOR_NUM  \n",
       "0                         NaN         1.0       NaN  \n",
       "1                   city prop         NaN       NaN  \n",
       "2             Highway Darshan         1.0       1.0  \n",
       "3  Terraform Petunia, G Corp          2.0      11.0  \n",
       "4                         nul         2.0      25.0  \n",
       "\n",
       "[5 rows x 30 columns]"
      ]
     },
     "execution_count": 2,
     "metadata": {},
     "output_type": "execute_result"
    }
   ],
   "source": [
    "df = pd.read_csv('data/processed/mumbai.csv')\n",
    "print(df.shape)\n",
    "df.head()"
   ]
  },
  {
   "cell_type": "code",
   "execution_count": 3,
   "metadata": {},
   "outputs": [
    {
     "data": {
      "text/plain": [
       "Index(['SPID', 'PROP_ID', 'CITY', 'PRICE', 'MAX_PRICE', 'MIN_PRICE',\n",
       "       'PRICE_SQFT', 'AREA', 'SECONDARY_AREA', 'MAX_AREA_SQFT',\n",
       "       'MIN_AREA_SQFT', 'PRICE_PER_UNIT_AREA', 'SECONDARY_TAGS',\n",
       "       'TOTAL_LANDMARK_COUNT', 'FORMATTED_LANDMARK_DETAILS', 'MAP_DETAILS',\n",
       "       'PROP_HEADING', 'DESCRIPTION', 'PROPERTY_TYPE', 'location', 'FURNISH',\n",
       "       'FACING', 'AGE', 'TOTAL_FLOOR', 'FEATURES', 'BEDROOM_NUM', 'AMENITIES',\n",
       "       'PROP_NAME', 'BALCONY_NUM', 'FLOOR_NUM'],\n",
       "      dtype='object')"
      ]
     },
     "execution_count": 3,
     "metadata": {},
     "output_type": "execute_result"
    }
   ],
   "source": [
    "df.columns"
   ]
  },
  {
   "cell_type": "code",
   "execution_count": 4,
   "metadata": {},
   "outputs": [
    {
     "data": {
      "text/plain": [
       "np.int64(14)"
      ]
     },
     "execution_count": 4,
     "metadata": {},
     "output_type": "execute_result"
    }
   ],
   "source": [
    "df['PROP_ID'].duplicated().sum()"
   ]
  },
  {
   "cell_type": "code",
   "execution_count": 5,
   "metadata": {},
   "outputs": [
    {
     "data": {
      "text/plain": [
       "CITY\n",
       "Navi Mumbai               2194\n",
       "Central Mumbai suburbs    1753\n",
       "Mumbai Andheri-Dahisar    1554\n",
       "Thane                     1483\n",
       "South Mumbai               810\n",
       "Mumbai Beyond Thane        509\n",
       "Mumbai Harbour             418\n",
       "Mira Road And Beyond       405\n",
       "Mumbai South West          388\n",
       "Name: count, dtype: int64"
      ]
     },
     "execution_count": 5,
     "metadata": {},
     "output_type": "execute_result"
    }
   ],
   "source": [
    "df['CITY'].value_counts()"
   ]
  },
  {
   "cell_type": "code",
   "execution_count": 6,
   "metadata": {},
   "outputs": [
    {
     "data": {
      "text/plain": [
       "PROPERTY_TYPE\n",
       "Residential Apartment        9126\n",
       "Studio Apartment              137\n",
       "Independent House/Villa       108\n",
       "Residential Land               60\n",
       "Serviced Apartments            44\n",
       "Independent/Builder Floor      34\n",
       "Farm House                      5\n",
       "Name: count, dtype: int64"
      ]
     },
     "execution_count": 6,
     "metadata": {},
     "output_type": "execute_result"
    }
   ],
   "source": [
    "df['PROPERTY_TYPE'].value_counts()"
   ]
  },
  {
   "cell_type": "code",
   "execution_count": 8,
   "metadata": {},
   "outputs": [
    {
     "data": {
      "text/plain": [
       "<Axes: ylabel='Missing values (in %)'>"
      ]
     },
     "execution_count": 8,
     "metadata": {},
     "output_type": "execute_result"
    },
    {
     "data": {
      "image/png": "[encoded data removed]",
      "text/plain": [
       "<Figure size 1500x500 with 1 Axes>"
      ]
     },
     "metadata": {},
     "output_type": "display_data"
    }
   ],
   "source": [
    "(\n",
    "    df.isnull()\n",
    "    .sum()\n",
    "    .div(df.shape[0])\n",
    "    .plot(kind='bar', figsize=(15, 5), ylabel='Missing values (in %)')\n",
    ")"
   ]
  },
  {
   "cell_type": "markdown",
   "metadata": {},
   "source": [
    "## Price and Area"
   ]
  },
  {
   "cell_type": "code",
   "execution_count": 9,
   "metadata": {},
   "outputs": [
    {
     "data": {
      "text/plain": [
       "(['PRICE', 'MAX_PRICE', 'MIN_PRICE', 'PRICE_SQFT'],\n",
       " ['AREA',\n",
       "  'SECONDARY_AREA',\n",
       "  'MAX_AREA_SQFT',\n",
       "  'MIN_AREA_SQFT',\n",
       "  'PRICE_PER_UNIT_AREA'])"
      ]
     },
     "execution_count": 9,
     "metadata": {},
     "output_type": "execute_result"
    }
   ],
   "source": [
    "price_cols = ['PRICE', 'MAX_PRICE', 'MIN_PRICE', 'PRICE_SQFT']\n",
    "area_cols = ['AREA', 'SECONDARY_AREA', 'MAX_AREA_SQFT', 'MIN_AREA_SQFT', 'PRICE_PER_UNIT_AREA']\n",
    "\n",
    "price_cols, area_cols"
   ]
  },
  {
   "cell_type": "code",
   "execution_count": 10,
   "metadata": {},
   "outputs": [
    {
     "data": {
      "text/html": [
       "<div>\n",
       "<style scoped>\n",
       "    .dataframe tbody tr th:only-of-type {\n",
       "        vertical-align: middle;\n",
       "    }\n",
       "\n",
       "    .dataframe tbody tr th {\n",
       "        vertical-align: top;\n",
       "    }\n",
       "\n",
       "    .dataframe thead th {\n",
       "        text-align: right;\n",
       "    }\n",
       "</style>\n",
       "<table border=\"1\" class=\"dataframe\">\n",
       "  <thead>\n",
       "    <tr style=\"text-align: right;\">\n",
       "      <th></th>\n",
       "      <th>SPID</th>\n",
       "      <th>PROP_ID</th>\n",
       "      <th>CITY</th>\n",
       "      <th>PRICE</th>\n",
       "      <th>MAX_PRICE</th>\n",
       "      <th>MIN_PRICE</th>\n",
       "      <th>PRICE_SQFT</th>\n",
       "      <th>AREA</th>\n",
       "      <th>SECONDARY_AREA</th>\n",
       "      <th>MAX_AREA_SQFT</th>\n",
       "      <th>...</th>\n",
       "      <th>FURNISH</th>\n",
       "      <th>FACING</th>\n",
       "      <th>AGE</th>\n",
       "      <th>TOTAL_FLOOR</th>\n",
       "      <th>FEATURES</th>\n",
       "      <th>BEDROOM_NUM</th>\n",
       "      <th>AMENITIES</th>\n",
       "      <th>PROP_NAME</th>\n",
       "      <th>BALCONY_NUM</th>\n",
       "      <th>FLOOR_NUM</th>\n",
       "    </tr>\n",
       "  </thead>\n",
       "  <tbody>\n",
       "  </tbody>\n",
       "</table>\n",
       "<p>0 rows × 30 columns</p>\n",
       "</div>"
      ],
      "text/plain": [
       "Empty DataFrame\n",
       "Columns: [SPID, PROP_ID, CITY, PRICE, MAX_PRICE, MIN_PRICE, PRICE_SQFT, AREA, SECONDARY_AREA, MAX_AREA_SQFT, MIN_AREA_SQFT, PRICE_PER_UNIT_AREA, SECONDARY_TAGS, TOTAL_LANDMARK_COUNT, FORMATTED_LANDMARK_DETAILS, MAP_DETAILS, PROP_HEADING, DESCRIPTION, PROPERTY_TYPE, location, FURNISH, FACING, AGE, TOTAL_FLOOR, FEATURES, BEDROOM_NUM, AMENITIES, PROP_NAME, BALCONY_NUM, FLOOR_NUM]\n",
       "Index: []\n",
       "\n",
       "[0 rows x 30 columns]"
      ]
     },
     "execution_count": 10,
     "metadata": {},
     "output_type": "execute_result"
    }
   ],
   "source": [
    "df[(df['MIN_PRICE'].sub(df['MAX_PRICE']) > 0) | (df['MIN_AREA_SQFT'].sub(df['MAX_AREA_SQFT']) > 0)]"
   ]
  },
  {
   "cell_type": "markdown",
   "metadata": {},
   "source": [
    "If `('MAX_*' - 'MIN_*' == 0)` this means both features contains same values. You can use anyone of them."
   ]
  },
  {
   "cell_type": "code",
   "execution_count": 11,
   "metadata": {},
   "outputs": [
    {
     "data": {
      "text/html": [
       "<div>\n",
       "<style scoped>\n",
       "    .dataframe tbody tr th:only-of-type {\n",
       "        vertical-align: middle;\n",
       "    }\n",
       "\n",
       "    .dataframe tbody tr th {\n",
       "        vertical-align: top;\n",
       "    }\n",
       "\n",
       "    .dataframe thead th {\n",
       "        text-align: right;\n",
       "    }\n",
       "</style>\n",
       "<table border=\"1\" class=\"dataframe\">\n",
       "  <thead>\n",
       "    <tr style=\"text-align: right;\">\n",
       "      <th></th>\n",
       "      <th>SPID</th>\n",
       "      <th>PROP_ID</th>\n",
       "      <th>CITY</th>\n",
       "      <th>PRICE</th>\n",
       "      <th>MAX_PRICE</th>\n",
       "      <th>MIN_PRICE</th>\n",
       "      <th>PRICE_SQFT</th>\n",
       "      <th>AREA</th>\n",
       "      <th>SECONDARY_AREA</th>\n",
       "      <th>MAX_AREA_SQFT</th>\n",
       "      <th>...</th>\n",
       "      <th>FURNISH</th>\n",
       "      <th>FACING</th>\n",
       "      <th>AGE</th>\n",
       "      <th>TOTAL_FLOOR</th>\n",
       "      <th>FEATURES</th>\n",
       "      <th>BEDROOM_NUM</th>\n",
       "      <th>AMENITIES</th>\n",
       "      <th>PROP_NAME</th>\n",
       "      <th>BALCONY_NUM</th>\n",
       "      <th>FLOOR_NUM</th>\n",
       "    </tr>\n",
       "  </thead>\n",
       "  <tbody>\n",
       "  </tbody>\n",
       "</table>\n",
       "<p>0 rows × 30 columns</p>\n",
       "</div>"
      ],
      "text/plain": [
       "Empty DataFrame\n",
       "Columns: [SPID, PROP_ID, CITY, PRICE, MAX_PRICE, MIN_PRICE, PRICE_SQFT, AREA, SECONDARY_AREA, MAX_AREA_SQFT, MIN_AREA_SQFT, PRICE_PER_UNIT_AREA, SECONDARY_TAGS, TOTAL_LANDMARK_COUNT, FORMATTED_LANDMARK_DETAILS, MAP_DETAILS, PROP_HEADING, DESCRIPTION, PROPERTY_TYPE, location, FURNISH, FACING, AGE, TOTAL_FLOOR, FEATURES, BEDROOM_NUM, AMENITIES, PROP_NAME, BALCONY_NUM, FLOOR_NUM]\n",
       "Index: []\n",
       "\n",
       "[0 rows x 30 columns]"
      ]
     },
     "execution_count": 11,
     "metadata": {},
     "output_type": "execute_result"
    }
   ],
   "source": [
    "df[(df['PRICE_PER_UNIT_AREA'].sub(df['PRICE_SQFT']) > 0)]"
   ]
  },
  {
   "cell_type": "code",
   "execution_count": 12,
   "metadata": {},
   "outputs": [
    {
     "data": {
      "text/html": [
       "<div>\n",
       "<style scoped>\n",
       "    .dataframe tbody tr th:only-of-type {\n",
       "        vertical-align: middle;\n",
       "    }\n",
       "\n",
       "    .dataframe tbody tr th {\n",
       "        vertical-align: top;\n",
       "    }\n",
       "\n",
       "    .dataframe thead th {\n",
       "        text-align: right;\n",
       "    }\n",
       "</style>\n",
       "<table border=\"1\" class=\"dataframe\">\n",
       "  <thead>\n",
       "    <tr style=\"text-align: right;\">\n",
       "      <th></th>\n",
       "      <th>AREA</th>\n",
       "      <th>SECONDARY_AREA</th>\n",
       "    </tr>\n",
       "  </thead>\n",
       "  <tbody>\n",
       "    <tr>\n",
       "      <th>2510</th>\n",
       "      <td>451 sq.ft.</td>\n",
       "      <td>41.9 sq.m.</td>\n",
       "    </tr>\n",
       "    <tr>\n",
       "      <th>8999</th>\n",
       "      <td>1385 sq.ft.</td>\n",
       "      <td>128.67 sq.m.</td>\n",
       "    </tr>\n",
       "    <tr>\n",
       "      <th>5929</th>\n",
       "      <td>750 sq.ft.</td>\n",
       "      <td>69.68 sq.m.</td>\n",
       "    </tr>\n",
       "    <tr>\n",
       "      <th>2190</th>\n",
       "      <td>1994-2126  sq.ft.</td>\n",
       "      <td>185.25-197.51  sq.m.</td>\n",
       "    </tr>\n",
       "    <tr>\n",
       "      <th>6585</th>\n",
       "      <td>2100 sq.ft.</td>\n",
       "      <td>195.1 sq.m.</td>\n",
       "    </tr>\n",
       "    <tr>\n",
       "      <th>7401</th>\n",
       "      <td>577 sq.ft.</td>\n",
       "      <td>53.61 sq.m.</td>\n",
       "    </tr>\n",
       "    <tr>\n",
       "      <th>4991</th>\n",
       "      <td>1087 sq.ft.</td>\n",
       "      <td>100.99 sq.m.</td>\n",
       "    </tr>\n",
       "  </tbody>\n",
       "</table>\n",
       "</div>"
      ],
      "text/plain": [
       "                   AREA        SECONDARY_AREA\n",
       "2510         451 sq.ft.            41.9 sq.m.\n",
       "8999        1385 sq.ft.          128.67 sq.m.\n",
       "5929         750 sq.ft.           69.68 sq.m.\n",
       "2190  1994-2126  sq.ft.  185.25-197.51  sq.m.\n",
       "6585        2100 sq.ft.           195.1 sq.m.\n",
       "7401         577 sq.ft.           53.61 sq.m.\n",
       "4991        1087 sq.ft.          100.99 sq.m."
      ]
     },
     "execution_count": 12,
     "metadata": {},
     "output_type": "execute_result"
    }
   ],
   "source": [
    "df[['AREA', 'SECONDARY_AREA']].sample(7)"
   ]
  },
  {
   "cell_type": "code",
   "execution_count": 13,
   "metadata": {},
   "outputs": [
    {
     "data": {
      "text/html": [
       "<div>\n",
       "<style scoped>\n",
       "    .dataframe tbody tr th:only-of-type {\n",
       "        vertical-align: middle;\n",
       "    }\n",
       "\n",
       "    .dataframe tbody tr th {\n",
       "        vertical-align: top;\n",
       "    }\n",
       "\n",
       "    .dataframe thead th {\n",
       "        text-align: right;\n",
       "    }\n",
       "</style>\n",
       "<table border=\"1\" class=\"dataframe\">\n",
       "  <thead>\n",
       "    <tr style=\"text-align: right;\">\n",
       "      <th></th>\n",
       "      <th>SPID</th>\n",
       "      <th>PROP_ID</th>\n",
       "      <th>CITY</th>\n",
       "      <th>PRICE</th>\n",
       "      <th>MAX_PRICE</th>\n",
       "      <th>MIN_PRICE</th>\n",
       "      <th>PRICE_SQFT</th>\n",
       "      <th>AREA</th>\n",
       "      <th>SECONDARY_AREA</th>\n",
       "      <th>MAX_AREA_SQFT</th>\n",
       "      <th>...</th>\n",
       "      <th>FURNISH</th>\n",
       "      <th>FACING</th>\n",
       "      <th>AGE</th>\n",
       "      <th>TOTAL_FLOOR</th>\n",
       "      <th>FEATURES</th>\n",
       "      <th>BEDROOM_NUM</th>\n",
       "      <th>AMENITIES</th>\n",
       "      <th>PROP_NAME</th>\n",
       "      <th>BALCONY_NUM</th>\n",
       "      <th>FLOOR_NUM</th>\n",
       "    </tr>\n",
       "  </thead>\n",
       "  <tbody>\n",
       "  </tbody>\n",
       "</table>\n",
       "<p>0 rows × 30 columns</p>\n",
       "</div>"
      ],
      "text/plain": [
       "Empty DataFrame\n",
       "Columns: [SPID, PROP_ID, CITY, PRICE, MAX_PRICE, MIN_PRICE, PRICE_SQFT, AREA, SECONDARY_AREA, MAX_AREA_SQFT, MIN_AREA_SQFT, PRICE_PER_UNIT_AREA, SECONDARY_TAGS, TOTAL_LANDMARK_COUNT, FORMATTED_LANDMARK_DETAILS, MAP_DETAILS, PROP_HEADING, DESCRIPTION, PROPERTY_TYPE, location, FURNISH, FACING, AGE, TOTAL_FLOOR, FEATURES, BEDROOM_NUM, AMENITIES, PROP_NAME, BALCONY_NUM, FLOOR_NUM]\n",
       "Index: []\n",
       "\n",
       "[0 rows x 30 columns]"
      ]
     },
     "execution_count": 13,
     "metadata": {},
     "output_type": "execute_result"
    }
   ],
   "source": [
    "df[~df['AREA'].str.contains('sq.ft.')]"
   ]
  },
  {
   "cell_type": "code",
   "execution_count": 14,
   "metadata": {},
   "outputs": [
    {
     "data": {
      "text/html": [
       "<div>\n",
       "<style scoped>\n",
       "    .dataframe tbody tr th:only-of-type {\n",
       "        vertical-align: middle;\n",
       "    }\n",
       "\n",
       "    .dataframe tbody tr th {\n",
       "        vertical-align: top;\n",
       "    }\n",
       "\n",
       "    .dataframe thead th {\n",
       "        text-align: right;\n",
       "    }\n",
       "</style>\n",
       "<table border=\"1\" class=\"dataframe\">\n",
       "  <thead>\n",
       "    <tr style=\"text-align: right;\">\n",
       "      <th></th>\n",
       "      <th>SPID</th>\n",
       "      <th>PROP_ID</th>\n",
       "      <th>CITY</th>\n",
       "      <th>PRICE</th>\n",
       "      <th>MAX_PRICE</th>\n",
       "      <th>MIN_PRICE</th>\n",
       "      <th>PRICE_SQFT</th>\n",
       "      <th>AREA</th>\n",
       "      <th>SECONDARY_AREA</th>\n",
       "      <th>MAX_AREA_SQFT</th>\n",
       "      <th>...</th>\n",
       "      <th>FURNISH</th>\n",
       "      <th>FACING</th>\n",
       "      <th>AGE</th>\n",
       "      <th>TOTAL_FLOOR</th>\n",
       "      <th>FEATURES</th>\n",
       "      <th>BEDROOM_NUM</th>\n",
       "      <th>AMENITIES</th>\n",
       "      <th>PROP_NAME</th>\n",
       "      <th>BALCONY_NUM</th>\n",
       "      <th>FLOOR_NUM</th>\n",
       "    </tr>\n",
       "  </thead>\n",
       "  <tbody>\n",
       "  </tbody>\n",
       "</table>\n",
       "<p>0 rows × 30 columns</p>\n",
       "</div>"
      ],
      "text/plain": [
       "Empty DataFrame\n",
       "Columns: [SPID, PROP_ID, CITY, PRICE, MAX_PRICE, MIN_PRICE, PRICE_SQFT, AREA, SECONDARY_AREA, MAX_AREA_SQFT, MIN_AREA_SQFT, PRICE_PER_UNIT_AREA, SECONDARY_TAGS, TOTAL_LANDMARK_COUNT, FORMATTED_LANDMARK_DETAILS, MAP_DETAILS, PROP_HEADING, DESCRIPTION, PROPERTY_TYPE, location, FURNISH, FACING, AGE, TOTAL_FLOOR, FEATURES, BEDROOM_NUM, AMENITIES, PROP_NAME, BALCONY_NUM, FLOOR_NUM]\n",
       "Index: []\n",
       "\n",
       "[0 rows x 30 columns]"
      ]
     },
     "execution_count": 14,
     "metadata": {},
     "output_type": "execute_result"
    }
   ],
   "source": [
    "df[~df['SECONDARY_AREA'].str.contains('sq.m.')]"
   ]
  },
  {
   "cell_type": "code",
   "execution_count": 15,
   "metadata": {},
   "outputs": [
    {
     "data": {
      "text/html": [
       "<div>\n",
       "<style scoped>\n",
       "    .dataframe tbody tr th:only-of-type {\n",
       "        vertical-align: middle;\n",
       "    }\n",
       "\n",
       "    .dataframe tbody tr th {\n",
       "        vertical-align: top;\n",
       "    }\n",
       "\n",
       "    .dataframe thead th {\n",
       "        text-align: right;\n",
       "    }\n",
       "</style>\n",
       "<table border=\"1\" class=\"dataframe\">\n",
       "  <thead>\n",
       "    <tr style=\"text-align: right;\">\n",
       "      <th></th>\n",
       "      <th>PRICE</th>\n",
       "      <th>MIN_PRICE</th>\n",
       "    </tr>\n",
       "  </thead>\n",
       "  <tbody>\n",
       "    <tr>\n",
       "      <th>5941</th>\n",
       "      <td>1.02  - 1.05 Cr</td>\n",
       "      <td>10152800</td>\n",
       "    </tr>\n",
       "    <tr>\n",
       "      <th>6565</th>\n",
       "      <td>5.48  - 6.28 Cr</td>\n",
       "      <td>54835000</td>\n",
       "    </tr>\n",
       "    <tr>\n",
       "      <th>1899</th>\n",
       "      <td>1.1  - 1.29 Cr</td>\n",
       "      <td>11000880</td>\n",
       "    </tr>\n",
       "    <tr>\n",
       "      <th>7055</th>\n",
       "      <td>33 L</td>\n",
       "      <td>3300000</td>\n",
       "    </tr>\n",
       "    <tr>\n",
       "      <th>193</th>\n",
       "      <td>26,000/Bed</td>\n",
       "      <td>26000</td>\n",
       "    </tr>\n",
       "    <tr>\n",
       "      <th>6309</th>\n",
       "      <td>4.28 Cr</td>\n",
       "      <td>42800000</td>\n",
       "    </tr>\n",
       "    <tr>\n",
       "      <th>8164</th>\n",
       "      <td>1.05 Cr</td>\n",
       "      <td>10500000</td>\n",
       "    </tr>\n",
       "  </tbody>\n",
       "</table>\n",
       "</div>"
      ],
      "text/plain": [
       "                PRICE  MIN_PRICE\n",
       "5941  1.02  - 1.05 Cr   10152800\n",
       "6565  5.48  - 6.28 Cr   54835000\n",
       "1899   1.1  - 1.29 Cr   11000880\n",
       "7055             33 L    3300000\n",
       "193        26,000/Bed      26000\n",
       "6309          4.28 Cr   42800000\n",
       "8164          1.05 Cr   10500000"
      ]
     },
     "execution_count": 15,
     "metadata": {},
     "output_type": "execute_result"
    }
   ],
   "source": [
    "df[['PRICE', 'MIN_PRICE']].sample(7)"
   ]
  },
  {
   "cell_type": "markdown",
   "metadata": {},
   "source": [
    "Here, `MIN_PRICE` is integer value of `PRICE` column which is in string value."
   ]
  },
  {
   "cell_type": "code",
   "execution_count": 16,
   "metadata": {},
   "outputs": [
    {
     "data": {
      "text/plain": [
       "2933"
      ]
     },
     "execution_count": 16,
     "metadata": {},
     "output_type": "execute_result"
    }
   ],
   "source": [
    "df['PRICE'].nunique()"
   ]
  },
  {
   "cell_type": "code",
   "execution_count": 17,
   "metadata": {},
   "outputs": [
    {
     "data": {
      "text/plain": [
       "array(['Cr', 'L', '20,000/Bedroom', '8,000/Bed', '7,500/Bed', '6,000/Bed',\n",
       "       '5,000/Bed', '25,000/Bedroom', '16,500/Bed', '11,000/Bed',\n",
       "       '16,000/Bedroom', '8,500/Bed', '4,000/Bedroom', '75,000',\n",
       "       '14,000/Bed', '14,000/Bedroom', '45,000/Bedroom', '5,500/Bed',\n",
       "       '13,000/Bed', '10,000/Bed', '25,000/Bed', '12,000/Bed',\n",
       "       '32,000/Bedroom', '7,000/Bed', '15,000/Bed', '6,500/Bed',\n",
       "       '30,000/Bed', '5,999/Bed', '35,000/Bed', '4,000/Bed',\n",
       "       '5,500/Bedroom', '29,100/Bedroom', '8,001/Bed', '26,000/Bedroom',\n",
       "       '27,000/Bedroom', '16,000/Bed', '23,300/Bedroom', '21,000/Bed',\n",
       "       '33,000/Bedroom', '3,800/Bedroom', '3,999/Bed', '11,000/Bedroom',\n",
       "       '22,000/Bedroom', '12,000/Bedroom', '9,000/Bed', '23,000/Bedroom',\n",
       "       '4,500/Bed', '8,200/Bed', '40,000/Bed', '15,000/Bedroom',\n",
       "       '32,000/Bed', '17,000/Bed', '20,000/Bed', '18,000/Bed',\n",
       "       '45,000/Bed', '6,999/Bed', 'Request', '14,500/Bed', '14,250/Bed',\n",
       "       '26,000/Bed', '24,500/Bed', '22,500/Bed', '27,500/Bed',\n",
       "       '19,000/Bed', '17,000/Bedroom', '13,001/Bed', '2,600/Bed',\n",
       "       '35,000/Bedroom', '30,000/Bedroom', '15,400/Bed', '34,000/Bedroom',\n",
       "       '18,000/Bedroom', '10,200/Bed', '7,200/Bed', '12,500/Bed',\n",
       "       '12,001/Bedroom', '17,500/Bed', '12,350/Bed', '50,000/Bedroom',\n",
       "       '11,001/Bed'], dtype=object)"
      ]
     },
     "execution_count": 17,
     "metadata": {},
     "output_type": "execute_result"
    }
   ],
   "source": [
    "df['PRICE'].str.split().str.get(-1).unique()[:80]"
   ]
  },
  {
   "cell_type": "code",
   "execution_count": 18,
   "metadata": {},
   "outputs": [
    {
     "data": {
      "text/html": [
       "<div>\n",
       "<style scoped>\n",
       "    .dataframe tbody tr th:only-of-type {\n",
       "        vertical-align: middle;\n",
       "    }\n",
       "\n",
       "    .dataframe tbody tr th {\n",
       "        vertical-align: top;\n",
       "    }\n",
       "\n",
       "    .dataframe thead th {\n",
       "        text-align: right;\n",
       "    }\n",
       "</style>\n",
       "<table border=\"1\" class=\"dataframe\">\n",
       "  <thead>\n",
       "    <tr style=\"text-align: right;\">\n",
       "      <th></th>\n",
       "      <th>SPID</th>\n",
       "      <th>PROP_ID</th>\n",
       "      <th>CITY</th>\n",
       "      <th>PRICE</th>\n",
       "      <th>MAX_PRICE</th>\n",
       "      <th>MIN_PRICE</th>\n",
       "      <th>PRICE_SQFT</th>\n",
       "      <th>AREA</th>\n",
       "      <th>SECONDARY_AREA</th>\n",
       "      <th>MAX_AREA_SQFT</th>\n",
       "      <th>...</th>\n",
       "      <th>FURNISH</th>\n",
       "      <th>FACING</th>\n",
       "      <th>AGE</th>\n",
       "      <th>TOTAL_FLOOR</th>\n",
       "      <th>FEATURES</th>\n",
       "      <th>BEDROOM_NUM</th>\n",
       "      <th>AMENITIES</th>\n",
       "      <th>PROP_NAME</th>\n",
       "      <th>BALCONY_NUM</th>\n",
       "      <th>FLOOR_NUM</th>\n",
       "    </tr>\n",
       "  </thead>\n",
       "  <tbody>\n",
       "    <tr>\n",
       "      <th>185</th>\n",
       "      <td>66275460</td>\n",
       "      <td>J66275460</td>\n",
       "      <td>Mumbai Andheri-Dahisar</td>\n",
       "      <td>Price on Request</td>\n",
       "      <td>0</td>\n",
       "      <td>0</td>\n",
       "      <td>0.0</td>\n",
       "      <td>2400 sq.ft.</td>\n",
       "      <td>222.97 sq.m.</td>\n",
       "      <td>222.967200</td>\n",
       "      <td>...</td>\n",
       "      <td>0</td>\n",
       "      <td>0</td>\n",
       "      <td>5</td>\n",
       "      <td>57.0</td>\n",
       "      <td>N</td>\n",
       "      <td>4.0</td>\n",
       "      <td>NaN</td>\n",
       "      <td>Elysian by Oberoi Realty</td>\n",
       "      <td>NaN</td>\n",
       "      <td>1</td>\n",
       "    </tr>\n",
       "    <tr>\n",
       "      <th>467</th>\n",
       "      <td>67096488</td>\n",
       "      <td>D67096488</td>\n",
       "      <td>Central Mumbai suburbs</td>\n",
       "      <td>Price on Request</td>\n",
       "      <td>0</td>\n",
       "      <td>0</td>\n",
       "      <td>0.0</td>\n",
       "      <td>1415 sq.ft.</td>\n",
       "      <td>131.46 sq.m.</td>\n",
       "      <td>131.457745</td>\n",
       "      <td>...</td>\n",
       "      <td>0</td>\n",
       "      <td>0</td>\n",
       "      <td>6</td>\n",
       "      <td>60.0</td>\n",
       "      <td>N</td>\n",
       "      <td>3.0</td>\n",
       "      <td>NaN</td>\n",
       "      <td>Enigma by Oberoi Realty</td>\n",
       "      <td>NaN</td>\n",
       "      <td>1</td>\n",
       "    </tr>\n",
       "    <tr>\n",
       "      <th>877</th>\n",
       "      <td>68375652</td>\n",
       "      <td>D68375652</td>\n",
       "      <td>Mumbai Harbour</td>\n",
       "      <td>Price on Request</td>\n",
       "      <td>0</td>\n",
       "      <td>0</td>\n",
       "      <td>0.0</td>\n",
       "      <td>1768 sq.ft.</td>\n",
       "      <td>164.25 sq.m.</td>\n",
       "      <td>164.252504</td>\n",
       "      <td>...</td>\n",
       "      <td>0</td>\n",
       "      <td>0</td>\n",
       "      <td>5</td>\n",
       "      <td>40.0</td>\n",
       "      <td>N</td>\n",
       "      <td>4.0</td>\n",
       "      <td>NaN</td>\n",
       "      <td>Lodha Aura New Cuffe Parade</td>\n",
       "      <td>NaN</td>\n",
       "      <td>1</td>\n",
       "    </tr>\n",
       "    <tr>\n",
       "      <th>1142</th>\n",
       "      <td>68736014</td>\n",
       "      <td>M68736014</td>\n",
       "      <td>Mumbai Beyond Thane</td>\n",
       "      <td>Price on Request</td>\n",
       "      <td>0</td>\n",
       "      <td>0</td>\n",
       "      <td>0.0</td>\n",
       "      <td>526-659  sq.ft.</td>\n",
       "      <td>48.87-61.22  sq.m.</td>\n",
       "      <td>61.223077</td>\n",
       "      <td>...</td>\n",
       "      <td>0</td>\n",
       "      <td>0</td>\n",
       "      <td>5</td>\n",
       "      <td>13.0</td>\n",
       "      <td>N</td>\n",
       "      <td>2.0</td>\n",
       "      <td>NaN</td>\n",
       "      <td>Empire Centrum</td>\n",
       "      <td>NaN</td>\n",
       "      <td>1</td>\n",
       "    </tr>\n",
       "    <tr>\n",
       "      <th>1189</th>\n",
       "      <td>69630108</td>\n",
       "      <td>D69630108</td>\n",
       "      <td>Mira Road And Beyond</td>\n",
       "      <td>Price on Request</td>\n",
       "      <td>0</td>\n",
       "      <td>0</td>\n",
       "      <td>0.0</td>\n",
       "      <td>800 sq.ft.</td>\n",
       "      <td>74.32 sq.m.</td>\n",
       "      <td>74.322400</td>\n",
       "      <td>...</td>\n",
       "      <td>0</td>\n",
       "      <td>0</td>\n",
       "      <td>5</td>\n",
       "      <td>11.0</td>\n",
       "      <td>N</td>\n",
       "      <td>3.0</td>\n",
       "      <td>NaN</td>\n",
       "      <td>SK Imperial Garden</td>\n",
       "      <td>NaN</td>\n",
       "      <td>1</td>\n",
       "    </tr>\n",
       "  </tbody>\n",
       "</table>\n",
       "<p>5 rows × 30 columns</p>\n",
       "</div>"
      ],
      "text/plain": [
       "          SPID    PROP_ID                    CITY             PRICE  \\\n",
       "185   66275460  J66275460  Mumbai Andheri-Dahisar  Price on Request   \n",
       "467   67096488  D67096488  Central Mumbai suburbs  Price on Request   \n",
       "877   68375652  D68375652          Mumbai Harbour  Price on Request   \n",
       "1142  68736014  M68736014     Mumbai Beyond Thane  Price on Request   \n",
       "1189  69630108  D69630108    Mira Road And Beyond  Price on Request   \n",
       "\n",
       "      MAX_PRICE  MIN_PRICE  PRICE_SQFT             AREA      SECONDARY_AREA  \\\n",
       "185           0          0         0.0      2400 sq.ft.        222.97 sq.m.   \n",
       "467           0          0         0.0      1415 sq.ft.        131.46 sq.m.   \n",
       "877           0          0         0.0      1768 sq.ft.        164.25 sq.m.   \n",
       "1142          0          0         0.0  526-659  sq.ft.  48.87-61.22  sq.m.   \n",
       "1189          0          0         0.0       800 sq.ft.         74.32 sq.m.   \n",
       "\n",
       "      MAX_AREA_SQFT  ...  FURNISH  FACING AGE  TOTAL_FLOOR FEATURES  \\\n",
       "185      222.967200  ...        0       0   5         57.0        N   \n",
       "467      131.457745  ...        0       0   6         60.0        N   \n",
       "877      164.252504  ...        0       0   5         40.0        N   \n",
       "1142      61.223077  ...        0       0   5         13.0        N   \n",
       "1189      74.322400  ...        0       0   5         11.0        N   \n",
       "\n",
       "     BEDROOM_NUM AMENITIES                    PROP_NAME BALCONY_NUM FLOOR_NUM  \n",
       "185          4.0       NaN     Elysian by Oberoi Realty         NaN         1  \n",
       "467          3.0       NaN      Enigma by Oberoi Realty         NaN         1  \n",
       "877          4.0       NaN  Lodha Aura New Cuffe Parade         NaN         1  \n",
       "1142         2.0       NaN               Empire Centrum         NaN         1  \n",
       "1189         3.0       NaN           SK Imperial Garden         NaN         1  \n",
       "\n",
       "[5 rows x 30 columns]"
      ]
     },
     "execution_count": 18,
     "metadata": {},
     "output_type": "execute_result"
    }
   ],
   "source": [
    "# These properties PRICE is not available\n",
    "df[df['PRICE'].str.contains(r'\\d') == False].head(5)"
   ]
  },
  {
   "cell_type": "code",
   "execution_count": 19,
   "metadata": {},
   "outputs": [
    {
     "data": {
      "text/html": [
       "<div>\n",
       "<style scoped>\n",
       "    .dataframe tbody tr th:only-of-type {\n",
       "        vertical-align: middle;\n",
       "    }\n",
       "\n",
       "    .dataframe tbody tr th {\n",
       "        vertical-align: top;\n",
       "    }\n",
       "\n",
       "    .dataframe thead th {\n",
       "        text-align: right;\n",
       "    }\n",
       "</style>\n",
       "<table border=\"1\" class=\"dataframe\">\n",
       "  <thead>\n",
       "    <tr style=\"text-align: right;\">\n",
       "      <th></th>\n",
       "      <th>AREA</th>\n",
       "      <th>SECONDARY_AREA</th>\n",
       "      <th>MIN_AREA_SQFT</th>\n",
       "    </tr>\n",
       "  </thead>\n",
       "  <tbody>\n",
       "    <tr>\n",
       "      <th>6632</th>\n",
       "      <td>1926 sq.ft.</td>\n",
       "      <td>178.93 sq.m.</td>\n",
       "      <td>178.931178</td>\n",
       "    </tr>\n",
       "    <tr>\n",
       "      <th>8125</th>\n",
       "      <td>575 sq.ft.</td>\n",
       "      <td>53.42 sq.m.</td>\n",
       "      <td>53.419225</td>\n",
       "    </tr>\n",
       "    <tr>\n",
       "      <th>7991</th>\n",
       "      <td>505-559  sq.ft.</td>\n",
       "      <td>46.92-51.93  sq.m.</td>\n",
       "      <td>46.916015</td>\n",
       "    </tr>\n",
       "    <tr>\n",
       "      <th>8675</th>\n",
       "      <td>525 sq.ft.</td>\n",
       "      <td>48.77 sq.m.</td>\n",
       "      <td>48.774075</td>\n",
       "    </tr>\n",
       "    <tr>\n",
       "      <th>3398</th>\n",
       "      <td>820 sq.ft.</td>\n",
       "      <td>76.18 sq.m.</td>\n",
       "      <td>76.180460</td>\n",
       "    </tr>\n",
       "    <tr>\n",
       "      <th>9059</th>\n",
       "      <td>936 sq.ft.</td>\n",
       "      <td>86.96 sq.m.</td>\n",
       "      <td>86.957208</td>\n",
       "    </tr>\n",
       "    <tr>\n",
       "      <th>3562</th>\n",
       "      <td>446 sq.ft.</td>\n",
       "      <td>41.43 sq.m.</td>\n",
       "      <td>41.434738</td>\n",
       "    </tr>\n",
       "  </tbody>\n",
       "</table>\n",
       "</div>"
      ],
      "text/plain": [
       "                 AREA      SECONDARY_AREA  MIN_AREA_SQFT\n",
       "6632      1926 sq.ft.        178.93 sq.m.     178.931178\n",
       "8125       575 sq.ft.         53.42 sq.m.      53.419225\n",
       "7991  505-559  sq.ft.  46.92-51.93  sq.m.      46.916015\n",
       "8675       525 sq.ft.         48.77 sq.m.      48.774075\n",
       "3398       820 sq.ft.         76.18 sq.m.      76.180460\n",
       "9059       936 sq.ft.         86.96 sq.m.      86.957208\n",
       "3562       446 sq.ft.         41.43 sq.m.      41.434738"
      ]
     },
     "execution_count": 19,
     "metadata": {},
     "output_type": "execute_result"
    }
   ],
   "source": [
    "df[['AREA', 'SECONDARY_AREA', 'MIN_AREA_SQFT']].sample(7)"
   ]
  },
  {
   "cell_type": "code",
   "execution_count": 20,
   "metadata": {},
   "outputs": [
    {
     "data": {
      "text/html": [
       "<div>\n",
       "<style scoped>\n",
       "    .dataframe tbody tr th:only-of-type {\n",
       "        vertical-align: middle;\n",
       "    }\n",
       "\n",
       "    .dataframe tbody tr th {\n",
       "        vertical-align: top;\n",
       "    }\n",
       "\n",
       "    .dataframe thead th {\n",
       "        text-align: right;\n",
       "    }\n",
       "</style>\n",
       "<table border=\"1\" class=\"dataframe\">\n",
       "  <thead>\n",
       "    <tr style=\"text-align: right;\">\n",
       "      <th></th>\n",
       "      <th>PRICE</th>\n",
       "      <th>PRICE_SQFT</th>\n",
       "      <th>PRICE_PER_UNIT_AREA</th>\n",
       "      <th>AREA</th>\n",
       "      <th>MAX_AREA_SQFT</th>\n",
       "      <th>SECONDARY_AREA</th>\n",
       "    </tr>\n",
       "  </thead>\n",
       "  <tbody>\n",
       "    <tr>\n",
       "      <th>1662</th>\n",
       "      <td>1.65 Cr</td>\n",
       "      <td>10294.0</td>\n",
       "      <td>10294.0</td>\n",
       "      <td>1700 sq.ft.</td>\n",
       "      <td>157.935100</td>\n",
       "      <td>157.94 sq.m.</td>\n",
       "    </tr>\n",
       "    <tr>\n",
       "      <th>1079</th>\n",
       "      <td>2 Cr</td>\n",
       "      <td>19361.0</td>\n",
       "      <td>19361.0</td>\n",
       "      <td>1033 sq.ft.</td>\n",
       "      <td>95.968799</td>\n",
       "      <td>95.97 sq.m.</td>\n",
       "    </tr>\n",
       "    <tr>\n",
       "      <th>7630</th>\n",
       "      <td>1.5 L</td>\n",
       "      <td>142.0</td>\n",
       "      <td>142.0</td>\n",
       "      <td>1050 sq.ft.</td>\n",
       "      <td>97.548150</td>\n",
       "      <td>97.55 sq.m.</td>\n",
       "    </tr>\n",
       "    <tr>\n",
       "      <th>2109</th>\n",
       "      <td>17.49 Cr</td>\n",
       "      <td>63026.0</td>\n",
       "      <td>63026.0</td>\n",
       "      <td>2775 sq.ft.</td>\n",
       "      <td>257.805825</td>\n",
       "      <td>257.81 sq.m.</td>\n",
       "    </tr>\n",
       "    <tr>\n",
       "      <th>7937</th>\n",
       "      <td>40 L</td>\n",
       "      <td>5882.0</td>\n",
       "      <td>5882.0</td>\n",
       "      <td>680 sq.ft.</td>\n",
       "      <td>63.174040</td>\n",
       "      <td>63.17 sq.m.</td>\n",
       "    </tr>\n",
       "    <tr>\n",
       "      <th>6059</th>\n",
       "      <td>1.97 Cr</td>\n",
       "      <td>38252.0</td>\n",
       "      <td>38252.0</td>\n",
       "      <td>515 sq.ft.</td>\n",
       "      <td>47.845045</td>\n",
       "      <td>47.85 sq.m.</td>\n",
       "    </tr>\n",
       "    <tr>\n",
       "      <th>1096</th>\n",
       "      <td>80  - 82.64 L</td>\n",
       "      <td>12598.0</td>\n",
       "      <td>12598.0</td>\n",
       "      <td>635-656  sq.ft.</td>\n",
       "      <td>60.944368</td>\n",
       "      <td>58.99-60.94  sq.m.</td>\n",
       "    </tr>\n",
       "  </tbody>\n",
       "</table>\n",
       "</div>"
      ],
      "text/plain": [
       "              PRICE  PRICE_SQFT  PRICE_PER_UNIT_AREA             AREA  \\\n",
       "1662        1.65 Cr     10294.0              10294.0      1700 sq.ft.   \n",
       "1079           2 Cr     19361.0              19361.0      1033 sq.ft.   \n",
       "7630          1.5 L       142.0                142.0      1050 sq.ft.   \n",
       "2109       17.49 Cr     63026.0              63026.0      2775 sq.ft.   \n",
       "7937           40 L      5882.0               5882.0       680 sq.ft.   \n",
       "6059        1.97 Cr     38252.0              38252.0       515 sq.ft.   \n",
       "1096  80  - 82.64 L     12598.0              12598.0  635-656  sq.ft.   \n",
       "\n",
       "      MAX_AREA_SQFT      SECONDARY_AREA  \n",
       "1662     157.935100        157.94 sq.m.  \n",
       "1079      95.968799         95.97 sq.m.  \n",
       "7630      97.548150         97.55 sq.m.  \n",
       "2109     257.805825        257.81 sq.m.  \n",
       "7937      63.174040         63.17 sq.m.  \n",
       "6059      47.845045         47.85 sq.m.  \n",
       "1096      60.944368  58.99-60.94  sq.m.  "
      ]
     },
     "execution_count": 20,
     "metadata": {},
     "output_type": "execute_result"
    }
   ],
   "source": [
    "df[\n",
    "    ['PRICE', 'PRICE_SQFT', 'PRICE_PER_UNIT_AREA', 'AREA', 'MAX_AREA_SQFT', 'SECONDARY_AREA']\n",
    "].sample(7)"
   ]
  },
  {
   "cell_type": "markdown",
   "metadata": {},
   "source": [
    "## Extra"
   ]
  },
  {
   "cell_type": "code",
   "execution_count": 21,
   "metadata": {},
   "outputs": [
    {
     "data": {
      "text/html": [
       "<div>\n",
       "<style scoped>\n",
       "    .dataframe tbody tr th:only-of-type {\n",
       "        vertical-align: middle;\n",
       "    }\n",
       "\n",
       "    .dataframe tbody tr th {\n",
       "        vertical-align: top;\n",
       "    }\n",
       "\n",
       "    .dataframe thead th {\n",
       "        text-align: right;\n",
       "    }\n",
       "</style>\n",
       "<table border=\"1\" class=\"dataframe\">\n",
       "  <thead>\n",
       "    <tr style=\"text-align: right;\">\n",
       "      <th></th>\n",
       "      <th>TOTAL_LANDMARK_COUNT</th>\n",
       "      <th>FORMATTED_LANDMARK_DETAILS</th>\n",
       "    </tr>\n",
       "  </thead>\n",
       "  <tbody>\n",
       "    <tr>\n",
       "      <th>565</th>\n",
       "      <td>50.0</td>\n",
       "      <td>[{'text': '1 Parking'}, {'text': '1 Religious ...</td>\n",
       "    </tr>\n",
       "    <tr>\n",
       "      <th>7543</th>\n",
       "      <td>49.0</td>\n",
       "      <td>[{'text': '1 Parking'}, {'text': '2 ATMs'}, {'...</td>\n",
       "    </tr>\n",
       "    <tr>\n",
       "      <th>2722</th>\n",
       "      <td>49.0</td>\n",
       "      <td>[{'text': '2 Shoppings'}, {'text': '4 Religiou...</td>\n",
       "    </tr>\n",
       "    <tr>\n",
       "      <th>1946</th>\n",
       "      <td>4.0</td>\n",
       "      <td>[{'text': '1 Shopping'}, {'text': '3 Miscellan...</td>\n",
       "    </tr>\n",
       "    <tr>\n",
       "      <th>3523</th>\n",
       "      <td>8.0</td>\n",
       "      <td>[{'text': '1 Railway Station'}, {'text': '1 Me...</td>\n",
       "    </tr>\n",
       "    <tr>\n",
       "      <th>3321</th>\n",
       "      <td>1.0</td>\n",
       "      <td>[{'text': '1 Connectivity'}]</td>\n",
       "    </tr>\n",
       "    <tr>\n",
       "      <th>1353</th>\n",
       "      <td>50.0</td>\n",
       "      <td>[{'text': '11 Religious Places'}, {'text': '25...</td>\n",
       "    </tr>\n",
       "  </tbody>\n",
       "</table>\n",
       "</div>"
      ],
      "text/plain": [
       "      TOTAL_LANDMARK_COUNT                         FORMATTED_LANDMARK_DETAILS\n",
       "565                   50.0  [{'text': '1 Parking'}, {'text': '1 Religious ...\n",
       "7543                  49.0  [{'text': '1 Parking'}, {'text': '2 ATMs'}, {'...\n",
       "2722                  49.0  [{'text': '2 Shoppings'}, {'text': '4 Religiou...\n",
       "1946                   4.0  [{'text': '1 Shopping'}, {'text': '3 Miscellan...\n",
       "3523                   8.0  [{'text': '1 Railway Station'}, {'text': '1 Me...\n",
       "3321                   1.0                       [{'text': '1 Connectivity'}]\n",
       "1353                  50.0  [{'text': '11 Religious Places'}, {'text': '25..."
      ]
     },
     "execution_count": 21,
     "metadata": {},
     "output_type": "execute_result"
    }
   ],
   "source": [
    "df[['TOTAL_LANDMARK_COUNT', 'FORMATTED_LANDMARK_DETAILS']].sample(7)"
   ]
  },
  {
   "cell_type": "code",
   "execution_count": 22,
   "metadata": {},
   "outputs": [
    {
     "data": {
      "text/plain": [
       "array(['READY TO MOVE', 'RESALE', 'CORNER PROPERTY', 'NORTH-EAST FACING',\n",
       "       'CIDC APPROVED', 'FURNISHED', 'PRIVATE ROOM', 'SHARED BY 2',\n",
       "       'SHARED BY 3', 'SHARED BY 4', 'RERA', 'FOR SINGLE MEN',\n",
       "       'FOR SINGLE WOMEN', 'SHARED BY 5', 'UNDER CONSTRUCTION',\n",
       "       'NEW BOOKING', 'NEW LAUNCH', 'NORTH FACING', 'IN GATED COMMUNITY',\n",
       "       nan, 'EAST FACING', 'AUTHORITY APPROVED', 'MMRDA APPROVED',\n",
       "       'RCUDA APPROVED', 'MCGM APPROVED'], dtype=object)"
      ]
     },
     "execution_count": 22,
     "metadata": {},
     "output_type": "execute_result"
    }
   ],
   "source": [
    "df['SECONDARY_TAGS'].apply(literal_eval).explode().unique()"
   ]
  },
  {
   "cell_type": "code",
   "execution_count": 23,
   "metadata": {},
   "outputs": [
    {
     "data": {
      "text/plain": [
       "[{'LATITUDE': '18.94145', 'LONGITUDE': '73.18034'},\n",
       " {'LATITUDE': '19.171174', 'LONGITUDE': '72.850939'},\n",
       " {'LATITUDE': '19.185427', 'LONGITUDE': '72.944615'},\n",
       " {'LATITUDE': '19.28188', 'LONGITUDE': '72.886298'},\n",
       " {'LATITUDE': '19.083187492096', 'LONGITUDE': '72.999368263955'},\n",
       " {'LATITUDE': '19.221539', 'LONGITUDE': '72.8614303'},\n",
       " {'LATITUDE': '19.03443', 'LONGITUDE': '72.85758'}]"
      ]
     },
     "execution_count": 23,
     "metadata": {},
     "output_type": "execute_result"
    }
   ],
   "source": [
    "df['MAP_DETAILS'].sample(7).apply(literal_eval).tolist()"
   ]
  },
  {
   "cell_type": "code",
   "execution_count": 24,
   "metadata": {},
   "outputs": [
    {
     "data": {
      "text/plain": [
       "7479                                                  NaN\n",
       "5243    17,5,21,32,44,45,24,47,39,29,19,6,9,40,41,42,3...\n",
       "8334    10,32,17,5,8,20,21,44,23,45,24,46,47,29,30,39,...\n",
       "8876    17,2,5,20,21,44,23,45,46,29,6,9,40,41,42,26,31...\n",
       "1274                                                  NaN\n",
       "187                              2,21,32,23,6,39,19,9,103\n",
       "796     10,32,17,5,8,20,21,44,23,45,24,46,29,30,19,1,6...\n",
       "Name: AMENITIES, dtype: object"
      ]
     },
     "execution_count": 24,
     "metadata": {},
     "output_type": "execute_result"
    }
   ],
   "source": [
    "df['AMENITIES'].sample(7)"
   ]
  },
  {
   "cell_type": "code",
   "execution_count": 25,
   "metadata": {},
   "outputs": [
    {
     "data": {
      "text/plain": [
       "6268    11.0\n",
       "6166     NaN\n",
       "1546     NaN\n",
       "3035     6.0\n",
       "8671     9.0\n",
       "7696    15.0\n",
       "403     17.0\n",
       "Name: AMENITIES, dtype: float64"
      ]
     },
     "execution_count": 25,
     "metadata": {},
     "output_type": "execute_result"
    }
   ],
   "source": [
    "df['AMENITIES'].sample(7).str.split(',').str.len()"
   ]
  },
  {
   "cell_type": "code",
   "execution_count": 26,
   "metadata": {},
   "outputs": [
    {
     "data": {
      "text/plain": [
       "AGE\n",
       "5    3812\n",
       "1    2027\n",
       "6    1414\n",
       "3    1106\n",
       "2    1090\n",
       "0      65\n",
       "Name: count, dtype: int64"
      ]
     },
     "execution_count": 26,
     "metadata": {},
     "output_type": "execute_result"
    }
   ],
   "source": [
    "df['AGE'].value_counts()"
   ]
  },
  {
   "cell_type": "markdown",
   "metadata": {},
   "source": [
    "### FACING\n",
    "\n",
    "| id  | label      |\n",
    "| --- | ---------- |\n",
    "| 1   | North      |\n",
    "| 2   | South      |\n",
    "| 3   | East       |\n",
    "| 4   | West       |\n",
    "| 5   | North-East |\n",
    "| 6   | North-West |\n",
    "| 7   | South-East |\n",
    "| 8   | South-West |\n",
    "\n",
    "**Maybe `0` means `NaN | Undefined`**"
   ]
  },
  {
   "cell_type": "code",
   "execution_count": 27,
   "metadata": {},
   "outputs": [
    {
     "data": {
      "text/plain": [
       "FACING\n",
       "0    5376\n",
       "3    1814\n",
       "5     821\n",
       "4     562\n",
       "1     354\n",
       "2     176\n",
       "6     155\n",
       "7     132\n",
       "8     124\n",
       "Name: count, dtype: int64"
      ]
     },
     "execution_count": 27,
     "metadata": {},
     "output_type": "execute_result"
    }
   ],
   "source": [
    "df['FACING'].value_counts()"
   ]
  },
  {
   "cell_type": "code",
   "execution_count": 28,
   "metadata": {},
   "outputs": [
    {
     "data": {
      "text/plain": [
       "[{'CITY': '15',\n",
       "  'CITY_NAME': 'Navi Mumbai',\n",
       "  'BUILDING_ID': '13902',\n",
       "  'BUILDING_NAME': 'Haware Glory',\n",
       "  'SOCIETY_NAME': 'Haware Glory',\n",
       "  'LOCALITY_ID': '1064',\n",
       "  'LOCALITY_NAME': 'Kharghar',\n",
       "  'ADDRESS': None},\n",
       " {'CITY': '218',\n",
       "  'CITY_NAME': 'Mumbai Andheri-Dahisar',\n",
       "  'BUILDING_ID': '0',\n",
       "  'BUILDING_NAME': 'vahatuk nagar housing society ',\n",
       "  'SOCIETY_NAME': 'vahatuk nagar housing society ',\n",
       "  'LOCALITY_ID': '1162',\n",
       "  'LOCALITY_NAME': 'Amboli',\n",
       "  'ADDRESS': None},\n",
       " {'CITY': '15',\n",
       "  'CITY_NAME': 'Navi Mumbai',\n",
       "  'BUILDING_ID': '12826',\n",
       "  'BUILDING_NAME': 'Devkrupa Dev Enclave',\n",
       "  'SOCIETY_NAME': 'Devkrupa Dev Enclave',\n",
       "  'LOCALITY_ID': '28935',\n",
       "  'LOCALITY_NAME': 'Sector 35E Kharghar',\n",
       "  'ADDRESS': None}]"
      ]
     },
     "execution_count": 28,
     "metadata": {},
     "output_type": "execute_result"
    }
   ],
   "source": [
    "df['location'].sample(3).apply(literal_eval).tolist()"
   ]
  },
  {
   "cell_type": "code",
   "execution_count": 29,
   "metadata": {},
   "outputs": [],
   "source": [
    "# df['SOCIETY_NAME'] = df['location'].apply(literal_eval).str.get('SOCIETY_NAME')\n",
    "# df['LOCALITY_NAME'] = df['location'].apply(literal_eval).str.get('LOCALITY_NAME')\n",
    "# df['CITY_NAME'] = df['location'].apply(literal_eval).str.get('CITY_NAME')"
   ]
  },
  {
   "cell_type": "code",
   "execution_count": 30,
   "metadata": {},
   "outputs": [
    {
     "data": {
      "text/plain": [
       "2109                  4 BHK Flat in Worli\n",
       "4628            3 BHK Flat in Mulund West\n",
       "7336               3 BHK Flat in Kharghar\n",
       "1675               2 BHK Flat in Ghansoli\n",
       "6480             2 BHK Flat in New Panvel\n",
       "6959    2 BHK Flat in Hatkesh Udhog Nagar\n",
       "2592           1 BHK Flat in Vartak Nagar\n",
       "Name: PROP_HEADING, dtype: object"
      ]
     },
     "execution_count": 30,
     "metadata": {},
     "output_type": "execute_result"
    }
   ],
   "source": [
    "df['PROP_HEADING'].sample(7)"
   ]
  },
  {
   "cell_type": "code",
   "execution_count": 31,
   "metadata": {},
   "outputs": [
    {
     "data": {
      "text/plain": [
       "7517    A spacious 3 bhk flat for rent is available in...\n",
       "364     Good location nice view other details please c...\n",
       "5701    LK Vivanta is a residential project, offering ...\n",
       "2818    Apartment available for rent in mankhurd, mumb...\n",
       "1673    This well-known project offers 1 BHK apartment...\n",
       "3076    This well-known project offers 2 BHK apartment...\n",
       "337     Co-Living spaces available in powai, mumbai!\\n...\n",
       "Name: DESCRIPTION, dtype: object"
      ]
     },
     "execution_count": 31,
     "metadata": {},
     "output_type": "execute_result"
    }
   ],
   "source": [
    "df['DESCRIPTION'].sample(7)"
   ]
  },
  {
   "cell_type": "code",
   "execution_count": 32,
   "metadata": {},
   "outputs": [
    {
     "data": {
      "text/plain": [
       "PROPERTY_TYPE\n",
       "Residential Apartment        9126\n",
       "Studio Apartment              137\n",
       "Independent House/Villa       108\n",
       "Residential Land               60\n",
       "Serviced Apartments            44\n",
       "Independent/Builder Floor      34\n",
       "Farm House                      5\n",
       "Name: count, dtype: int64"
      ]
     },
     "execution_count": 32,
     "metadata": {},
     "output_type": "execute_result"
    }
   ],
   "source": [
    "df['PROPERTY_TYPE'].value_counts()"
   ]
  },
  {
   "cell_type": "code",
   "execution_count": 33,
   "metadata": {},
   "outputs": [
    {
     "data": {
      "text/plain": [
       "2727    Gee Villa Society R.H.No.12A Sec-2b Airoli\n",
       "4768                                     Hillcrest\n",
       "1002                               Nestaway-324126\n",
       "6550                                 Romell Allure\n",
       "4580                             Millenium Infinia\n",
       "6488                                 Sheth 72 West\n",
       "4566                   venkateshwara chs ghansoli,\n",
       "Name: PROP_NAME, dtype: object"
      ]
     },
     "execution_count": 33,
     "metadata": {},
     "output_type": "execute_result"
    }
   ],
   "source": [
    "df['PROP_NAME'].sample(7)"
   ]
  },
  {
   "cell_type": "code",
   "execution_count": 34,
   "metadata": {},
   "outputs": [
    {
     "data": {
      "text/plain": [
       "BALCONY_NUM\n",
       "0.0    2019\n",
       "1.0    1497\n",
       "2.0     736\n",
       "3.0     580\n",
       "4.0     325\n",
       "Name: count, dtype: int64"
      ]
     },
     "execution_count": 34,
     "metadata": {},
     "output_type": "execute_result"
    }
   ],
   "source": [
    "df['BALCONY_NUM'].value_counts()"
   ]
  },
  {
   "cell_type": "code",
   "execution_count": 35,
   "metadata": {},
   "outputs": [
    {
     "data": {
      "text/plain": [
       "FLOOR_NUM\n",
       "1     4651\n",
       "3      486\n",
       "2      413\n",
       "4      397\n",
       "5      351\n",
       "7      301\n",
       "6      292\n",
       "10     253\n",
       "9      211\n",
       "8      206\n",
       "Name: count, dtype: int64"
      ]
     },
     "execution_count": 35,
     "metadata": {},
     "output_type": "execute_result"
    }
   ],
   "source": [
    "df['FLOOR_NUM'].value_counts()[:10]"
   ]
  },
  {
   "cell_type": "code",
   "execution_count": 36,
   "metadata": {},
   "outputs": [
    {
     "data": {
      "text/plain": [
       "BEDROOM_NUM\n",
       "2.0     3773\n",
       "3.0     2394\n",
       "1.0     2341\n",
       "4.0      749\n",
       "5.0      129\n",
       "6.0       40\n",
       "7.0        6\n",
       "8.0        5\n",
       "10.0       4\n",
       "15.0       3\n",
       "9.0        3\n",
       "30.0       2\n",
       "60.0       2\n",
       "40.0       1\n",
       "50.0       1\n",
       "Name: count, dtype: int64"
      ]
     },
     "execution_count": 36,
     "metadata": {},
     "output_type": "execute_result"
    }
   ],
   "source": [
    "df['BEDROOM_NUM'].value_counts()"
   ]
  },
  {
   "cell_type": "code",
   "execution_count": 37,
   "metadata": {},
   "outputs": [
    {
     "data": {
      "text/plain": [
       "TOTAL_FLOOR\n",
       "20.0    757\n",
       "7.0     663\n",
       "22.0    357\n",
       "15.0    350\n",
       "23.0    346\n",
       "14.0    330\n",
       "16.0    302\n",
       "4.0     297\n",
       "13.0    284\n",
       "18.0    278\n",
       "Name: count, dtype: int64"
      ]
     },
     "execution_count": 37,
     "metadata": {},
     "output_type": "execute_result"
    }
   ],
   "source": [
    "df['TOTAL_FLOOR'].value_counts().iloc[:10]"
   ]
  },
  {
   "cell_type": "code",
   "execution_count": null,
   "metadata": {},
   "outputs": [],
   "source": []
  }
 ],
 "metadata": {
  "kernelspec": {
   "display_name": "Python 3 (ipykernel)",
   "language": "python",
   "name": "python3"
  },
  "language_info": {
   "codemirror_mode": {
    "name": "ipython",
    "version": 3
   },
   "file_extension": ".py",
   "mimetype": "text/x-python",
   "name": "python",
   "nbconvert_exporter": "python",
   "pygments_lexer": "ipython3",
   "version": "3.12.9"
  }
 },
 "nbformat": 4,
 "nbformat_minor": 4
}
